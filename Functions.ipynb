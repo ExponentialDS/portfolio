{
 "cells": [
  {
   "cell_type": "markdown",
   "metadata": {},
   "source": [
    "## Defining a Function"
   ]
  },
  {
   "cell_type": "code",
   "execution_count": null,
   "metadata": {},
   "outputs": [],
   "source": [
    "def geet_user():\n",
    "    \"Display a simple greeting\"\n",
    "    print(\"Hello\")\n",
    "    \n",
    "geet_user()"
   ]
  },
  {
   "cell_type": "markdown",
   "metadata": {},
   "source": [
    "# Passing information to a Function "
   ]
  },
  {
   "cell_type": "code",
   "execution_count": null,
   "metadata": {},
   "outputs": [],
   "source": [
    "def geet_user(username):\n",
    "    \"Display a simple greeting\"\n",
    "    print(\"Hello, \" + username.title())\n",
    "    \n",
    "geet_user('chris')"
   ]
  },
  {
   "cell_type": "code",
   "execution_count": null,
   "metadata": {},
   "outputs": [],
   "source": [
    "def display_message():\n",
    "    \"Learn about functions\"\n",
    "    print(\"Functions help speed up things in the long term\")\n",
    "    \n",
    "display_message()"
   ]
  },
  {
   "cell_type": "code",
   "execution_count": null,
   "metadata": {},
   "outputs": [],
   "source": [
    "def favourite_book(title):\n",
    "    print(\"My favourite book is \" + title.title())\n",
    "    \n",
    "favourite_book('dune')"
   ]
  },
  {
   "cell_type": "markdown",
   "metadata": {},
   "source": [
    "## Positional Arguments "
   ]
  },
  {
   "cell_type": "code",
   "execution_count": null,
   "metadata": {},
   "outputs": [],
   "source": [
    "def describe_pet(animal_type, pet_name):\n",
    "    \"Display information about a pet\"\n",
    "    print(\"I have a \" + animal_type)\n",
    "    print(\"The pet is called \" + pet_name.title())\n",
    "    \n",
    "describe_pet('dog', 'larry')"
   ]
  },
  {
   "cell_type": "markdown",
   "metadata": {},
   "source": [
    "## Multiple Funcation Calls"
   ]
  },
  {
   "cell_type": "code",
   "execution_count": null,
   "metadata": {},
   "outputs": [],
   "source": [
    "def describe_pet(animal_type, pet_name):\n",
    "    \"Display information about a pet\"\n",
    "    print(\"I have a \" + animal_type)\n",
    "    print(\"The pet is called \" + pet_name.title())\n",
    "    \n",
    "describe_pet('dog', 'larry')\n",
    "describe_pet('cat', 'sam')"
   ]
  },
  {
   "cell_type": "code",
   "execution_count": null,
   "metadata": {},
   "outputs": [],
   "source": [
    "def describe_pet(animal_type, pet_name):\n",
    "    \"Display information about a pet\"\n",
    "    print(\"I have a \" + animal_type)\n",
    "    print(\"The pet is called \" + pet_name.title())\n",
    "    \n",
    "describe_pet(animal_type = 'dog', pet_name = 'sam')\n"
   ]
  },
  {
   "cell_type": "code",
   "execution_count": null,
   "metadata": {},
   "outputs": [],
   "source": [
    "describe_pet('willie', animal_type)"
   ]
  },
  {
   "cell_type": "code",
   "execution_count": null,
   "metadata": {},
   "outputs": [],
   "source": [
    "def make_shirt(size, message):\n",
    "    print(\"The shirt should be \" + size)\n",
    "    print(\"Please print on the t-shirt: \" + message)\n",
    "    \n",
    "make_shirt('medium', \"\\nLong live Starfleet\")"
   ]
  },
  {
   "cell_type": "code",
   "execution_count": null,
   "metadata": {},
   "outputs": [],
   "source": [
    "make_shirt('large', \"\\n I love Python\")"
   ]
  },
  {
   "cell_type": "code",
   "execution_count": null,
   "metadata": {},
   "outputs": [],
   "source": [
    "def describe_city(city, country='ireland'):\n",
    "    print(city + \" is in \" + country)\n",
    "    \n",
    "describe_city('dublin', 'ireland')\n",
    "describe_city('galway')\n",
    "describe_city('cork')\n",
    "describe_city('london', country='uk')"
   ]
  },
  {
   "cell_type": "markdown",
   "metadata": {},
   "source": [
    "## Returning a simple value "
   ]
  },
  {
   "cell_type": "code",
   "execution_count": null,
   "metadata": {},
   "outputs": [],
   "source": [
    "def get_formatted_name(first_name, last_name):\n",
    "    full_name = first_name.title() + last_name.title()\n",
    "    return full_name\n",
    "person = get_formatted_name('chris', 'finn')\n",
    "print(person)"
   ]
  },
  {
   "cell_type": "markdown",
   "metadata": {},
   "source": [
    "# Making an Argument Optional "
   ]
  },
  {
   "cell_type": "code",
   "execution_count": null,
   "metadata": {},
   "outputs": [],
   "source": [
    "def get_formatted_name(first_name, last_name, middle_name=''):\n",
    "    \"Return a full formatted name\"\n",
    "    \n",
    "    full_name = first_name.title() + ' ' + middle_name.title() + ' ' + last_name.title()\n",
    "    return full_name\n",
    "person = get_formatted_name('chris', 'kevin', 'finn')\n",
    "print(person)"
   ]
  },
  {
   "cell_type": "code",
   "execution_count": null,
   "metadata": {},
   "outputs": [],
   "source": [
    "def get_formatted_name(first_name, last_name, middle_name=''):\n",
    "    \"Return a full formatted name\"\n",
    "    if middle_name:\n",
    "        full_name = first_name.title() + ' ' + middle_name.title() + ' ' + last_name.title()\n",
    "    else:\n",
    "        full_name = first_name.title() + ' ' + last_name.title()\n",
    "    return full_name\n",
    "person = get_formatted_name('chris', 'finn')\n",
    "print(person)"
   ]
  },
  {
   "cell_type": "markdown",
   "metadata": {},
   "source": [
    "## Returning a Dictionary"
   ]
  },
  {
   "cell_type": "code",
   "execution_count": null,
   "metadata": {},
   "outputs": [],
   "source": [
    "def build_person(first_name, last_name):\n",
    "    \"Return a dictionary of information about a person\"\n",
    "    person = {'first': first_name, 'last': last_name}\n",
    "    return person\n",
    "\n",
    "musician = build_person('daniel', 'odonnell')\n",
    "print(musician)"
   ]
  },
  {
   "cell_type": "code",
   "execution_count": 9,
   "metadata": {},
   "outputs": [
    {
     "name": "stdout",
     "output_type": "stream",
     "text": [
      "{'first': 'daniel', 'last': 'odonnell', 'age': 27}\n"
     ]
    }
   ],
   "source": [
    "def build_person(first_name, last_name, age=''):\n",
    "    \"Return a dictionary of information about a person\"\n",
    "    person = {'first': first_name, 'last': last_name}\n",
    "    if age:\n",
    "        person['age'] = age\n",
    "    return person\n",
    "\n",
    "musician = build_person('daniel', 'odonnell', age=27)\n",
    "print(musician)"
   ]
  },
  {
   "cell_type": "markdown",
   "metadata": {},
   "source": [
    "## Using a function with a while Loop"
   ]
  },
  {
   "cell_type": "code",
   "execution_count": null,
   "metadata": {},
   "outputs": [],
   "source": [
    "def get_formatted_name(first_name, last_name):\n",
    "    \"Return a full name, neatly formatted\"\n",
    "    full_name = first_name + ' ' + last_name \n",
    "    return full_name.title()\n",
    "\n",
    "#This is an infinite loop\n",
    "while True:\n",
    "    print(\"\\n Please tell me your name:\")\n",
    "    f_name = input(\"First name: \")\n",
    "    l_name = input(\"Last name: \")\n",
    "    \n",
    "    formatted_name = get_formatted_name(f_name, l_name)\n",
    "    print(\"\\n Hello, \" + formatted_name + \"!\")"
   ]
  },
  {
   "cell_type": "code",
   "execution_count": null,
   "metadata": {},
   "outputs": [],
   "source": [
    "get_formatted_name('jimmy', 'jones')"
   ]
  },
  {
   "cell_type": "code",
   "execution_count": 6,
   "metadata": {},
   "outputs": [
    {
     "data": {
      "text/plain": [
       "'Santiago, Chile'"
      ]
     },
     "execution_count": 6,
     "metadata": {},
     "output_type": "execute_result"
    }
   ],
   "source": [
    "def city_name(city, country):\n",
    "    output =  city.title() + \", \" + country.title()\n",
    "    return output\n",
    "\n",
    "city_name('santiago', 'chile')"
   ]
  },
  {
   "cell_type": "code",
   "execution_count": 8,
   "metadata": {},
   "outputs": [
    {
     "data": {
      "text/plain": [
       "'London, UK'"
      ]
     },
     "execution_count": 8,
     "metadata": {},
     "output_type": "execute_result"
    }
   ],
   "source": [
    "def city_name(city, country):\n",
    "    output =  city.title() + \", \" + country.upper()\n",
    "    return output\n",
    "\n",
    "city_name('london', 'uk')"
   ]
  },
  {
   "cell_type": "code",
   "execution_count": 7,
   "metadata": {},
   "outputs": [
    {
     "name": "stdout",
     "output_type": "stream",
     "text": [
      "{'songname': 'stay', 'artist': 'east17', 'year': '2002'}\n"
     ]
    }
   ],
   "source": [
    "def make_album(name, artist, year):\n",
    "    musicoutput = {'songname': name, 'artist': artist, 'year' : year}\n",
    "    return musicoutput\n",
    "\n",
    "artist = make_album('stay', 'east17', '2002')\n",
    "print(artist)"
   ]
  },
  {
   "cell_type": "code",
   "execution_count": 9,
   "metadata": {},
   "outputs": [
    {
     "name": "stdout",
     "output_type": "stream",
     "text": [
      "{'songname': 'sexual healing', 'artist': 'barry white', 'year': '1982'}\n"
     ]
    }
   ],
   "source": [
    "def make_album(name, artist, year):\n",
    "    musicoutput = {'songname': name, 'artist': artist, 'year' : year}\n",
    "    return musicoutput\n",
    "\n",
    "artist2 = make_album('sexual healing', 'barry white', '1982')\n",
    "print(artist2)"
   ]
  },
  {
   "cell_type": "code",
   "execution_count": 10,
   "metadata": {},
   "outputs": [
    {
     "name": "stdout",
     "output_type": "stream",
     "text": [
      "{'songname': 'ole ole', 'artist': '90s ', 'year': '1990'}\n"
     ]
    }
   ],
   "source": [
    "def make_album(name, artist, year):\n",
    "    musicoutput = {'songname': name, 'artist': artist, 'year' : year}\n",
    "    return musicoutput\n",
    "\n",
    "artist3 = make_album('ole ole', '90s ', '1990')\n",
    "print(artist3)"
   ]
  },
  {
   "cell_type": "markdown",
   "metadata": {},
   "source": [
    "## Passing a List "
   ]
  },
  {
   "cell_type": "code",
   "execution_count": 22,
   "metadata": {},
   "outputs": [
    {
     "name": "stdout",
     "output_type": "stream",
     "text": [
      "Hello, Chris!\n",
      "Hello, John!\n",
      "Hello, Sammy!\n"
     ]
    }
   ],
   "source": [
    "def greet_users(names):\n",
    "    for name in names:\n",
    "        msg = \"Hello, \" + name.title() + \"!\"\n",
    "        print(msg)\n",
    "            \n",
    "\n",
    "usernames = ['chris', 'john', 'sammy']           \n",
    "greet_users(usernames)"
   ]
  },
  {
   "cell_type": "code",
   "execution_count": null,
   "metadata": {},
   "outputs": [],
   "source": []
  }
 ],
 "metadata": {
  "kernelspec": {
   "display_name": "Python 3",
   "language": "python",
   "name": "python3"
  },
  "language_info": {
   "codemirror_mode": {
    "name": "ipython",
    "version": 3
   },
   "file_extension": ".py",
   "mimetype": "text/x-python",
   "name": "python",
   "nbconvert_exporter": "python",
   "pygments_lexer": "ipython3",
   "version": "3.7.0"
  }
 },
 "nbformat": 4,
 "nbformat_minor": 2
}
