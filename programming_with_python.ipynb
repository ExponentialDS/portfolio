{
 "cells": [
  {
   "cell_type": "markdown",
   "metadata": {},
   "source": [
    "# Programming with Python\n",
    "\n",
    "This notebook is designed to help cement your knowledge of Python syntax and methods. As you complete each challenge, you will practise foundational programming skills and develop your computational thinking abilities.\n",
    "\n",
    "The comments are there to guide you - read them carefully, but don't feel limited to them. We strongly encourage experimentation and additional commenting."
   ]
  },
  {
   "cell_type": "markdown",
   "metadata": {},
   "source": [
    "## Variables\n",
    "\n",
    "A variable is a **named** place to store a **value** that can **change**.\n",
    "\n",
    "Variables can have almost any name, as long as it is a single word (no spaces or punctuation), does not begin with a number, and is not a word that Python already knows."
   ]
  },
  {
   "cell_type": "code",
   "execution_count": 8,
   "metadata": {},
   "outputs": [
    {
     "name": "stdout",
     "output_type": "stream",
     "text": [
      "Enter a word: coding\n",
      "coding\n"
     ]
    }
   ],
   "source": [
    "# Assigning a number to a variable\n",
    "\n",
    "c = 25\n",
    "\n",
    "# Addding 1 to a variable\n",
    "\n",
    "c = 4000\n",
    "c + 1 \n",
    "\n",
    "c = c + 1\n",
    "\n",
    "# Assigning a variable based on user input \n",
    "\n",
    "C_ = input(\"Enter a word: \")\n",
    "\n",
    "# Displaying a variable\n",
    "\n",
    "print(C_)"
   ]
  },
  {
   "cell_type": "markdown",
   "metadata": {},
   "source": [
    "### Challenge 1\n",
    "\n",
    "- Assign numbers to two different variables\n",
    "- Multiply the numbers and assign the result to a third variable\n",
    "- Display the value of the third variable"
   ]
  },
  {
   "cell_type": "code",
   "execution_count": 10,
   "metadata": {
    "scrolled": true
   },
   "outputs": [
    {
     "data": {
      "text/plain": [
       "156"
      ]
     },
     "execution_count": 10,
     "metadata": {},
     "output_type": "execute_result"
    }
   ],
   "source": [
    "c1 = 12\n",
    "c2 = 13\n",
    "\n",
    "c3 = c1 * c2\n",
    "\n",
    "c3"
   ]
  },
  {
   "cell_type": "markdown",
   "metadata": {},
   "source": [
    "## Data types\n",
    "\n",
    "Different kinds of information are stored as different variable types. Python recognises several different data basic types:\n",
    "\n",
    "* String - collection of characters e.g. \"hellow\", \"44\", \"!.x//\" \n",
    "* Integer - whole number. e.g. 3, -120, 34343, 0, etc. \n",
    "* Float - decimal number, e.g. 1.744, 2.0, -100.002\n",
    "* Boolean - True, False\n",
    "\n",
    "Certain operations - like addition - work differently on different data types, so it is important to be clear on what type of value you have."
   ]
  },
  {
   "cell_type": "code",
   "execution_count": 11,
   "metadata": {},
   "outputs": [
    {
     "data": {
      "text/plain": [
       "int"
      ]
     },
     "execution_count": 11,
     "metadata": {},
     "output_type": "execute_result"
    }
   ],
   "source": [
    "# Assigning a string to a variable\n",
    "\n",
    "\n",
    "my_string = \"Hi Dan\"\n",
    "\n",
    "\n",
    "# Converting an integer to a string and storing the string in a variable\n",
    "\n",
    "num = 43\n",
    "num_str = str(43)\n",
    "\n",
    "type(num)\n",
    "\n",
    "\n",
    "\n",
    "# Converting a string to an integer and storing the integer in a variable\n",
    "\n",
    "\n",
    "\n",
    "int_str = int(\"31\")\n"
   ]
  },
  {
   "cell_type": "markdown",
   "metadata": {},
   "source": [
    "### Challenge 2\n",
    "\n",
    "- Prompt the user to enter a number\n",
    "- Store the number as an integer in a variable\n",
    "- multiply the number by 7 and store the result in the same variable\n",
    "- Display a sentence about the number, including the number"
   ]
  },
  {
   "cell_type": "code",
   "execution_count": 12,
   "metadata": {},
   "outputs": [
    {
     "name": "stdout",
     "output_type": "stream",
     "text": [
      "Enter a number: 3\n",
      "3\n",
      "21\n",
      "my number is  21\n"
     ]
    }
   ],
   "source": [
    "\n",
    "\n",
    "num = input(\"Enter a number: \")\n",
    "num = int(num)\n",
    "\n",
    "print(num)\n",
    "\n",
    "num2 = num *7\n",
    "\n",
    "print(num2)\n",
    "\n",
    "num_str = str(num2)\n",
    "\n",
    "print(\"my number is \" ,  num_str)\n",
    "\n",
    "\n"
   ]
  },
  {
   "cell_type": "markdown",
   "metadata": {},
   "source": [
    "## Loops\n",
    "\n",
    "**Repeat** a **block** of code\n",
    "\n",
    "A FOR loop is used when you know how many times you need to loop.\n",
    "\n",
    "A WHILE loop is used when you are not sure how many times you will need to loop."
   ]
  },
  {
   "cell_type": "code",
   "execution_count": 26,
   "metadata": {},
   "outputs": [
    {
     "name": "stdout",
     "output_type": "stream",
     "text": [
      "10\n",
      "20\n",
      "40\n",
      "80\n",
      "160\n",
      "320\n",
      "640\n",
      "1280\n",
      "2560\n",
      "5120\n",
      "10240\n",
      "20480\n",
      "40960\n"
     ]
    }
   ],
   "source": [
    "# A FOR loop that counts from 1 to 10, printing out each number\n",
    "\n",
    "#for means we about to start something\n",
    "\n",
    "#i is a temporal variable\n",
    "\n",
    "#range creates a list of numbers \n",
    "\n",
    "#e.g. range(1,5) is [1,2,3,4]\n",
    "\n",
    "# for i in range(1,1000):\n",
    "    # print(i)\n",
    "\n",
    "#print(list(range(1000)))\n",
    "\n",
    "    \n",
    "# A WHILE loop that runs until a number is greater than 1000, doubling the number each time\n",
    "\n",
    "\n",
    "num = 10\n",
    "while num <50000:\n",
    "    print(num)\n",
    "    \n",
    "    if num > 30000:\n",
    "        break\n",
    "    num = num *2\n",
    "\n"
   ]
  },
  {
   "cell_type": "markdown",
   "metadata": {},
   "source": [
    "### Challenge 3\n",
    "\n",
    "- Create a loop that counts from a user-entered number to a higher user-entered number"
   ]
  },
  {
   "cell_type": "code",
   "execution_count": 5,
   "metadata": {},
   "outputs": [
    {
     "name": "stdout",
     "output_type": "stream",
     "text": [
      "Enter a number: 3\n",
      "Enter a number: 20\n",
      "3\n",
      "4\n",
      "5\n",
      "6\n",
      "7\n",
      "8\n",
      "9\n",
      "10\n",
      "11\n",
      "12\n",
      "13\n",
      "14\n",
      "15\n",
      "16\n",
      "17\n",
      "18\n",
      "19\n"
     ]
    }
   ],
   "source": [
    "num1 = input(\"Enter a number: \")\n",
    "num2 = input(\"Enter a number: \")\n",
    "num1 = int(num1)\n",
    "num2 = int(num2)\n",
    "for i in range(num1,num2):\n",
    "    print(i)\n",
    "     "
   ]
  },
  {
   "cell_type": "markdown",
   "metadata": {},
   "source": [
    "### Challenge 4\n",
    "\n",
    "- Prompt the user to enter an integer\n",
    "- Keep prompting until the user enters a string of at least 4 characters"
   ]
  },
  {
   "cell_type": "code",
   "execution_count": 6,
   "metadata": {},
   "outputs": [
    {
     "name": "stdout",
     "output_type": "stream",
     "text": [
      "Enter a word: adafdjklad\n"
     ]
    }
   ],
   "source": [
    "word = input(\"Enter a word: \")\n",
    "while len(word) <4:\n",
    "    word = input(\"Enter a word: \")"
   ]
  },
  {
   "cell_type": "code",
   "execution_count": null,
   "metadata": {},
   "outputs": [],
   "source": []
  },
  {
   "cell_type": "markdown",
   "metadata": {},
   "source": [
    "## Conditionals\n",
    "\n",
    "**Direct** a process based on **logic**\n",
    "\n",
    "IF statements evaluate logical statements, and then do different things based on whether the statements are  `True` or `False`.\n",
    "\n",
    "Every IF statement begins with an `if`.\n",
    "\n",
    "You can have as many `elif` statements as you want.\n",
    "\n",
    "If you have an `else` in your statement, it has to come at the end. `else` does not have a condition."
   ]
  },
  {
   "cell_type": "code",
   "execution_count": 8,
   "metadata": {},
   "outputs": [
    {
     "name": "stdout",
     "output_type": "stream",
     "text": [
      "Enter a number: 1\n",
      "lower\n"
     ]
    }
   ],
   "source": [
    "# An IF statement that prints out \"higher\" if a user-entered number is greater than 3\n",
    "\n",
    "\n",
    "num = int(input(\"Enter a number: \"))\n",
    "\n",
    "\n",
    "if num > 3:\n",
    "    print('higher')\n",
    "    \n",
    "elif num ==3:\n",
    "    print('right on!')\n",
    "\n",
    "else:\n",
    "    print(\"lower\")\n",
    "\n",
    "\n",
    "# An IF statement including both elif and else\n",
    "\n"
   ]
  },
  {
   "cell_type": "markdown",
   "metadata": {},
   "source": [
    "### Challenge 5\n",
    "\n",
    "- Prompt the user for an animal\n",
    "- If the animal is a cat, print \"meow\"\n",
    "- If the animal is a dog, print \"woof\"\n",
    "- In all other situations, print \"squawk\""
   ]
  },
  {
   "cell_type": "code",
   "execution_count": 25,
   "metadata": {},
   "outputs": [
    {
     "name": "stdout",
     "output_type": "stream",
     "text": [
      "Enter a word: roger\n",
      "squawk\n"
     ]
    }
   ],
   "source": [
    "word = input(\"Enter a word: \")\n",
    "\n",
    "if word== \"cat\":\n",
    "    print('meow')\n",
    "\n",
    "elif word == \"dog\":\n",
    "    print('woof')\n",
    "\n",
    "else:\n",
    "\n",
    "    print(\"squawk\")\n"
   ]
  },
  {
   "cell_type": "markdown",
   "metadata": {},
   "source": [
    "### Challenge 6\n",
    "\n",
    "- Prompt the user for an integer\n",
    "- If the number is less than 17 and greater than 4, print \"just right\"\n",
    "- If the number is greater than 17 or under 0, print \"wrong size\"\n",
    "- If the number is exactly 3, print \"too three\"\n",
    "- In all other cases, print the number as many times as the number"
   ]
  },
  {
   "cell_type": "code",
   "execution_count": 16,
   "metadata": {},
   "outputs": [
    {
     "name": "stdout",
     "output_type": "stream",
     "text": [
      "Enter a number: 4\n",
      "1\n",
      "2\n",
      "3\n"
     ]
    }
   ],
   "source": [
    "num = int(input(\"Enter a number: \"))\n",
    "\n",
    "if num <17 and num >4:\n",
    "    print(\"just right\")\n",
    "    \n",
    "elif num >17 or num <-1:\n",
    "    print(\"wrong size\")\n",
    "    \n",
    "elif num ==3: \n",
    "    print(\"too three\")\n",
    "\n",
    "else:\n",
    "    \n",
    "    for i in range(1,num):\n",
    "        print(i)"
   ]
  },
  {
   "cell_type": "markdown",
   "metadata": {},
   "source": [
    "## Functions\n",
    "\n",
    "A **named**, **repeatable** block of code.\n",
    "\n",
    "A function must be `def`ined before it can be **called**.\n",
    "\n",
    "A function can `return` a value.\n",
    "\n",
    "Some functions take **arguments** when they are called.\n"
   ]
  },
  {
   "cell_type": "code",
   "execution_count": 20,
   "metadata": {},
   "outputs": [
    {
     "name": "stdout",
     "output_type": "stream",
     "text": [
      "abcd\n"
     ]
    },
    {
     "data": {
      "text/plain": [
       "15"
      ]
     },
     "execution_count": 20,
     "metadata": {},
     "output_type": "execute_result"
    }
   ],
   "source": [
    "# A function that takes a string as an argument and prints the string out 4 times\n",
    "\n",
    "def print_string(my_string):\n",
    "    print(my_string)\n",
    "    \n",
    "print_string(\"abcd\")\n",
    "\n",
    "# A function that adds 2 to a given number and returns the new value\n",
    "\n",
    "\n",
    "\n",
    "def addNums(num1, num2):\n",
    "    return num1 + num2 \n",
    "\n",
    "num = addNums(6,9)\n",
    "num"
   ]
  },
  {
   "cell_type": "markdown",
   "metadata": {},
   "source": [
    "### Challenge 7\n",
    "\n",
    "- Create a function called `farewell` that takes one argument\n",
    "- The function should return the string \"Goodbye forever, \" concatenated with the argument"
   ]
  },
  {
   "cell_type": "code",
   "execution_count": 31,
   "metadata": {},
   "outputs": [
    {
     "name": "stdout",
     "output_type": "stream",
     "text": [
      "farwell Goodbye forever\n",
      "Michelle\n",
      "Juan\n"
     ]
    }
   ],
   "source": [
    "def farewell_string(my2_string):\n",
    "    print(my2_string  +  \" Goodbye forever\")\n",
    "\n",
    "farewell_string(\"farwell\")\n",
    "\n",
    "\n",
    "def farewell(my_string):\n",
    "    print(my_string)\n",
    "    \n",
    "farewell(\"Michelle\")\n",
    "farewell(\"Juan\")"
   ]
  },
  {
   "cell_type": "markdown",
   "metadata": {},
   "source": [
    "### Challenge 8\n",
    "\n",
    "- Create a function `addNums` that takes two arguments\n",
    "- If the arguments are not numeric, the function should return 0\n",
    "- Otherwise, the function should return the two arguments added together"
   ]
  },
  {
   "cell_type": "code",
   "execution_count": 36,
   "metadata": {},
   "outputs": [
    {
     "data": {
      "text/plain": [
       "7"
      ]
     },
     "execution_count": 36,
     "metadata": {},
     "output_type": "execute_result"
    }
   ],
   "source": [
    "def addNums(num1, num2):\n",
    "    if num1 < 0:\n",
    "        return 0\n",
    "    else:\n",
    "        return num1 + num2\n",
    "    \n",
    "addNums(2,5)\n"
   ]
  },
  {
   "cell_type": "markdown",
   "metadata": {},
   "source": [
    "Data Structures\n"
   ]
  },
  {
   "cell_type": "code",
   "execution_count": 39,
   "metadata": {},
   "outputs": [
    {
     "name": "stdout",
     "output_type": "stream",
     "text": [
      "new first entry\n",
      "4.2\n",
      "hello\n"
     ]
    },
    {
     "data": {
      "text/plain": [
       "[0, 1, 4, 9, 16, 25, 36, 49, 64, 81]"
      ]
     },
     "execution_count": 39,
     "metadata": {},
     "output_type": "execute_result"
    }
   ],
   "source": [
    "my_list = [1, 4.2, \"hello\"]\n",
    "\n",
    "\n",
    "\n",
    "my_list[2]\n",
    "\n",
    "my_list[0] = \"new first entry\"\n",
    "my_list \n",
    "\n",
    "for i in my_list:\n",
    "    print(i)\n",
    "    \n",
    "    \n",
    "my_list.append(\"..a 4th entry!\")\n",
    "my_list \n",
    "\n",
    "blank_list = []\n",
    "\n",
    "for i in range(10):\n",
    "    blank_list.append(i**2)\n",
    "    \n",
    "\n",
    "blank_list"
   ]
  },
  {
   "cell_type": "code",
   "execution_count": 3,
   "metadata": {},
   "outputs": [
    {
     "data": {
      "text/plain": [
       "[['a', 'b', 'c'], ['a', 'b', 'c'], ['a', 'b', 'c']]"
      ]
     },
     "execution_count": 3,
     "metadata": {},
     "output_type": "execute_result"
    }
   ],
   "source": [
    "my_list = [\"a\", \"b\", \"c\"]\n",
    "\n",
    "my_2d_list= [[\"a\", \"b\", \"c\"],\n",
    "            [\"a\", \"b\", \"c\"],\n",
    "            [\"a\", \"b\", \"c\"]]\n",
    "\n",
    "my_2d_list"
   ]
  },
  {
   "cell_type": "code",
   "execution_count": 5,
   "metadata": {},
   "outputs": [
    {
     "ename": "TypeError",
     "evalue": "'tuple' object does not support item assignment",
     "output_type": "error",
     "traceback": [
      "\u001b[1;31m---------------------------------------------------------------------------\u001b[0m",
      "\u001b[1;31mTypeError\u001b[0m                                 Traceback (most recent call last)",
      "\u001b[1;32m<ipython-input-5-7f430b359e43>\u001b[0m in \u001b[0;36m<module>\u001b[1;34m()\u001b[0m\n\u001b[0;32m      1\u001b[0m \u001b[0mmy_tuple\u001b[0m \u001b[1;33m=\u001b[0m \u001b[1;33m(\u001b[0m\u001b[1;36m1\u001b[0m\u001b[1;33m,\u001b[0m\u001b[1;36m2\u001b[0m\u001b[1;33m,\u001b[0m\u001b[1;36m3\u001b[0m\u001b[1;33m)\u001b[0m\u001b[1;33m\u001b[0m\u001b[0m\n\u001b[0;32m      2\u001b[0m \u001b[1;33m\u001b[0m\u001b[0m\n\u001b[1;32m----> 3\u001b[1;33m \u001b[0mmy_tuple\u001b[0m\u001b[1;33m[\u001b[0m\u001b[1;36m2\u001b[0m\u001b[1;33m]\u001b[0m \u001b[1;33m=\u001b[0m \u001b[1;36m3\u001b[0m\u001b[1;33m\u001b[0m\u001b[0m\n\u001b[0m",
      "\u001b[1;31mTypeError\u001b[0m: 'tuple' object does not support item assignment"
     ]
    }
   ],
   "source": [
    "my_tuple = (1,2,3)\n",
    "\n",
    "#round brackets are for calling functions \n",
    "\n",
    "my_tuple[2] = 3"
   ]
  },
  {
   "cell_type": "markdown",
   "metadata": {},
   "source": [
    "## Importing\n",
    "\n",
    "Including **external** code in your programs"
   ]
  },
  {
   "cell_type": "code",
   "execution_count": 8,
   "metadata": {},
   "outputs": [],
   "source": [
    "# Importing a whole module\n",
    "\n",
    "\n",
    "\n",
    "# Importing a module under a different name\n",
    "\n",
    "\n",
    "# Importing only part of a module\n",
    "\n",
    "\n",
    "# Using an imported function\n",
    "\n"
   ]
  },
  {
   "cell_type": "markdown",
   "metadata": {},
   "source": [
    "### Challenge 9\n",
    "\n",
    "* Import the `random` module\n",
    "* Create a function that returns a random integer between 0 and a user-entered value"
   ]
  },
  {
   "cell_type": "markdown",
   "metadata": {},
   "source": [
    "## Extra challenges"
   ]
  },
  {
   "cell_type": "markdown",
   "metadata": {},
   "source": [
    "Create a program in which:\n",
    "\n",
    "* The computer randomly generates a number\n",
    "* The user has five attempts to guess the number\n",
    "* After each guess, the computer outputs if the guess was too high or too low\n",
    "* If the user correctly guesses the number within five attempts, the guessing stops"
   ]
  },
  {
   "cell_type": "code",
   "execution_count": null,
   "metadata": {},
   "outputs": [],
   "source": []
  },
  {
   "cell_type": "markdown",
   "metadata": {},
   "source": [
    "Create a program in which:\n",
    "\n",
    "* The user enters two numbers\n",
    "* The user enters a mathematical operation (addition, subtraction, etc.)\n",
    "* The program outputs the result of the operation on the two numbers\n",
    "* The program restarts"
   ]
  },
  {
   "cell_type": "code",
   "execution_count": null,
   "metadata": {},
   "outputs": [],
   "source": []
  }
 ],
 "metadata": {
  "kernelspec": {
   "display_name": "Python 3",
   "language": "python",
   "name": "python3"
  },
  "language_info": {
   "codemirror_mode": {
    "name": "ipython",
    "version": 3
   },
   "file_extension": ".py",
   "mimetype": "text/x-python",
   "name": "python",
   "nbconvert_exporter": "python",
   "pygments_lexer": "ipython3",
   "version": "3.7.0"
  }
 },
 "nbformat": 4,
 "nbformat_minor": 2
}
