{
 "cells": [
  {
   "cell_type": "markdown",
   "metadata": {},
   "source": [
    "Directions / Recipes / Music"
   ]
  },
  {
   "cell_type": "markdown",
   "metadata": {},
   "source": [
    "Limited communication - doesn't understand context / subset - Talking to a toddler, break it down. Weaker in understanding communication  "
   ]
  },
  {
   "cell_type": "markdown",
   "metadata": {},
   "source": [
    "70 words in Python "
   ]
  },
  {
   "cell_type": "markdown",
   "metadata": {},
   "source": [
    "Precision "
   ]
  },
  {
   "cell_type": "markdown",
   "metadata": {},
   "source": [
    "2 errors in 1000 code - Microsoft "
   ]
  },
  {
   "cell_type": "markdown",
   "metadata": {},
   "source": [
    "Breaking half the time "
   ]
  },
  {
   "cell_type": "markdown",
   "metadata": {},
   "source": [
    "Abstraction - Remove the irrelant / i.e. the solution "
   ]
  },
  {
   "cell_type": "markdown",
   "metadata": {},
   "source": [
    "Decomposition - Build rock paper scissors / Break down "
   ]
  },
  {
   "cell_type": "markdown",
   "metadata": {},
   "source": [
    "Pattern recognition - auotmation - tedious bits / front "
   ]
  },
  {
   "cell_type": "markdown",
   "metadata": {},
   "source": [
    "Algorithm design - work out what you want to do, put the steps in the right order and do them. Instructions to make a cup of tea / Stir / Hold the cup"
   ]
  },
  {
   "cell_type": "code",
   "execution_count": null,
   "metadata": {},
   "outputs": [],
   "source": []
  }
 ],
 "metadata": {
  "kernelspec": {
   "display_name": "Python 3",
   "language": "python",
   "name": "python3"
  },
  "language_info": {
   "codemirror_mode": {
    "name": "ipython",
    "version": 3
   },
   "file_extension": ".py",
   "mimetype": "text/x-python",
   "name": "python",
   "nbconvert_exporter": "python",
   "pygments_lexer": "ipython3",
   "version": "3.7.0"
  }
 },
 "nbformat": 4,
 "nbformat_minor": 2
}
