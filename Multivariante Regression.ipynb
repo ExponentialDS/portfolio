{
 "cells": [
  {
   "cell_type": "markdown",
   "metadata": {},
   "source": [
    "# Overview "
   ]
  },
  {
   "cell_type": "markdown",
   "metadata": {},
   "source": [
    "Regression is a method to predict an dependent variable [for e.g. price]\n",
    "by analyzing dependent variables [no. of bedrooms, previous cost etc.]"
   ]
  },
  {
   "cell_type": "markdown",
   "metadata": {},
   "source": [
    "Relationship between the independent variable and the dependent variable. Positive relationship or negative relationship \n",
    "\n",
    "Take observations randomly, find a line that fits through the observiations. \n",
    "\n",
    "Minimize the erros between the observations betwee\n",
    "\n",
    "y- dependent variable(prediction) = b0(y intercept) + b1X- independent variable (slope) \n",
    "\n",
    "grades vs time spent studying  \n",
    "\n",
    "grades vs time on facebook \n"
   ]
  },
  {
   "cell_type": "markdown",
   "metadata": {},
   "source": [
    "# Brief "
   ]
  },
  {
   "cell_type": "markdown",
   "metadata": {},
   "source": [
    "Build a model that predicts the happiness of a country \n",
    "based on beer consumption\n"
   ]
  },
  {
   "cell_type": "markdown",
   "metadata": {},
   "source": [
    "# Import libraries "
   ]
  },
  {
   "cell_type": "code",
   "execution_count": 1,
   "metadata": {},
   "outputs": [],
   "source": [
    "import pandas as pd\n",
    "import matplotlib.pyplot as plt\n",
    "import numpy as np \n",
    "from sklearn import datasets, linear_model\n",
    "from sklearn.metrics import mean_squared_error, r2_score\n",
    "from sklearn.model_selection import train_test_split\n",
    "import seaborn as sns\n",
    "import statsmodels.formula.api as smf"
   ]
  },
  {
   "cell_type": "markdown",
   "metadata": {},
   "source": [
    "## Import Data"
   ]
  },
  {
   "cell_type": "code",
   "execution_count": 2,
   "metadata": {},
   "outputs": [],
   "source": [
    "df = pd.read_csv('happiness.csv')"
   ]
  },
  {
   "cell_type": "markdown",
   "metadata": {},
   "source": [
    "# EDA "
   ]
  },
  {
   "cell_type": "code",
   "execution_count": 3,
   "metadata": {},
   "outputs": [
    {
     "data": {
      "text/html": [
       "<div>\n",
       "<style scoped>\n",
       "    .dataframe tbody tr th:only-of-type {\n",
       "        vertical-align: middle;\n",
       "    }\n",
       "\n",
       "    .dataframe tbody tr th {\n",
       "        vertical-align: top;\n",
       "    }\n",
       "\n",
       "    .dataframe thead th {\n",
       "        text-align: right;\n",
       "    }\n",
       "</style>\n",
       "<table border=\"1\" class=\"dataframe\">\n",
       "  <thead>\n",
       "    <tr style=\"text-align: right;\">\n",
       "      <th></th>\n",
       "      <th>Country</th>\n",
       "      <th>Region</th>\n",
       "      <th>Hemisphere</th>\n",
       "      <th>HappinessScore</th>\n",
       "      <th>HDI</th>\n",
       "      <th>GDP_PerCapita</th>\n",
       "      <th>Beer_PerCapita</th>\n",
       "      <th>Spirit_PerCapita</th>\n",
       "      <th>Wine_PerCapita</th>\n",
       "    </tr>\n",
       "  </thead>\n",
       "  <tbody>\n",
       "    <tr>\n",
       "      <th>0</th>\n",
       "      <td>Senegal</td>\n",
       "      <td>Sub-Saharan Africa</td>\n",
       "      <td>north</td>\n",
       "      <td>4.219</td>\n",
       "      <td>499</td>\n",
       "      <td>0.953</td>\n",
       "      <td>9</td>\n",
       "      <td>1</td>\n",
       "      <td>7</td>\n",
       "    </tr>\n",
       "    <tr>\n",
       "      <th>1</th>\n",
       "      <td>Tanzania</td>\n",
       "      <td>Sub-Saharan Africa</td>\n",
       "      <td>south</td>\n",
       "      <td>3.666</td>\n",
       "      <td>533</td>\n",
       "      <td>0.878</td>\n",
       "      <td>36</td>\n",
       "      <td>6</td>\n",
       "      <td>1</td>\n",
       "    </tr>\n",
       "    <tr>\n",
       "      <th>2</th>\n",
       "      <td>Benin</td>\n",
       "      <td>Sub-Saharan Africa</td>\n",
       "      <td>north</td>\n",
       "      <td>3.484</td>\n",
       "      <td>512</td>\n",
       "      <td>0.789</td>\n",
       "      <td>34</td>\n",
       "      <td>4</td>\n",
       "      <td>13</td>\n",
       "    </tr>\n",
       "    <tr>\n",
       "      <th>3</th>\n",
       "      <td>Mali</td>\n",
       "      <td>Sub-Saharan Africa</td>\n",
       "      <td>north</td>\n",
       "      <td>4.073</td>\n",
       "      <td>421</td>\n",
       "      <td>0.780</td>\n",
       "      <td>5</td>\n",
       "      <td>1</td>\n",
       "      <td>1</td>\n",
       "    </tr>\n",
       "    <tr>\n",
       "      <th>4</th>\n",
       "      <td>Comoros</td>\n",
       "      <td>Sub-Saharan Africa</td>\n",
       "      <td>south</td>\n",
       "      <td>3.956</td>\n",
       "      <td>502</td>\n",
       "      <td>0.775</td>\n",
       "      <td>1</td>\n",
       "      <td>3</td>\n",
       "      <td>1</td>\n",
       "    </tr>\n",
       "    <tr>\n",
       "      <th>5</th>\n",
       "      <td>Haiti</td>\n",
       "      <td>Latin America and Caribbean</td>\n",
       "      <td>north</td>\n",
       "      <td>4.028</td>\n",
       "      <td>496</td>\n",
       "      <td>0.735</td>\n",
       "      <td>1</td>\n",
       "      <td>326</td>\n",
       "      <td>1</td>\n",
       "    </tr>\n",
       "  </tbody>\n",
       "</table>\n",
       "</div>"
      ],
      "text/plain": [
       "    Country                       Region Hemisphere  HappinessScore  HDI  \\\n",
       "0   Senegal           Sub-Saharan Africa      north           4.219  499   \n",
       "1  Tanzania           Sub-Saharan Africa      south           3.666  533   \n",
       "2     Benin           Sub-Saharan Africa      north           3.484  512   \n",
       "3      Mali           Sub-Saharan Africa      north           4.073  421   \n",
       "4   Comoros           Sub-Saharan Africa      south           3.956  502   \n",
       "5     Haiti  Latin America and Caribbean      north           4.028  496   \n",
       "\n",
       "   GDP_PerCapita  Beer_PerCapita  Spirit_PerCapita  Wine_PerCapita  \n",
       "0          0.953               9                 1               7  \n",
       "1          0.878              36                 6               1  \n",
       "2          0.789              34                 4              13  \n",
       "3          0.780               5                 1               1  \n",
       "4          0.775               1                 3               1  \n",
       "5          0.735               1               326               1  "
      ]
     },
     "execution_count": 3,
     "metadata": {},
     "output_type": "execute_result"
    }
   ],
   "source": [
    "df.head(6)"
   ]
  },
  {
   "cell_type": "code",
   "execution_count": 4,
   "metadata": {},
   "outputs": [
    {
     "name": "stdout",
     "output_type": "stream",
     "text": [
      "<class 'pandas.core.frame.DataFrame'>\n",
      "RangeIndex: 122 entries, 0 to 121\n",
      "Data columns (total 9 columns):\n",
      "Country             122 non-null object\n",
      "Region              122 non-null object\n",
      "Hemisphere          122 non-null object\n",
      "HappinessScore      122 non-null float64\n",
      "HDI                 122 non-null int64\n",
      "GDP_PerCapita       122 non-null float64\n",
      "Beer_PerCapita      122 non-null int64\n",
      "Spirit_PerCapita    122 non-null int64\n",
      "Wine_PerCapita      122 non-null int64\n",
      "dtypes: float64(2), int64(4), object(3)\n",
      "memory usage: 8.7+ KB\n"
     ]
    }
   ],
   "source": [
    "df.info()"
   ]
  },
  {
   "cell_type": "markdown",
   "metadata": {},
   "source": [
    "# Visualize "
   ]
  },
  {
   "cell_type": "code",
   "execution_count": 9,
   "metadata": {},
   "outputs": [
    {
     "data": {
      "text/plain": [
       "<matplotlib.axes._subplots.AxesSubplot at 0x285199bdd30>"
      ]
     },
     "execution_count": 9,
     "metadata": {},
     "output_type": "execute_result"
    },
    {
     "data": {
      "image/png": "[encoded data removed]",
      "text/plain": [
       "<Figure size 432x288 with 1 Axes>"
      ]
     },
     "metadata": {
      "needs_background": "light"
     },
     "output_type": "display_data"
    }
   ],
   "source": [
    "sns.scatterplot(x='HDI', y='HappinessScore', data = df)"
   ]
  },
  {
   "cell_type": "code",
   "execution_count": 10,
   "metadata": {},
   "outputs": [
    {
     "data": {
      "text/plain": [
       "<matplotlib.axes._subplots.AxesSubplot at 0x28519a300f0>"
      ]
     },
     "execution_count": 10,
     "metadata": {},
     "output_type": "execute_result"
    },
    {
     "data": {
      "image/png": "[encoded data removed]",
      "text/plain": [
       "<Figure size 432x288 with 1 Axes>"
      ]
     },
     "metadata": {
      "needs_background": "light"
     },
     "output_type": "display_data"
    }
   ],
   "source": [
    "sns.regplot(x='GDP_PerCapita', y='HappinessScore', data = df)"
   ]
  },
  {
   "cell_type": "code",
   "execution_count": 12,
   "metadata": {},
   "outputs": [
    {
     "data": {
      "text/plain": [
       "<matplotlib.axes._subplots.AxesSubplot at 0x28519afde10>"
      ]
     },
     "execution_count": 12,
     "metadata": {},
     "output_type": "execute_result"
    },
    {
     "data": {
      "image/png": "[encoded data removed]",
      "text/plain": [
       "<Figure size 432x288 with 1 Axes>"
      ]
     },
     "metadata": {
      "needs_background": "light"
     },
     "output_type": "display_data"
    }
   ],
   "source": [
    "sns.regplot(x='Wine_PerCapita', y='HappinessScore', data = df)"
   ]
  },
  {
   "cell_type": "code",
   "execution_count": 11,
   "metadata": {},
   "outputs": [
    {
     "data": {
      "text/plain": [
       "<seaborn.axisgrid.FacetGrid at 0x28519a1bcf8>"
      ]
     },
     "execution_count": 11,
     "metadata": {},
     "output_type": "execute_result"
    },
    {
     "data": {
      "image/png": "[encoded data removed]",
      "text/plain": [
       "<Figure size 360x360 with 1 Axes>"
      ]
     },
     "metadata": {
      "needs_background": "light"
     },
     "output_type": "display_data"
    }
   ],
   "source": [
    "sns.lmplot(x='Spirit_PerCapita', y='HappinessScore', data = df)"
   ]
  },
  {
   "cell_type": "code",
   "execution_count": 8,
   "metadata": {},
   "outputs": [
    {
     "data": {
      "text/plain": [
       "<seaborn.axisgrid.JointGrid at 0x28519847e48>"
      ]
     },
     "execution_count": 8,
     "metadata": {},
     "output_type": "execute_result"
    },
    {
     "data": {
      "image/png": "[encoded data removed]",
      "text/plain": [
       "<Figure size 432x432 with 3 Axes>"
      ]
     },
     "metadata": {
      "needs_background": "light"
     },
     "output_type": "display_data"
    }
   ],
   "source": [
    "sns.jointplot(x='Beer_PerCapita', y='HappinessScore', data = df)"
   ]
  },
  {
   "cell_type": "markdown",
   "metadata": {},
   "source": [
    "There is some linerity to it"
   ]
  },
  {
   "cell_type": "markdown",
   "metadata": {},
   "source": [
    "# Build Model "
   ]
  },
  {
   "cell_type": "code",
   "execution_count": 27,
   "metadata": {},
   "outputs": [
    {
     "data": {
      "text/html": [
       "<div>\n",
       "<style scoped>\n",
       "    .dataframe tbody tr th:only-of-type {\n",
       "        vertical-align: middle;\n",
       "    }\n",
       "\n",
       "    .dataframe tbody tr th {\n",
       "        vertical-align: top;\n",
       "    }\n",
       "\n",
       "    .dataframe thead th {\n",
       "        text-align: right;\n",
       "    }\n",
       "</style>\n",
       "<table border=\"1\" class=\"dataframe\">\n",
       "  <thead>\n",
       "    <tr style=\"text-align: right;\">\n",
       "      <th></th>\n",
       "      <th>HappinessScore</th>\n",
       "      <th>HDI</th>\n",
       "      <th>GDP_PerCapita</th>\n",
       "      <th>Beer_PerCapita</th>\n",
       "      <th>Spirit_PerCapita</th>\n",
       "      <th>Wine_PerCapita</th>\n",
       "    </tr>\n",
       "  </thead>\n",
       "  <tbody>\n",
       "    <tr>\n",
       "      <th>HappinessScore</th>\n",
       "      <td>1.000000</td>\n",
       "      <td>0.815163</td>\n",
       "      <td>0.721962</td>\n",
       "      <td>0.493367</td>\n",
       "      <td>0.256399</td>\n",
       "      <td>0.450589</td>\n",
       "    </tr>\n",
       "    <tr>\n",
       "      <th>HDI</th>\n",
       "      <td>0.815163</td>\n",
       "      <td>1.000000</td>\n",
       "      <td>0.712325</td>\n",
       "      <td>0.588394</td>\n",
       "      <td>0.393413</td>\n",
       "      <td>0.602561</td>\n",
       "    </tr>\n",
       "    <tr>\n",
       "      <th>GDP_PerCapita</th>\n",
       "      <td>0.721962</td>\n",
       "      <td>0.712325</td>\n",
       "      <td>1.000000</td>\n",
       "      <td>0.389962</td>\n",
       "      <td>0.079701</td>\n",
       "      <td>0.585861</td>\n",
       "    </tr>\n",
       "    <tr>\n",
       "      <th>Beer_PerCapita</th>\n",
       "      <td>0.493367</td>\n",
       "      <td>0.588394</td>\n",
       "      <td>0.389962</td>\n",
       "      <td>1.000000</td>\n",
       "      <td>0.364855</td>\n",
       "      <td>0.474274</td>\n",
       "    </tr>\n",
       "    <tr>\n",
       "      <th>Spirit_PerCapita</th>\n",
       "      <td>0.256399</td>\n",
       "      <td>0.393413</td>\n",
       "      <td>0.079701</td>\n",
       "      <td>0.364855</td>\n",
       "      <td>1.000000</td>\n",
       "      <td>0.118718</td>\n",
       "    </tr>\n",
       "    <tr>\n",
       "      <th>Wine_PerCapita</th>\n",
       "      <td>0.450589</td>\n",
       "      <td>0.602561</td>\n",
       "      <td>0.585861</td>\n",
       "      <td>0.474274</td>\n",
       "      <td>0.118718</td>\n",
       "      <td>1.000000</td>\n",
       "    </tr>\n",
       "  </tbody>\n",
       "</table>\n",
       "</div>"
      ],
      "text/plain": [
       "                  HappinessScore       HDI  GDP_PerCapita  Beer_PerCapita  \\\n",
       "HappinessScore          1.000000  0.815163       0.721962        0.493367   \n",
       "HDI                     0.815163  1.000000       0.712325        0.588394   \n",
       "GDP_PerCapita           0.721962  0.712325       1.000000        0.389962   \n",
       "Beer_PerCapita          0.493367  0.588394       0.389962        1.000000   \n",
       "Spirit_PerCapita        0.256399  0.393413       0.079701        0.364855   \n",
       "Wine_PerCapita          0.450589  0.602561       0.585861        0.474274   \n",
       "\n",
       "                  Spirit_PerCapita  Wine_PerCapita  \n",
       "HappinessScore            0.256399        0.450589  \n",
       "HDI                       0.393413        0.602561  \n",
       "GDP_PerCapita             0.079701        0.585861  \n",
       "Beer_PerCapita            0.364855        0.474274  \n",
       "Spirit_PerCapita          1.000000        0.118718  \n",
       "Wine_PerCapita            0.118718        1.000000  "
      ]
     },
     "execution_count": 27,
     "metadata": {},
     "output_type": "execute_result"
    }
   ],
   "source": [
    "df.corr()"
   ]
  },
  {
   "cell_type": "markdown",
   "metadata": {},
   "source": [
    "Happiness and Beer have a 0.5 correlation"
   ]
  },
  {
   "cell_type": "markdown",
   "metadata": {},
   "source": [
    "# Split the Data into Training and test data"
   ]
  },
  {
   "cell_type": "code",
   "execution_count": 13,
   "metadata": {},
   "outputs": [],
   "source": [
    "X = df[['Beer_PerCapita', 'GDP_PerCapita', 'Spirit_PerCapita', 'HDI']]\n",
    "y = df[['HappinessScore']] \n",
    "X_train, X_test, y_train, y_test=train_test_split(X, y,test_size = 0.25, random_state = 123)"
   ]
  },
  {
   "cell_type": "code",
   "execution_count": 14,
   "metadata": {},
   "outputs": [
    {
     "name": "stdout",
     "output_type": "stream",
     "text": [
      "(91, 4) (91, 1)\n",
      "(31, 4) (31, 1)\n"
     ]
    }
   ],
   "source": [
    "print (X_train.shape, y_train.shape) \n",
    "print (X_test.shape, y_test.shape)"
   ]
  },
  {
   "cell_type": "markdown",
   "metadata": {},
   "source": [
    "We will need to combine X_train and y_train into a single training dataset called Train."
   ]
  },
  {
   "cell_type": "code",
   "execution_count": 16,
   "metadata": {},
   "outputs": [],
   "source": [
    "F"
   ]
  },
  {
   "cell_type": "markdown",
   "metadata": {},
   "source": [
    "# Fit the model "
   ]
  },
  {
   "cell_type": "code",
   "execution_count": 17,
   "metadata": {},
   "outputs": [],
   "source": [
    "regression_model= regression_model.fit(X_train, y_train)"
   ]
  },
  {
   "cell_type": "markdown",
   "metadata": {},
   "source": [
    "# Scoring the model"
   ]
  },
  {
   "cell_type": "code",
   "execution_count": 18,
   "metadata": {},
   "outputs": [
    {
     "name": "stdout",
     "output_type": "stream",
     "text": [
      "The R-squared is: 0.6655605451969686\n"
     ]
    }
   ],
   "source": [
    "print('The R-squared is:', regression_model.score(X_train, y_train))"
   ]
  },
  {
   "cell_type": "markdown",
   "metadata": {},
   "source": [
    "R-squared is a statistical measure\n",
    "of how close the data are to the fitted regression line. In other words R2 is the proportion of the explained variation divided by the total variation. In other words, if the R2 is close to one then it means that the model (in this case the five variables in X) explains the variation in happiness score around the globe. However, in this case the R2 = 0.68; which means that 68% of the variation in the happiness score around the globe is explained by the five variables in X.\n"
   ]
  },
  {
   "cell_type": "code",
   "execution_count": 19,
   "metadata": {},
   "outputs": [
    {
     "name": "stdout",
     "output_type": "stream",
     "text": [
      "Coefficients: \n",
      " [[ 0.0008629   0.01223152 -0.00010163  0.00447218]]\n"
     ]
    }
   ],
   "source": [
    "print('Coefficients: \\n', regression_model.coef_)"
   ]
  },
  {
   "cell_type": "markdown",
   "metadata": {},
   "source": [
    "The Regression Coefficient is the constant 'b' in the regression \n",
    "equation that tells about the change in the value of dependent \n",
    "variable corresponding tothe unit change in the independent variable"
   ]
  },
  {
   "cell_type": "code",
   "execution_count": 20,
   "metadata": {},
   "outputs": [
    {
     "name": "stdout",
     "output_type": "stream",
     "text": [
      "Intercept: \n",
      " [1.94532495]\n"
     ]
    }
   ],
   "source": [
    "print('Intercept: \\n', regression_model.intercept_)"
   ]
  },
  {
   "cell_type": "markdown",
   "metadata": {},
   "source": [
    "# Ordinary Least Squares (OLS) "
   ]
  },
  {
   "cell_type": "code",
   "execution_count": 42,
   "metadata": {},
   "outputs": [],
   "source": [
    "Train = pd.concat([X_train, y_train], axis=1)\n",
    "Formula = 'HappinessScore ~ Beer_PerCapita + GDP_PerCapita + HDI + Spirit_PerCapita'\n"
   ]
  },
  {
   "cell_type": "code",
   "execution_count": 43,
   "metadata": {},
   "outputs": [],
   "source": [
    "regression_model = smf.ols(Formula, \n",
    "                           data= Train).fit()"
   ]
  },
  {
   "cell_type": "code",
   "execution_count": 45,
   "metadata": {},
   "outputs": [
    {
     "name": "stdout",
     "output_type": "stream",
     "text": [
      "                            OLS Regression Results                            \n",
      "==============================================================================\n",
      "Dep. Variable:         HappinessScore   R-squared:                       0.666\n",
      "Model:                            OLS   Adj. R-squared:                  0.650\n",
      "Method:                 Least Squares   F-statistic:                     42.79\n",
      "Date:                Sat, 15 Jun 2019   Prob (F-statistic):           1.04e-19\n",
      "Time:                        14:13:48   Log-Likelihood:                -84.935\n",
      "No. Observations:                  91   AIC:                             179.9\n",
      "Df Residuals:                      86   BIC:                             192.4\n",
      "Df Model:                           4                                         \n",
      "Covariance Type:            nonrobust                                         \n",
      "====================================================================================\n",
      "                       coef    std err          t      P>|t|      [0.025      0.975]\n",
      "------------------------------------------------------------------------------------\n",
      "Intercept            1.9453      0.489      3.978      0.000       0.973       2.917\n",
      "Beer_PerCapita       0.0009      0.001      1.022      0.310      -0.001       0.003\n",
      "GDP_PerCapita        0.0122      0.005      2.387      0.019       0.002       0.022\n",
      "HDI                  0.0045      0.001      5.518      0.000       0.003       0.006\n",
      "Spirit_PerCapita    -0.0001      0.001     -0.104      0.917      -0.002       0.002\n",
      "==============================================================================\n",
      "Omnibus:                        0.692   Durbin-Watson:                   1.853\n",
      "Prob(Omnibus):                  0.707   Jarque-Bera (JB):                0.799\n",
      "Skew:                           0.107   Prob(JB):                        0.671\n",
      "Kurtosis:                       2.594   Cond. No.                     5.72e+03\n",
      "==============================================================================\n",
      "\n",
      "Warnings:\n",
      "[1] Standard Errors assume that the covariance matrix of the errors is correctly specified.\n",
      "[2] The condition number is large, 5.72e+03. This might indicate that there are\n",
      "strong multicollinearity or other numerical problems.\n"
     ]
    }
   ],
   "source": [
    "print(regression_model.summary())"
   ]
  },
  {
   "cell_type": "markdown",
   "metadata": {},
   "source": [
    "The p-values in this case are going to tell us which variables will be important to consider. For example, the p-value of beer consumption and spirit consumption indicate that these variables are not adding much value to the model. Why not try to run a model with only those variables that have a p-value lower than 0.01?"
   ]
  },
  {
   "cell_type": "code",
   "execution_count": 21,
   "metadata": {},
   "outputs": [],
   "source": [
    "y_pred = regression_model.predict(X_test)\n",
    "y_pred = pd.DataFrame(y_pred)"
   ]
  },
  {
   "cell_type": "code",
   "execution_count": 22,
   "metadata": {},
   "outputs": [
    {
     "data": {
      "text/html": [
       "<div>\n",
       "<style scoped>\n",
       "    .dataframe tbody tr th:only-of-type {\n",
       "        vertical-align: middle;\n",
       "    }\n",
       "\n",
       "    .dataframe tbody tr th {\n",
       "        vertical-align: top;\n",
       "    }\n",
       "\n",
       "    .dataframe thead th {\n",
       "        text-align: right;\n",
       "    }\n",
       "</style>\n",
       "<table border=\"1\" class=\"dataframe\">\n",
       "  <thead>\n",
       "    <tr style=\"text-align: right;\">\n",
       "      <th></th>\n",
       "      <th>0</th>\n",
       "    </tr>\n",
       "  </thead>\n",
       "  <tbody>\n",
       "    <tr>\n",
       "      <th>0</th>\n",
       "      <td>4.200394</td>\n",
       "    </tr>\n",
       "    <tr>\n",
       "      <th>1</th>\n",
       "      <td>5.391678</td>\n",
       "    </tr>\n",
       "    <tr>\n",
       "      <th>2</th>\n",
       "      <td>5.669238</td>\n",
       "    </tr>\n",
       "    <tr>\n",
       "      <th>3</th>\n",
       "      <td>5.497728</td>\n",
       "    </tr>\n",
       "    <tr>\n",
       "      <th>4</th>\n",
       "      <td>6.260669</td>\n",
       "    </tr>\n",
       "    <tr>\n",
       "      <th>5</th>\n",
       "      <td>6.795459</td>\n",
       "    </tr>\n",
       "    <tr>\n",
       "      <th>6</th>\n",
       "      <td>6.781360</td>\n",
       "    </tr>\n",
       "    <tr>\n",
       "      <th>7</th>\n",
       "      <td>4.377927</td>\n",
       "    </tr>\n",
       "    <tr>\n",
       "      <th>8</th>\n",
       "      <td>4.579411</td>\n",
       "    </tr>\n",
       "    <tr>\n",
       "      <th>9</th>\n",
       "      <td>6.697827</td>\n",
       "    </tr>\n",
       "    <tr>\n",
       "      <th>10</th>\n",
       "      <td>7.288942</td>\n",
       "    </tr>\n",
       "    <tr>\n",
       "      <th>11</th>\n",
       "      <td>6.217374</td>\n",
       "    </tr>\n",
       "    <tr>\n",
       "      <th>12</th>\n",
       "      <td>6.872598</td>\n",
       "    </tr>\n",
       "    <tr>\n",
       "      <th>13</th>\n",
       "      <td>4.219331</td>\n",
       "    </tr>\n",
       "    <tr>\n",
       "      <th>14</th>\n",
       "      <td>4.140246</td>\n",
       "    </tr>\n",
       "    <tr>\n",
       "      <th>15</th>\n",
       "      <td>4.196262</td>\n",
       "    </tr>\n",
       "    <tr>\n",
       "      <th>16</th>\n",
       "      <td>3.521945</td>\n",
       "    </tr>\n",
       "    <tr>\n",
       "      <th>17</th>\n",
       "      <td>5.832863</td>\n",
       "    </tr>\n",
       "    <tr>\n",
       "      <th>18</th>\n",
       "      <td>5.981236</td>\n",
       "    </tr>\n",
       "    <tr>\n",
       "      <th>19</th>\n",
       "      <td>5.988347</td>\n",
       "    </tr>\n",
       "    <tr>\n",
       "      <th>20</th>\n",
       "      <td>4.747700</td>\n",
       "    </tr>\n",
       "    <tr>\n",
       "      <th>21</th>\n",
       "      <td>5.360296</td>\n",
       "    </tr>\n",
       "    <tr>\n",
       "      <th>22</th>\n",
       "      <td>6.788068</td>\n",
       "    </tr>\n",
       "    <tr>\n",
       "      <th>23</th>\n",
       "      <td>5.840131</td>\n",
       "    </tr>\n",
       "    <tr>\n",
       "      <th>24</th>\n",
       "      <td>5.209811</td>\n",
       "    </tr>\n",
       "    <tr>\n",
       "      <th>25</th>\n",
       "      <td>4.169403</td>\n",
       "    </tr>\n",
       "    <tr>\n",
       "      <th>26</th>\n",
       "      <td>6.222620</td>\n",
       "    </tr>\n",
       "    <tr>\n",
       "      <th>27</th>\n",
       "      <td>6.271560</td>\n",
       "    </tr>\n",
       "    <tr>\n",
       "      <th>28</th>\n",
       "      <td>5.474140</td>\n",
       "    </tr>\n",
       "    <tr>\n",
       "      <th>29</th>\n",
       "      <td>7.053094</td>\n",
       "    </tr>\n",
       "    <tr>\n",
       "      <th>30</th>\n",
       "      <td>5.485934</td>\n",
       "    </tr>\n",
       "  </tbody>\n",
       "</table>\n",
       "</div>"
      ],
      "text/plain": [
       "           0\n",
       "0   4.200394\n",
       "1   5.391678\n",
       "2   5.669238\n",
       "3   5.497728\n",
       "4   6.260669\n",
       "5   6.795459\n",
       "6   6.781360\n",
       "7   4.377927\n",
       "8   4.579411\n",
       "9   6.697827\n",
       "10  7.288942\n",
       "11  6.217374\n",
       "12  6.872598\n",
       "13  4.219331\n",
       "14  4.140246\n",
       "15  4.196262\n",
       "16  3.521945\n",
       "17  5.832863\n",
       "18  5.981236\n",
       "19  5.988347\n",
       "20  4.747700\n",
       "21  5.360296\n",
       "22  6.788068\n",
       "23  5.840131\n",
       "24  5.209811\n",
       "25  4.169403\n",
       "26  6.222620\n",
       "27  6.271560\n",
       "28  5.474140\n",
       "29  7.053094\n",
       "30  5.485934"
      ]
     },
     "execution_count": 22,
     "metadata": {},
     "output_type": "execute_result"
    }
   ],
   "source": [
    "y_pred"
   ]
  },
  {
   "cell_type": "markdown",
   "metadata": {},
   "source": [
    "# Visualizing accuracy"
   ]
  },
  {
   "cell_type": "code",
   "execution_count": 23,
   "metadata": {},
   "outputs": [],
   "source": [
    "y_test = y_test['HappinessScore'].reset_index()"
   ]
  },
  {
   "cell_type": "code",
   "execution_count": 24,
   "metadata": {},
   "outputs": [
    {
     "data": {
      "image/png": "[encoded data removed]",
      "text/plain": [
       "<Figure size 432x288 with 1 Axes>"
      ]
     },
     "metadata": {
      "needs_background": "light"
     },
     "output_type": "display_data"
    }
   ],
   "source": [
    "y_obs_pred = pd.concat([y_test['HappinessScore'], y_pred], axis =1)\n",
    "\n",
    "y_obs_pred.columns = ['y_test', 'y_pred']\n",
    "\n",
    "y_obs_pred['diff'] = y_obs_pred['y_test'] - y_obs_pred['y_pred']\n",
    "\n",
    "r = sns.scatterplot(x='y_test', y='y_pred', data = y_obs_pred)"
   ]
  },
  {
   "cell_type": "markdown",
   "metadata": {},
   "source": [
    "You will expect the distribution of the predictions and the test to be relatively linear if the model is performing well - a \"perfect\" model will be a line with slope = 1 and intercept = 0. This is not the case, but the scatter plot does show a relatively linear distribution. Perhaps beer consumption is not the best indicator of happiness score, as we see based on the R2 and coefficient."
   ]
  },
  {
   "cell_type": "markdown",
   "metadata": {},
   "source": [
    "# Measuring the root mean squared error (RMSE)"
   ]
  },
  {
   "cell_type": "code",
   "execution_count": 47,
   "metadata": {},
   "outputs": [
    {
     "data": {
      "text/plain": [
       "0.6610425476855996"
      ]
     },
     "execution_count": 47,
     "metadata": {},
     "output_type": "execute_result"
    }
   ],
   "source": [
    "diff = y_obs_pred['y_pred'] - y_obs_pred['y_test']\n",
    "diff_sq = diff**2\n",
    "mean_diff_sq = diff_sq.mean()\n",
    "RMSE = np.sqrt(mean_diff_sq)\n",
    "RMSE"
   ]
  },
  {
   "cell_type": "markdown",
   "metadata": {},
   "source": [
    "This is the standard deviation of the residuals, and in this case is relatively small. It is even smaller than the model which only included beer consumption!"
   ]
  },
  {
   "cell_type": "code",
   "execution_count": null,
   "metadata": {},
   "outputs": [],
   "source": []
  }
 ],
 "metadata": {
  "kernelspec": {
   "display_name": "Python 3",
   "language": "python",
   "name": "python3"
  },
  "language_info": {
   "codemirror_mode": {
    "name": "ipython",
    "version": 3
   },
   "file_extension": ".py",
   "mimetype": "text/x-python",
   "name": "python",
   "nbconvert_exporter": "python",
   "pygments_lexer": "ipython3",
   "version": "3.7.0"
  }
 },
 "nbformat": 4,
 "nbformat_minor": 2
}
