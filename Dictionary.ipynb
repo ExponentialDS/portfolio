{
 "cells": [
  {
   "cell_type": "markdown",
   "metadata": {},
   "source": [
    "# Information about a Person - Dictionary"
   ]
  },
  {
   "cell_type": "code",
   "execution_count": 5,
   "metadata": {},
   "outputs": [
    {
     "name": "stdout",
     "output_type": "stream",
     "text": [
      "david\n",
      "moran\n",
      "34\n",
      "Teddington\n"
     ]
    }
   ],
   "source": [
    "dave_moran = {'first_name': 'david', 'second_name': 'moran', 'age': '34', 'lives':'Teddington'}\n",
    "\n",
    "print(dave_moran['first_name'])\n",
    "print(dave_moran['second_name'])\n",
    "print(dave_moran['age'])\n",
    "print(dave_moran['lives'])\n"
   ]
  },
  {
   "cell_type": "code",
   "execution_count": 8,
   "metadata": {},
   "outputs": [],
   "source": [
    "favourite_numbers = {'estelle':'3', 'chris':'9', 'skip':'10', 'bibie':'6', 'scarlett':'12'}"
   ]
  },
  {
   "cell_type": "code",
   "execution_count": 9,
   "metadata": {},
   "outputs": [
    {
     "name": "stdout",
     "output_type": "stream",
     "text": [
      "3\n",
      "9\n",
      "10\n",
      "6\n",
      "12\n"
     ]
    }
   ],
   "source": [
    "print(favourite_numbers['estelle'])\n",
    "print(favourite_numbers['chris'])\n",
    "print(favourite_numbers['skip'])\n",
    "print(favourite_numbers['bibie'])\n",
    "print(favourite_numbers['scarlett'])\n",
    "\n",
    "\n"
   ]
  },
  {
   "cell_type": "markdown",
   "metadata": {},
   "source": [
    "# Accessing Values in a Dictionary"
   ]
  },
  {
   "cell_type": "code",
   "execution_count": 10,
   "metadata": {},
   "outputs": [],
   "source": [
    "alien_0 = {'colour': 'green','points':5}\n"
   ]
  },
  {
   "cell_type": "code",
   "execution_count": 11,
   "metadata": {},
   "outputs": [
    {
     "name": "stdout",
     "output_type": "stream",
     "text": [
      "You have just earned5points\n"
     ]
    }
   ],
   "source": [
    "new_points = alien_0['points']\n",
    "\n",
    "print(\"You have just earned\" + str(new_points) + \"points\")"
   ]
  },
  {
   "cell_type": "markdown",
   "metadata": {},
   "source": [
    "# Adding new values "
   ]
  },
  {
   "cell_type": "code",
   "execution_count": 14,
   "metadata": {},
   "outputs": [
    {
     "name": "stdout",
     "output_type": "stream",
     "text": [
      "{'colour': 'green', 'points': 5}\n"
     ]
    }
   ],
   "source": [
    "alien_0 = {'colour': 'green','points':5}\n",
    "print(alien_0)"
   ]
  },
  {
   "cell_type": "code",
   "execution_count": 15,
   "metadata": {},
   "outputs": [
    {
     "name": "stdout",
     "output_type": "stream",
     "text": [
      "{'colour': 'green', 'points': 5, 'xposition': 0, 'yposition': 20}\n"
     ]
    }
   ],
   "source": [
    "alien_0['xposition'] = 0\n",
    "alien_0['yposition'] = 20\n",
    "print(alien_0)"
   ]
  },
  {
   "cell_type": "markdown",
   "metadata": {},
   "source": [
    "# Starting with a new Dictionary"
   ]
  },
  {
   "cell_type": "code",
   "execution_count": 16,
   "metadata": {},
   "outputs": [],
   "source": [
    "alien_0 = {}"
   ]
  },
  {
   "cell_type": "code",
   "execution_count": 17,
   "metadata": {},
   "outputs": [
    {
     "name": "stdout",
     "output_type": "stream",
     "text": [
      "['colour', 'green']\n"
     ]
    }
   ],
   "source": [
    "alien_0 = ['colour', 'green']\n",
    "print(alien_0)"
   ]
  },
  {
   "cell_type": "markdown",
   "metadata": {},
   "source": [
    "# Modifying Values in a Dictionary"
   ]
  },
  {
   "cell_type": "code",
   "execution_count": 20,
   "metadata": {},
   "outputs": [
    {
     "ename": "TypeError",
     "evalue": "list indices must be integers or slices, not str",
     "output_type": "error",
     "traceback": [
      "\u001b[1;31m---------------------------------------------------------------------------\u001b[0m",
      "\u001b[1;31mTypeError\u001b[0m                                 Traceback (most recent call last)",
      "\u001b[1;32m<ipython-input-20-ae6be859f434>\u001b[0m in \u001b[0;36m<module>\u001b[1;34m()\u001b[0m\n\u001b[1;32m----> 1\u001b[1;33m \u001b[0mprint\u001b[0m\u001b[1;33m(\u001b[0m\u001b[1;34m\"The alien is now\"\u001b[0m \u001b[1;33m+\u001b[0m \u001b[0malien_0\u001b[0m\u001b[1;33m[\u001b[0m\u001b[1;34m'colour'\u001b[0m\u001b[1;33m]\u001b[0m\u001b[1;33m)\u001b[0m\u001b[1;33m\u001b[0m\u001b[0m\n\u001b[0m\u001b[0;32m      2\u001b[0m \u001b[1;33m\u001b[0m\u001b[0m\n\u001b[0;32m      3\u001b[0m \u001b[0malien_0\u001b[0m \u001b[1;33m=\u001b[0m \u001b[1;34m'yellow'\u001b[0m\u001b[1;33m\u001b[0m\u001b[0m\n\u001b[0;32m      4\u001b[0m \u001b[0mprint\u001b[0m\u001b[1;33m(\u001b[0m\u001b[1;34m\"The alien is now\"\u001b[0m \u001b[1;33m+\u001b[0m \u001b[0malien_0\u001b[0m\u001b[1;33m[\u001b[0m\u001b[1;34m'colour'\u001b[0m\u001b[1;33m]\u001b[0m\u001b[1;33m)\u001b[0m\u001b[1;33m\u001b[0m\u001b[0m\n",
      "\u001b[1;31mTypeError\u001b[0m: list indices must be integers or slices, not str"
     ]
    }
   ],
   "source": [
    "print(\"The alien is now\" + alien_0['colour'])\n",
    "\n",
    "alien_0 = 'yellow'\n",
    "print(\"The alien is now\" + alien_0['colour'])"
   ]
  },
  {
   "cell_type": "code",
   "execution_count": 33,
   "metadata": {},
   "outputs": [
    {
     "name": "stdout",
     "output_type": "stream",
     "text": [
      "The alien is nowgreen\n",
      "The alien is nowyellow\n"
     ]
    }
   ],
   "source": [
    "alien_0 = {'colour' : 'green'}\n",
    "\n",
    "print(\"The alien is now\" + alien_0['colour'])\n",
    "\n",
    "alien_0['colour'] = 'yellow'\n",
    "      \n",
    "print(\"The alien is now\" + alien_0['colour'])"
   ]
  },
  {
   "cell_type": "code",
   "execution_count": 34,
   "metadata": {},
   "outputs": [
    {
     "name": "stdout",
     "output_type": "stream",
     "text": [
      "Original x-position:0\n"
     ]
    }
   ],
   "source": [
    "alien_0 = {'x_position' : 0, 'y_position' : 25, 'speed' : 'medium'}\n",
    "\n",
    "print(\"Original x-position:\" + str(alien_0['x_position']))"
   ]
  },
  {
   "cell_type": "code",
   "execution_count": 37,
   "metadata": {},
   "outputs": [
    {
     "name": "stdout",
     "output_type": "stream",
     "text": [
      "New position:2\n"
     ]
    }
   ],
   "source": [
    "#Move the alien to the right \n",
    "#Determine how far to move the alien based on its current speed.\n",
    "\n",
    "if alien_0['speed'] == 'slow':\n",
    "    x_increment =1\n",
    "\n",
    "elif alien_0['speed'] == 'medium':\n",
    "    x_increment =2\n",
    "\n",
    "else:\n",
    "    #This must be a fast alien\n",
    "    x_increment =3\n",
    "    \n",
    "\n",
    "alien_0['x_position'] = alien_0['x_position'] + x_increment\n",
    "\n",
    "print(\"New position:\" + str(alien_0['x_position']))"
   ]
  },
  {
   "cell_type": "code",
   "execution_count": 40,
   "metadata": {},
   "outputs": [
    {
     "name": "stdout",
     "output_type": "stream",
     "text": [
      "Original x-position:0\n",
      "New x-position:1\n"
     ]
    }
   ],
   "source": [
    "#Change 1 piece of code here - change the entire output \n",
    "\n",
    "alien_0 = {'x_position' : 0, 'y_position' : 25, 'speed' : 'slow'}\n",
    "\n",
    "print(\"Original x-position:\" + str(alien_0['x_position']))\n",
    "\n",
    "#Move the alien to the right \n",
    "#Determine how far to move the alien based on its current speed.\n",
    "\n",
    "if alien_0['speed'] == 'slow':\n",
    "    x_increment =1\n",
    "\n",
    "elif alien_0['speed'] == 'medium':\n",
    "    x_increment =2\n",
    "\n",
    "else:\n",
    "    #This must be a fast alien\n",
    "    x_increment =3\n",
    "    \n",
    "\n",
    "alien_0['x_position'] = alien_0['x_position'] + x_increment\n",
    "\n",
    "print(\"New x-position:\" + str(alien_0['x_position']))"
   ]
  },
  {
   "cell_type": "markdown",
   "metadata": {},
   "source": [
    "# Deleting key value pairs "
   ]
  },
  {
   "cell_type": "code",
   "execution_count": 42,
   "metadata": {},
   "outputs": [
    {
     "name": "stdout",
     "output_type": "stream",
     "text": [
      "{'colour': 'green', 'points': 5}\n",
      "{'colour': 'green'}\n"
     ]
    }
   ],
   "source": [
    "alien_0 = {'colour': 'green','points':5}\n",
    "print(alien_0)\n",
    "\n",
    "del alien_0['points']\n",
    "print(alien_0)"
   ]
  },
  {
   "cell_type": "markdown",
   "metadata": {},
   "source": [
    "# A Dictionary of Similiar Objects"
   ]
  },
  {
   "cell_type": "code",
   "execution_count": 47,
   "metadata": {},
   "outputs": [
    {
     "name": "stdout",
     "output_type": "stream",
     "text": [
      "{'chris': 'python', 'pawry': 'java', 'paul': 'vba', 'brendan': 'c++'}\n"
     ]
    }
   ],
   "source": [
    "# Favourit Coding Languages\n",
    "\n",
    "favourite_lang = {'chris': 'python',\n",
    "                     'pawry' : 'java',\n",
    "                     'paul' : 'vba',\n",
    "                     'brendan' : 'c++'}\n",
    "\n",
    "\n",
    "print(Favourite_Codelang)"
   ]
  },
  {
   "cell_type": "code",
   "execution_count": 50,
   "metadata": {},
   "outputs": [
    {
     "name": "stdout",
     "output_type": "stream",
     "text": [
      "Chris's favourite language is python\n"
     ]
    }
   ],
   "source": [
    "print(\"Chris's favourite language is \" + str(favourite_lang['chris']))"
   ]
  },
  {
   "cell_type": "markdown",
   "metadata": {},
   "source": [
    "# 5 Porgramming Concepts = Glossary"
   ]
  },
  {
   "cell_type": "code",
   "execution_count": 54,
   "metadata": {},
   "outputs": [],
   "source": [
    "prog_concepts = {'loops' : 'automation', 'strings' : 'words', 'bracket' : 'act on', ':' : 'logic chain', 'programming' : 'practice'}"
   ]
  },
  {
   "cell_type": "code",
   "execution_count": 65,
   "metadata": {},
   "outputs": [
    {
     "name": "stdout",
     "output_type": "stream",
     "text": [
      "Loops make automation\n",
      "bracket indicates act on\n",
      "strings are formed from words\n",
      "Semicolons in code allow logic chain\n",
      "Rule 1 is practice\n"
     ]
    }
   ],
   "source": [
    "print(\"Loops make \" + str(prog_concepts['loops']))\n",
    "print(\"bracket indicates \" + str(prog_concepts['bracket']))\n",
    "print(\"strings are formed from \" + str(prog_concepts['strings']))\n",
    "print(\"Semicolons in code allow \" + str(prog_concepts[':']))\n",
    "print(\"Rule 1 is \" + str(prog_concepts['programming']))\n",
    "\n",
    "\n",
    "\n",
    "\n"
   ]
  },
  {
   "cell_type": "code",
   "execution_count": null,
   "metadata": {},
   "outputs": [],
   "source": [
    "print(prog_concepts['strings'])\n",
    "\n",
    "print(prog_concepts['bracket'])\n",
    "\n",
    "print(prog_concepts[':'])\n",
    "\n",
    "print(prog_concepts['programming'])\n"
   ]
  },
  {
   "cell_type": "markdown",
   "metadata": {},
   "source": [
    "# Looping through a dictionary"
   ]
  },
  {
   "cell_type": "code",
   "execution_count": 52,
   "metadata": {},
   "outputs": [],
   "source": [
    "user_0 = {'username' : 'efermi',\n",
    "         'first' : 'enrico',\n",
    "         'last' : 'fermi'}"
   ]
  },
  {
   "cell_type": "code",
   "execution_count": 66,
   "metadata": {},
   "outputs": [
    {
     "name": "stdout",
     "output_type": "stream",
     "text": [
      "\n",
      "Key: username\n",
      "Value:efermi\n",
      "\n",
      "Key: first\n",
      "Value:enrico\n",
      "\n",
      "Key: last\n",
      "Value:fermi\n"
     ]
    }
   ],
   "source": [
    "for k, v, in user_0.items():\n",
    "    print(\"\\nKey: \" + k)\n",
    "    print(\"Value:\" + v)\n"
   ]
  },
  {
   "cell_type": "code",
   "execution_count": 73,
   "metadata": {},
   "outputs": [
    {
     "name": "stdout",
     "output_type": "stream",
     "text": [
      "According to Chris The best language is python\n",
      "According to Pawry The best language is java\n",
      "According to Paul The best language is vba\n",
      "According to Brendan The best language is c++\n"
     ]
    }
   ],
   "source": [
    "favourite_lang = {'chris': 'python',\n",
    "                     'pawry' : 'java',\n",
    "                     'paul' : 'vba',\n",
    "                     'brendan' : 'c++'}\n",
    "\n",
    "for name, languages in favourite_lang.items():\n",
    "    print(\"According to \" + name.title() + \" The best language is \" + languages)"
   ]
  },
  {
   "cell_type": "code",
   "execution_count": 75,
   "metadata": {},
   "outputs": [
    {
     "name": "stdout",
     "output_type": "stream",
     "text": [
      "According to Chris\n",
      "According to Pawry\n",
      "According to Paul\n",
      "According to Brendan\n"
     ]
    }
   ],
   "source": [
    "favourite_lang = {'chris': 'python',\n",
    "                     'pawry' : 'java',\n",
    "                     'paul' : 'vba',\n",
    "                     'brendan' : 'c++'}\n",
    "\n",
    "for name in favourite_lang.keys():\n",
    "    print(\"According to \" + name.title())"
   ]
  },
  {
   "cell_type": "code",
   "execution_count": 82,
   "metadata": {},
   "outputs": [
    {
     "name": "stdout",
     "output_type": "stream",
     "text": [
      "Loops lead to automation\n",
      "Strings lead to words\n",
      "Bracket lead to act on\n",
      ": lead to logic chain\n",
      "Programming lead to practice\n",
      "Dictionary lead to keys/values\n",
      "Ifs lead to algorithms\n",
      "Length Of List lead to len\n"
     ]
    }
   ],
   "source": [
    "prog_concepts = {'loops' : 'automation', 'strings' : 'words', 'bracket' : 'act on', ':' : 'logic chain', 'programming' : 'practice', \n",
    "                 'dictionary' : 'keys/values', 'ifs' : 'algorithms', 'length of list' : 'len'}\n",
    "\n",
    "for name, concept in prog_concepts.items():\n",
    "    print(name.title() + \" lead to \" + concept)"
   ]
  },
  {
   "cell_type": "code",
   "execution_count": 83,
   "metadata": {},
   "outputs": [],
   "source": [
    "rivers = {'ireland' : 'shannon', 'uk' : 'thames', 'france': 'seine', 'germany': 'rhine'}"
   ]
  },
  {
   "cell_type": "code",
   "execution_count": 88,
   "metadata": {},
   "outputs": [
    {
     "name": "stdout",
     "output_type": "stream",
     "text": [
      "ireland\n",
      "uk\n",
      "france\n",
      "germany\n"
     ]
    }
   ],
   "source": [
    "#get list of countries\n",
    "\n",
    "for name in rivers:\n",
    "    print(name)"
   ]
  },
  {
   "cell_type": "code",
   "execution_count": 89,
   "metadata": {},
   "outputs": [
    {
     "name": "stdout",
     "output_type": "stream",
     "text": [
      "shannon\n",
      "thames\n",
      "seine\n",
      "rhine\n"
     ]
    }
   ],
   "source": [
    "#get list of rivers\n",
    "\n",
    "for name, river in rivers.items():\n",
    "    print(river)"
   ]
  },
  {
   "cell_type": "markdown",
   "metadata": {},
   "source": [
    "# Combining lists with dictionaries "
   ]
  },
  {
   "cell_type": "code",
   "execution_count": 91,
   "metadata": {},
   "outputs": [
    {
     "name": "stdout",
     "output_type": "stream",
     "text": [
      "chrisThank you for taking the poll\n",
      "paulThank you for taking the poll\n",
      "jamesPlease can you give your answer here\n",
      "davidPlease can you give your answer here\n"
     ]
    }
   ],
   "source": [
    "favourite_lang = {'chris': 'python',\n",
    "                     'pawry' : 'java',\n",
    "                     'paul' : 'vba',\n",
    "                     'brendan' : 'c++'}\n",
    "\n",
    "\n",
    "list_poll = ['chris', 'paul', 'james', 'david']\n",
    "\n",
    "for list in list_poll:\n",
    "    if list in favourite_lang:\n",
    "        print(str(list) + \"Thank you for taking the poll\")\n",
    "    \n",
    "    else:\n",
    "        print(str(list) + \"Please can you give your answer here\")"
   ]
  },
  {
   "cell_type": "code",
   "execution_count": 109,
   "metadata": {},
   "outputs": [
    {
     "name": "stdout",
     "output_type": "stream",
     "text": [
      "david moran ,34 ,Teddington\n",
      "chris finn ,33 ,epsom\n",
      "kevin blaney ,33 ,cork\n"
     ]
    }
   ],
   "source": [
    "dave_moran = {'first_name': 'david', 'second_name': 'moran', 'age': '34', 'lives':'Teddington'}\n",
    "chris_finn = {'first_name': 'chris', 'second_name': 'finn', 'age': '33', 'lives':'epsom'}\n",
    "kevin_blaney = {'first_name': 'kevin', 'second_name': 'blaney', 'age': '33', 'lives':'cork'}\n",
    "\n",
    "\n",
    "people = [dave_moran,  chris_finn, kevin_blaney]\n",
    "\n",
    "for peoples in people:\n",
    "    print(peoples['first_name'] + \" \" + peoples['second_name'] + \" ,\" + peoples['age'] + \" ,\" + peoples['lives'])"
   ]
  },
  {
   "cell_type": "code",
   "execution_count": 117,
   "metadata": {},
   "outputs": [
    {
     "name": "stdout",
     "output_type": "stream",
     "text": [
      "Animal is Pig .Owner is jimmyjones\n",
      "Animal is Dog .Owner is ash\n",
      "Animal is Cat .Owner is serena\n",
      "Animal is Horse .Owner is lucky\n"
     ]
    }
   ],
   "source": [
    "pig_dict = {'animal' : 'pig', 'owner' : 'jimmyjones'}\n",
    "dog_dict = {'animal' : 'dog', 'owner' : 'ash'}\n",
    "cat_dict= {'animal' : 'cat', 'owner' : 'serena'}\n",
    "horse_dict = {'animal' : 'horse', 'owner' : 'lucky'}\n",
    "\n",
    "\n",
    "pets = [pig_dict, dog_dict, cat_dict, horse_dict]\n",
    "\n",
    "for pet in pets:\n",
    "    print(\"Animal is \" + pet['animal'].title() + \" \" + \".\" + \"Owner is \" + pet['owner'])"
   ]
  },
  {
   "cell_type": "markdown",
   "metadata": {},
   "source": [
    "# Combining two Dictionaries together"
   ]
  },
  {
   "cell_type": "code",
   "execution_count": 110,
   "metadata": {},
   "outputs": [],
   "source": [
    "alien_0 = {'colour': 'green','points':5}\n",
    "dave_moran = {'first_name': 'david', 'second_name': 'moran', 'age': '34', 'lives':'Teddington'}\n",
    "\n",
    "dave_moran.update(alien_0)"
   ]
  },
  {
   "cell_type": "code",
   "execution_count": 111,
   "metadata": {},
   "outputs": [
    {
     "name": "stdout",
     "output_type": "stream",
     "text": [
      "{'first_name': 'david', 'second_name': 'moran', 'age': '34', 'lives': 'Teddington', 'colour': 'green', 'points': 5}\n"
     ]
    }
   ],
   "source": [
    "print(dave_moran)"
   ]
  },
  {
   "cell_type": "markdown",
   "metadata": {},
   "source": [
    "# Creating multiples of the same list/dictionary"
   ]
  },
  {
   "cell_type": "code",
   "execution_count": 118,
   "metadata": {},
   "outputs": [],
   "source": [
    "\n",
    "aliens = []"
   ]
  },
  {
   "cell_type": "code",
   "execution_count": 135,
   "metadata": {},
   "outputs": [
    {
     "name": "stdout",
     "output_type": "stream",
     "text": [
      "{'colour': 'green', 'speed': 'slow'}\n",
      "{'colour': 'green', 'speed': 'slow'}\n",
      "{'colour': 'green', 'speed': 'slow'}\n",
      "{'colour': 'green', 'speed': 'slow'}\n",
      "{'colour': 'green', 'speed': 'slow'}\n",
      "{'colour': 'green', 'speed': 'slow'}\n",
      "{'colour': 'green', 'speed': 'slow'}\n",
      "{'colour': 'green', 'speed': 'slow'}\n",
      "{'colour': 'green', 'speed': 'slow'}\n",
      "{'colour': 'green', 'speed': 'slow'}\n",
      "....\n",
      "Total number of aliens is50\n"
     ]
    }
   ],
   "source": [
    "aliens = []\n",
    "\n",
    "#create 50 aliens\n",
    "for alien_number in range(50):\n",
    "    new_alien = {'colour' : 'green', 'speed' : 'slow'} \n",
    "    aliens.append(new_alien)\n",
    "\n",
    "#show first 10\n",
    "for alien in aliens[:10]:\n",
    "    print(alien)\n",
    "print(\"....\")\n",
    "\n",
    "#calculate total amount of aliens\n",
    "print(\"Total number of aliens is\" + str(len(aliens)))"
   ]
  },
  {
   "cell_type": "markdown",
   "metadata": {},
   "source": [
    "# List in a Dictionary"
   ]
  },
  {
   "cell_type": "code",
   "execution_count": 140,
   "metadata": {},
   "outputs": [
    {
     "name": "stdout",
     "output_type": "stream",
     "text": [
      "You have ordered a thickcrust\n",
      "And we have added the following toppings\n",
      "olives\n",
      "anchovies\n",
      "oninons\n"
     ]
    }
   ],
   "source": [
    "#Store information about a pizza being ordered\n",
    "\n",
    "pizza = {'crust' : 'thick', 'toppings':['olives', 'anchovies', 'oninons'],}\n",
    "\n",
    "print(\"You have ordered a \" + pizza['crust'] + \"crust\" + \"\\nAnd we have added the following toppings\" )\n",
    "      \n",
    "for topping in pizza['toppings']:\n",
    "      print(topping)"
   ]
  },
  {
   "cell_type": "markdown",
   "metadata": {},
   "source": [
    "# A Dictionary in a Dictionary "
   ]
  },
  {
   "cell_type": "code",
   "execution_count": 146,
   "metadata": {},
   "outputs": [
    {
     "name": "stdout",
     "output_type": "stream",
     "text": [
      "Username:aeinstein\n",
      "Full name:Albert Einstein\n",
      "Location:Princeton\n"
     ]
    }
   ],
   "source": [
    "users = {'aeinstein': {'first':'albert', 'last':'einstein', 'location': 'princeton'}}\n",
    "\n",
    "for username, user_info in users.items():\n",
    "    print(\"Username:\" + username)\n",
    "    full_name = user_info['first'] + \" \" + user_info['last']\n",
    "    location = user_info['location']\n",
    "    \n",
    "    print(\"Full name:\" + full_name.title())\n",
    "    print(\"Location:\" + location.title())"
   ]
  },
  {
   "cell_type": "code",
   "execution_count": null,
   "metadata": {},
   "outputs": [],
   "source": [
    "//"
   ]
  }
 ],
 "metadata": {
  "kernelspec": {
   "display_name": "Python 3",
   "language": "python",
   "name": "python3"
  },
  "language_info": {
   "codemirror_mode": {
    "name": "ipython",
    "version": 3
   },
   "file_extension": ".py",
   "mimetype": "text/x-python",
   "name": "python",
   "nbconvert_exporter": "python",
   "pygments_lexer": "ipython3",
   "version": "3.7.0"
  }
 },
 "nbformat": 4,
 "nbformat_minor": 2
}
