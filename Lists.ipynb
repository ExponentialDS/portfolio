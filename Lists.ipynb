{
 "cells": [
  {
   "cell_type": "markdown",
   "metadata": {},
   "source": [
    "Lists\n"
   ]
  },
  {
   "cell_type": "code",
   "execution_count": 1,
   "metadata": {},
   "outputs": [
    {
     "data": {
      "text/plain": [
       "['jeep', 'car', 'bus', 'hovercraft']"
      ]
     },
     "execution_count": 1,
     "metadata": {},
     "output_type": "execute_result"
    }
   ],
   "source": [
    "viechles = ['jeep', 'car', 'bus', 'hovercraft']\n",
    "viechles"
   ]
  },
  {
   "cell_type": "markdown",
   "metadata": {},
   "source": [
    "Combining lists with statements"
   ]
  },
  {
   "cell_type": "code",
   "execution_count": 2,
   "metadata": {},
   "outputs": [],
   "source": [
    "message = \"I would like to ride a \" + viechles[1].title() + \".\"\n"
   ]
  },
  {
   "cell_type": "code",
   "execution_count": 3,
   "metadata": {},
   "outputs": [
    {
     "name": "stdout",
     "output_type": "stream",
     "text": [
      "I would like to ride a Car.\n"
     ]
    }
   ],
   "source": [
    "print(message)"
   ]
  },
  {
   "cell_type": "markdown",
   "metadata": {},
   "source": [
    "Adding things to a list using .append\\\n",
    "\n"
   ]
  },
  {
   "cell_type": "code",
   "execution_count": 4,
   "metadata": {},
   "outputs": [
    {
     "data": {
      "text/plain": [
       "['jeep', 'car', 'bus', 'hovercraft', 'plane']"
      ]
     },
     "execution_count": 4,
     "metadata": {},
     "output_type": "execute_result"
    }
   ],
   "source": [
    "viechles.append('plane')\n",
    "viechles"
   ]
  },
  {
   "cell_type": "markdown",
   "metadata": {},
   "source": [
    "Building lists from scratch using .append"
   ]
  },
  {
   "cell_type": "code",
   "execution_count": 5,
   "metadata": {},
   "outputs": [],
   "source": [
    "aa = []"
   ]
  },
  {
   "cell_type": "code",
   "execution_count": 6,
   "metadata": {},
   "outputs": [],
   "source": [
    "aa.append('Step1')"
   ]
  },
  {
   "cell_type": "code",
   "execution_count": 7,
   "metadata": {},
   "outputs": [],
   "source": [
    "aa.append('Step2')"
   ]
  },
  {
   "cell_type": "code",
   "execution_count": 8,
   "metadata": {},
   "outputs": [],
   "source": [
    "aa.append('Step3')\n"
   ]
  },
  {
   "cell_type": "code",
   "execution_count": 9,
   "metadata": {},
   "outputs": [],
   "source": [
    "aa.append('Step4')"
   ]
  },
  {
   "cell_type": "code",
   "execution_count": 10,
   "metadata": {},
   "outputs": [],
   "source": [
    "aa.append('Step5')\n",
    "aa.append('Step6')\n",
    "aa.append('Step7')\n",
    "aa.append('Step8')\n",
    "aa.append('Step9')\n",
    "aa.append('Step10')\n",
    "aa.append('Step11')\n",
    "aa.append('Step12')\n",
    "\n"
   ]
  },
  {
   "cell_type": "code",
   "execution_count": 11,
   "metadata": {},
   "outputs": [
    {
     "data": {
      "text/plain": [
       "['Step1',\n",
       " 'Step2',\n",
       " 'Step3',\n",
       " 'Step4',\n",
       " 'Step5',\n",
       " 'Step6',\n",
       " 'Step7',\n",
       " 'Step8',\n",
       " 'Step9',\n",
       " 'Step10',\n",
       " 'Step11',\n",
       " 'Step12']"
      ]
     },
     "execution_count": 11,
     "metadata": {},
     "output_type": "execute_result"
    }
   ],
   "source": [
    "aa\n"
   ]
  },
  {
   "cell_type": "code",
   "execution_count": 12,
   "metadata": {},
   "outputs": [
    {
     "data": {
      "text/plain": [
       "['Step1',\n",
       " 'Step2',\n",
       " 'Step3',\n",
       " 'Step4',\n",
       " 'Step5',\n",
       " 'Step6',\n",
       " 'Step7',\n",
       " 'Step8',\n",
       " 'Step9',\n",
       " 'Step10',\n",
       " 'Step11',\n",
       " 'Step12']"
      ]
     },
     "execution_count": 12,
     "metadata": {},
     "output_type": "execute_result"
    }
   ],
   "source": [
    "aa"
   ]
  },
  {
   "cell_type": "markdown",
   "metadata": {},
   "source": [
    "Insert something into a list using .insert()"
   ]
  },
  {
   "cell_type": "code",
   "execution_count": 13,
   "metadata": {},
   "outputs": [],
   "source": [
    "aa.insert(10, 'pray')"
   ]
  },
  {
   "cell_type": "code",
   "execution_count": 14,
   "metadata": {},
   "outputs": [
    {
     "data": {
      "text/plain": [
       "['Step1',\n",
       " 'Step2',\n",
       " 'Step3',\n",
       " 'Step4',\n",
       " 'Step5',\n",
       " 'Step6',\n",
       " 'Step7',\n",
       " 'Step8',\n",
       " 'Step9',\n",
       " 'Step10',\n",
       " 'pray',\n",
       " 'Step11',\n",
       " 'Step12']"
      ]
     },
     "execution_count": 14,
     "metadata": {},
     "output_type": "execute_result"
    }
   ],
   "source": [
    "aa"
   ]
  },
  {
   "cell_type": "markdown",
   "metadata": {},
   "source": [
    "Deleting something in a list"
   ]
  },
  {
   "cell_type": "code",
   "execution_count": 15,
   "metadata": {},
   "outputs": [],
   "source": [
    "del aa[1]"
   ]
  },
  {
   "cell_type": "code",
   "execution_count": 16,
   "metadata": {},
   "outputs": [
    {
     "data": {
      "text/plain": [
       "['Step1',\n",
       " 'Step3',\n",
       " 'Step4',\n",
       " 'Step5',\n",
       " 'Step6',\n",
       " 'Step7',\n",
       " 'Step8',\n",
       " 'Step9',\n",
       " 'Step10',\n",
       " 'pray',\n",
       " 'Step11',\n",
       " 'Step12']"
      ]
     },
     "execution_count": 16,
     "metadata": {},
     "output_type": "execute_result"
    }
   ],
   "source": [
    "aa"
   ]
  },
  {
   "cell_type": "markdown",
   "metadata": {},
   "source": [
    "You can also eliminate a list member by using .pop()"
   ]
  },
  {
   "cell_type": "code",
   "execution_count": 17,
   "metadata": {},
   "outputs": [],
   "source": [
    "aapopped = aa.pop()"
   ]
  },
  {
   "cell_type": "code",
   "execution_count": 18,
   "metadata": {},
   "outputs": [
    {
     "name": "stdout",
     "output_type": "stream",
     "text": [
      "Step12\n"
     ]
    }
   ],
   "source": [
    "print(aapopped)"
   ]
  },
  {
   "cell_type": "code",
   "execution_count": 19,
   "metadata": {},
   "outputs": [
    {
     "data": {
      "text/plain": [
       "['Step1',\n",
       " 'Step2',\n",
       " 'Step3',\n",
       " 'Step4',\n",
       " 'Step5',\n",
       " 'Step6',\n",
       " 'Step7',\n",
       " 'Step8',\n",
       " 'Step9',\n",
       " 'Step10',\n",
       " 'Step11',\n",
       " 'Step12']"
      ]
     },
     "execution_count": 19,
     "metadata": {},
     "output_type": "execute_result"
    }
   ],
   "source": [
    "aa = ['Step1', 'Step2', 'Step3', 'Step4', 'Step5', 'Step6', 'Step7', 'Step8', 'Step9', 'Step10', 'Step11', 'Step12']\n",
    "aa"
   ]
  },
  {
   "cell_type": "code",
   "execution_count": 20,
   "metadata": {},
   "outputs": [
    {
     "name": "stdout",
     "output_type": "stream",
     "text": [
      "The last step I worked was Step12\n"
     ]
    }
   ],
   "source": [
    "last_step = aa.pop()\n",
    "message = \"The last step I worked was \" + last_step\n",
    "print(message)"
   ]
  },
  {
   "cell_type": "code",
   "execution_count": 21,
   "metadata": {},
   "outputs": [],
   "source": [
    "aa = ['Step1', 'Step2', 'Step3', 'Step4', 'Step5', 'Step6', 'Step7', 'Step8', 'Step9', 'Step10', 'Step11', 'Step12']\n",
    "aa\n",
    "first_step = aa.pop(0)\n",
    "message2 = \"The first step I was worked was \" + first_step\n"
   ]
  },
  {
   "cell_type": "code",
   "execution_count": 22,
   "metadata": {},
   "outputs": [
    {
     "name": "stdout",
     "output_type": "stream",
     "text": [
      "The first step I was worked was Step1\n"
     ]
    }
   ],
   "source": [
    "print(message2)"
   ]
  },
  {
   "cell_type": "markdown",
   "metadata": {},
   "source": [
    "You can also use .remove to delete something"
   ]
  },
  {
   "cell_type": "code",
   "execution_count": 23,
   "metadata": {},
   "outputs": [],
   "source": [
    "aa = ['Step1', 'Step2', 'Step3', 'Step4', 'Step5', 'Step6', 'Step7', 'Step8', 'Step9', 'Step10', 'Step11', 'Step12']\n",
    "aa\n",
    "aa.remove('Step6')"
   ]
  },
  {
   "cell_type": "code",
   "execution_count": 24,
   "metadata": {},
   "outputs": [
    {
     "data": {
      "text/plain": [
       "['Step1',\n",
       " 'Step2',\n",
       " 'Step3',\n",
       " 'Step4',\n",
       " 'Step5',\n",
       " 'Step7',\n",
       " 'Step8',\n",
       " 'Step9',\n",
       " 'Step10',\n",
       " 'Step11',\n",
       " 'Step12']"
      ]
     },
     "execution_count": 24,
     "metadata": {},
     "output_type": "execute_result"
    }
   ],
   "source": [
    "aa\n"
   ]
  },
  {
   "cell_type": "code",
   "execution_count": 25,
   "metadata": {},
   "outputs": [
    {
     "data": {
      "text/plain": [
       "['Step1',\n",
       " 'Step2',\n",
       " 'Step3',\n",
       " 'Step4',\n",
       " 'Step5',\n",
       " 'Step6',\n",
       " 'Step7',\n",
       " 'Step8',\n",
       " 'Step9',\n",
       " 'Step10',\n",
       " 'Step11',\n",
       " 'Step12']"
      ]
     },
     "execution_count": 25,
     "metadata": {},
     "output_type": "execute_result"
    }
   ],
   "source": [
    "aa = ['Step1', 'Step2', 'Step3', 'Step4', 'Step5', 'Step6', 'Step7', 'Step8', 'Step9', 'Step10', 'Step11', 'Step12']\n",
    "aa"
   ]
  },
  {
   "cell_type": "markdown",
   "metadata": {},
   "source": [
    "Combine statements with Remove"
   ]
  },
  {
   "cell_type": "code",
   "execution_count": 26,
   "metadata": {},
   "outputs": [
    {
     "name": "stdout",
     "output_type": "stream",
     "text": [
      "['Step2', 'Step3', 'Step4', 'Step5', 'Step6', 'Step7', 'Step8', 'Step9', 'Step10', 'Step11', 'Step12']\n"
     ]
    }
   ],
   "source": [
    "most_import = 'Step1'\n",
    "aa.remove(most_import)\n",
    "print(aa)"
   ]
  },
  {
   "cell_type": "code",
   "execution_count": 27,
   "metadata": {},
   "outputs": [
    {
     "name": "stdout",
     "output_type": "stream",
     "text": [
      "\n",
      "A Step1 is critical for life\n"
     ]
    }
   ],
   "source": [
    "print(\"\\nA \"  + most_import + \" is critical for life\")"
   ]
  },
  {
   "cell_type": "markdown",
   "metadata": {},
   "source": [
    "Exercise form page 46 Python - Guest List"
   ]
  },
  {
   "cell_type": "code",
   "execution_count": 28,
   "metadata": {},
   "outputs": [
    {
     "data": {
      "text/plain": [
       "['Quirkes',\n",
       " 'Parents',\n",
       " 'Konigs',\n",
       " 'Jadgiches',\n",
       " 'Oliversdad',\n",
       " 'Bobs',\n",
       " 'Robynsparents']"
      ]
     },
     "execution_count": 28,
     "metadata": {},
     "output_type": "execute_result"
    }
   ],
   "source": [
    "gl = ['Quirkes', 'Parents', 'Konigs', 'Jadgiches', 'Oliversdad', 'Bobs', 'Robynsparents']\n",
    "gl"
   ]
  },
  {
   "cell_type": "code",
   "execution_count": 29,
   "metadata": {},
   "outputs": [],
   "source": [
    "Invite1 = gl[0] +  \" You are cordially invited to a summers party on Saturday, the 5th of April 2019\""
   ]
  },
  {
   "cell_type": "code",
   "execution_count": 30,
   "metadata": {},
   "outputs": [
    {
     "name": "stdout",
     "output_type": "stream",
     "text": [
      "Quirkes You are cordially invited to a summers party on Saturday, the 5th of April 2019\n"
     ]
    }
   ],
   "source": [
    "print(Invite1)"
   ]
  },
  {
   "cell_type": "code",
   "execution_count": 31,
   "metadata": {},
   "outputs": [],
   "source": [
    "Invite1 = gl[0] +  \" You are cordially invited to a summers party on Saturday, the 5th of April 2019\"\n",
    "Invite2 = gl[1] +  \" You are cordially invited to a summers party on Saturday, the 5th of April 2019\"\n",
    "Invite3 = gl[2] +  \" You are cordially invited to a summers party on Saturday, the 5th of April 2019\"\n",
    "Invite4 = gl[3] +  \" You are cordially invited to a summers party on Saturday, the 5th of April 2019\"\n",
    "Invite5= gl[4] +  \" You are cordially invited to a summers party on Saturday, the 5th of April 2019\"\n",
    "Invite6= gl[5] + \"You are cordially invited to a summers party on Saturday, the 5th of April 2019\"\n",
    "Invite7= gl[-1] +  \" You are cordially invited to a summers party on Saturday, the 5th of April 2019\"\n"
   ]
  },
  {
   "cell_type": "code",
   "execution_count": 32,
   "metadata": {},
   "outputs": [
    {
     "name": "stdout",
     "output_type": "stream",
     "text": [
      "Quirkes You are cordially invited to a summers party on Saturday, the 5th of April 2019\n",
      "Parents You are cordially invited to a summers party on Saturday, the 5th of April 2019\n",
      "Konigs You are cordially invited to a summers party on Saturday, the 5th of April 2019\n",
      "Jadgiches You are cordially invited to a summers party on Saturday, the 5th of April 2019\n",
      "Oliversdad You are cordially invited to a summers party on Saturday, the 5th of April 2019\n",
      "BobsYou are cordially invited to a summers party on Saturday, the 5th of April 2019\n",
      "Robynsparents You are cordially invited to a summers party on Saturday, the 5th of April 2019\n"
     ]
    }
   ],
   "source": [
    "print(Invite1)\n",
    "print(Invite2)\n",
    "print(Invite3)\n",
    "print(Invite4)\n",
    "print(Invite5)\n",
    "print(Invite6)\n",
    "print(Invite7)\n"
   ]
  },
  {
   "cell_type": "code",
   "execution_count": 33,
   "metadata": {},
   "outputs": [
    {
     "name": "stdout",
     "output_type": "stream",
     "text": [
      "Parents can't make the party. DutchKonigs will come instead.\n"
     ]
    }
   ],
   "source": [
    "print(gl[1] + \" can't make the party. DutchKonigs will come instead.\")"
   ]
  },
  {
   "cell_type": "code",
   "execution_count": 34,
   "metadata": {},
   "outputs": [
    {
     "data": {
      "text/plain": [
       "['Quirkes',\n",
       " 'Parents',\n",
       " 'Konigs',\n",
       " 'Jadgiches',\n",
       " 'Oliversdad',\n",
       " 'Bobs',\n",
       " 'Robynsparents']"
      ]
     },
     "execution_count": 34,
     "metadata": {},
     "output_type": "execute_result"
    }
   ],
   "source": [
    "gl"
   ]
  },
  {
   "cell_type": "code",
   "execution_count": 35,
   "metadata": {},
   "outputs": [
    {
     "data": {
      "text/plain": [
       "['Quirkes',\n",
       " 'Parents',\n",
       " 'Konigs',\n",
       " 'Jadgiches',\n",
       " 'Oliversdad',\n",
       " 'Bobs',\n",
       " 'Robynsparents']"
      ]
     },
     "execution_count": 35,
     "metadata": {},
     "output_type": "execute_result"
    }
   ],
   "source": [
    "gl"
   ]
  },
  {
   "cell_type": "code",
   "execution_count": 36,
   "metadata": {},
   "outputs": [
    {
     "data": {
      "text/plain": [
       "['Quirkes', 'Konigs', 'Jadgiches', 'Oliversdad', 'Bobs', 'Robynsparents']"
      ]
     },
     "execution_count": 36,
     "metadata": {},
     "output_type": "execute_result"
    }
   ],
   "source": [
    "gl = ['Quirkes', 'Parents', 'Konigs', 'Jadgiches', 'Oliversdad', 'Bobs', 'Robynsparents']\n",
    "gl.remove('Parents')\n",
    "gl"
   ]
  },
  {
   "cell_type": "code",
   "execution_count": 37,
   "metadata": {},
   "outputs": [],
   "source": [
    "gl.insert(1, 'DutchKonigs')"
   ]
  },
  {
   "cell_type": "code",
   "execution_count": 38,
   "metadata": {},
   "outputs": [
    {
     "data": {
      "text/plain": [
       "['Quirkes',\n",
       " 'DutchKonigs',\n",
       " 'Konigs',\n",
       " 'Jadgiches',\n",
       " 'Oliversdad',\n",
       " 'Bobs',\n",
       " 'Robynsparents']"
      ]
     },
     "execution_count": 38,
     "metadata": {},
     "output_type": "execute_result"
    }
   ],
   "source": [
    "gl"
   ]
  },
  {
   "cell_type": "code",
   "execution_count": 39,
   "metadata": {},
   "outputs": [
    {
     "ename": "IndexError",
     "evalue": "list index out of range",
     "output_type": "error",
     "traceback": [
      "\u001b[1;31m---------------------------------------------------------------------------\u001b[0m",
      "\u001b[1;31mIndexError\u001b[0m                                Traceback (most recent call last)",
      "\u001b[1;32m<ipython-input-39-a9020af6a9d3>\u001b[0m in \u001b[0;36m<module>\u001b[1;34m()\u001b[0m\n\u001b[0;32m      6\u001b[0m \u001b[0mInvite6\u001b[0m\u001b[1;33m=\u001b[0m \u001b[0mgl\u001b[0m\u001b[1;33m[\u001b[0m\u001b[1;36m5\u001b[0m\u001b[1;33m]\u001b[0m \u001b[1;33m+\u001b[0m \u001b[1;34m\"You are cordially invited to a summers party on Saturday, the 5th of April 2019\"\u001b[0m \u001b[1;33m+\u001b[0m \u001b[1;34m\" There will be 9 families joining us.\"\u001b[0m\u001b[1;33m\u001b[0m\u001b[0m\n\u001b[0;32m      7\u001b[0m \u001b[0mInvite7\u001b[0m\u001b[1;33m=\u001b[0m \u001b[0mgl\u001b[0m\u001b[1;33m[\u001b[0m\u001b[1;36m6\u001b[0m\u001b[1;33m]\u001b[0m \u001b[1;33m+\u001b[0m  \u001b[1;34m\" You are cordially invited to a summers party on Saturday, the 5th of April 2019\"\u001b[0m \u001b[1;33m+\u001b[0m \u001b[1;34m\" There will be 9 families joining us.\"\u001b[0m\u001b[1;33m\u001b[0m\u001b[0m\n\u001b[1;32m----> 8\u001b[1;33m \u001b[0mInvite8\u001b[0m \u001b[1;33m=\u001b[0m \u001b[0mgl\u001b[0m\u001b[1;33m[\u001b[0m\u001b[1;36m7\u001b[0m\u001b[1;33m]\u001b[0m \u001b[1;33m+\u001b[0m  \u001b[1;34m\" You are cordially invited to a summers party on Saturday, the 5th of April 2019\"\u001b[0m \u001b[1;33m+\u001b[0m \u001b[1;34m\" There will be 9 families joining us.\"\u001b[0m\u001b[1;33m\u001b[0m\u001b[0m\n\u001b[0m\u001b[0;32m      9\u001b[0m \u001b[0mInvite9\u001b[0m \u001b[1;33m=\u001b[0m \u001b[0mgl\u001b[0m\u001b[1;33m[\u001b[0m\u001b[1;33m-\u001b[0m\u001b[1;36m1\u001b[0m\u001b[1;33m]\u001b[0m \u001b[1;33m+\u001b[0m  \u001b[1;34m\" You are cordially invited to a summers party on Saturday, the 5th of April 2019\"\u001b[0m \u001b[1;33m+\u001b[0m \u001b[1;34m\" There will be 9 families joining us.\"\u001b[0m\u001b[1;33m\u001b[0m\u001b[0m\n\u001b[0;32m     10\u001b[0m \u001b[1;33m\u001b[0m\u001b[0m\n",
      "\u001b[1;31mIndexError\u001b[0m: list index out of range"
     ]
    }
   ],
   "source": [
    "Invite1 = gl[0] +  \" You are cordially invited to a summers party on Saturday, the 5th of April 2019\" + \" There will be 9 families joining us.\"\n",
    "Invite2 = gl[1] +  \" You are cordially invited to a summers party on Saturday, the 5th of April 2019\" + \" There will be 9 families joining us.\"\n",
    "Invite3 = gl[2] +  \" You are cordially invited to a summers party on Saturday, the 5th of April 2019\" + \" There will be 9 families joining us.\"\n",
    "Invite4 = gl[3] +  \" You are cordially invited to a summers party on Saturday, the 5th of April 2019\" + \" There will be 9 families joining us.\"\n",
    "Invite5= gl[4] +  \" You are cordially invited to a summers party on Saturday, the 5th of April 2019\" + \" There will be 9 families joining us.\"\n",
    "Invite6= gl[5] + \"You are cordially invited to a summers party on Saturday, the 5th of April 2019\" + \" There will be 9 families joining us.\"\n",
    "Invite7= gl[6] +  \" You are cordially invited to a summers party on Saturday, the 5th of April 2019\" + \" There will be 9 families joining us.\"\n",
    "Invite8 = gl[7] +  \" You are cordially invited to a summers party on Saturday, the 5th of April 2019\" + \" There will be 9 families joining us.\"\n",
    "Invite9 = gl[-1] +  \" You are cordially invited to a summers party on Saturday, the 5th of April 2019\" + \" There will be 9 families joining us.\"\n",
    "\n",
    "print(Invite1)\n",
    "print(Invite2)\n",
    "print(Invite3)\n",
    "print(Invite4)\n",
    "print(Invite5)\n",
    "print(Invite6)\n",
    "print(Invite7)"
   ]
  },
  {
   "cell_type": "code",
   "execution_count": 41,
   "metadata": {},
   "outputs": [
    {
     "name": "stdout",
     "output_type": "stream",
     "text": [
      "We have found a bigger table\n"
     ]
    }
   ],
   "source": [
    "print(\"We have found a bigger table\")"
   ]
  },
  {
   "cell_type": "code",
   "execution_count": 42,
   "metadata": {},
   "outputs": [],
   "source": [
    "gl.append('Ivana')\n"
   ]
  },
  {
   "cell_type": "code",
   "execution_count": 43,
   "metadata": {},
   "outputs": [],
   "source": [
    "gl.insert(1, 'Erica')\n",
    "gl.insert(5, 'Sisko')"
   ]
  },
  {
   "cell_type": "code",
   "execution_count": 44,
   "metadata": {},
   "outputs": [
    {
     "data": {
      "text/plain": [
       "['Quirkes',\n",
       " 'Erica',\n",
       " 'DutchKonigs',\n",
       " 'Konigs',\n",
       " 'Jadgiches',\n",
       " 'Sisko',\n",
       " 'Oliversdad',\n",
       " 'Bobs',\n",
       " 'Robynsparents',\n",
       " 'Ivana']"
      ]
     },
     "execution_count": 44,
     "metadata": {},
     "output_type": "execute_result"
    }
   ],
   "source": [
    "gl"
   ]
  },
  {
   "cell_type": "code",
   "execution_count": 45,
   "metadata": {},
   "outputs": [
    {
     "name": "stdout",
     "output_type": "stream",
     "text": [
      "Quirkes You are cordially invited to a summers party on Saturday, the 5th of April 2019 There will be 9 families joining us.\n",
      "Erica You are cordially invited to a summers party on Saturday, the 5th of April 2019 There will be 9 families joining us.\n",
      "DutchKonigs You are cordially invited to a summers party on Saturday, the 5th of April 2019 There will be 9 families joining us.\n",
      "Konigs You are cordially invited to a summers party on Saturday, the 5th of April 2019 There will be 9 families joining us.\n",
      "Jadgiches You are cordially invited to a summers party on Saturday, the 5th of April 2019 There will be 9 families joining us.\n",
      "SiskoYou are cordially invited to a summers party on Saturday, the 5th of April 2019 There will be 9 families joining us.\n",
      "Oliversdad You are cordially invited to a summers party on Saturday, the 5th of April 2019 There will be 9 families joining us.\n",
      "Bobs You are cordially invited to a summers party on Saturday, the 5th of April 2019 There will be 9 families joining us.\n",
      "Ivana You are cordially invited to a summers party on Saturday, the 5th of April 2019 There will be 9 families joining us.\n"
     ]
    }
   ],
   "source": [
    "Invite1 = gl[0] +  \" You are cordially invited to a summers party on Saturday, the 5th of April 2019\" + \" There will be 9 families joining us.\"\n",
    "Invite2 = gl[1] +  \" You are cordially invited to a summers party on Saturday, the 5th of April 2019\" + \" There will be 9 families joining us.\"\n",
    "Invite3 = gl[2] +  \" You are cordially invited to a summers party on Saturday, the 5th of April 2019\" + \" There will be 9 families joining us.\"\n",
    "Invite4 = gl[3] +  \" You are cordially invited to a summers party on Saturday, the 5th of April 2019\" + \" There will be 9 families joining us.\"\n",
    "Invite5= gl[4] +  \" You are cordially invited to a summers party on Saturday, the 5th of April 2019\" + \" There will be 9 families joining us.\"\n",
    "Invite6= gl[5] + \"You are cordially invited to a summers party on Saturday, the 5th of April 2019\" + \" There will be 9 families joining us.\"\n",
    "Invite7= gl[6] +  \" You are cordially invited to a summers party on Saturday, the 5th of April 2019\" + \" There will be 9 families joining us.\"\n",
    "Invite8 = gl[7] +  \" You are cordially invited to a summers party on Saturday, the 5th of April 2019\" + \" There will be 9 families joining us.\"\n",
    "Invite9 = gl[-1] +  \" You are cordially invited to a summers party on Saturday, the 5th of April 2019\" + \" There will be 9 families joining us.\"\n",
    "\n",
    "print(Invite1)\n",
    "print(Invite2)\n",
    "print(Invite3)\n",
    "print(Invite4)\n",
    "print(Invite5)\n",
    "print(Invite6)\n",
    "print(Invite7)\n",
    "print(Invite8)\n",
    "print(Invite9)"
   ]
  },
  {
   "cell_type": "code",
   "execution_count": 46,
   "metadata": {},
   "outputs": [
    {
     "name": "stdout",
     "output_type": "stream",
     "text": [
      "Unfortunately, I can only invite two now. Bobs and Oliversdad\n"
     ]
    }
   ],
   "source": [
    "print(\"Unfortunately, I can only invite two now. Bobs and Oliversdad\")"
   ]
  },
  {
   "cell_type": "code",
   "execution_count": 47,
   "metadata": {},
   "outputs": [],
   "source": [
    "Invite1_popped = gl.pop()"
   ]
  },
  {
   "cell_type": "code",
   "execution_count": 48,
   "metadata": {},
   "outputs": [],
   "source": [
    "Cancel1 = Invite1_popped + \". I am sorry to inform you that the summers party is cancelled.\""
   ]
  },
  {
   "cell_type": "code",
   "execution_count": 49,
   "metadata": {},
   "outputs": [
    {
     "name": "stdout",
     "output_type": "stream",
     "text": [
      "Ivana. I am sorry to inform you that the summers party is cancelled.\n"
     ]
    }
   ],
   "source": [
    "print(Cancel1)"
   ]
  },
  {
   "cell_type": "code",
   "execution_count": 50,
   "metadata": {},
   "outputs": [
    {
     "name": "stdout",
     "output_type": "stream",
     "text": [
      "Robynsparents. I am sorry to inform you that the summers party is cancelled.\n"
     ]
    }
   ],
   "source": [
    "Invite1_popped = gl.pop()\n",
    "Cancel1 = Invite1_popped + \". I am sorry to inform you that the summers party is cancelled.\"\n",
    "print(Cancel1)"
   ]
  },
  {
   "cell_type": "code",
   "execution_count": 51,
   "metadata": {},
   "outputs": [],
   "source": [
    "Stillon_popped = gl.pop()\n",
    "Stillon = Stillon_popped + \". The party will only be now two families. Yours and 1 other now.\""
   ]
  },
  {
   "cell_type": "code",
   "execution_count": 52,
   "metadata": {},
   "outputs": [
    {
     "name": "stdout",
     "output_type": "stream",
     "text": [
      "Bobs. The party will only be now two families. Yours and 1 other now.\n"
     ]
    }
   ],
   "source": [
    "print(Stillon)"
   ]
  },
  {
   "cell_type": "code",
   "execution_count": 53,
   "metadata": {},
   "outputs": [
    {
     "name": "stdout",
     "output_type": "stream",
     "text": [
      "Oliversdad. I am sorry to inform you that the summers party is cancelled.\n"
     ]
    }
   ],
   "source": [
    "Invite1_popped = gl.pop()\n",
    "Cancel1 = Invite1_popped + \". I am sorry to inform you that the summers party is cancelled.\"\n",
    "print(Cancel1)"
   ]
  },
  {
   "cell_type": "code",
   "execution_count": 54,
   "metadata": {},
   "outputs": [
    {
     "name": "stdout",
     "output_type": "stream",
     "text": [
      "Sisko. I am sorry to inform you that the summers party is cancelled.\n"
     ]
    }
   ],
   "source": [
    "Invite1_popped = gl.pop()\n",
    "Cancel1 = Invite1_popped + \". I am sorry to inform you that the summers party is cancelled.\"\n",
    "print(Cancel1)"
   ]
  },
  {
   "cell_type": "code",
   "execution_count": 55,
   "metadata": {},
   "outputs": [
    {
     "name": "stdout",
     "output_type": "stream",
     "text": [
      "Jadgiches. I am sorry to inform you that the summers party is cancelled.\n"
     ]
    }
   ],
   "source": [
    "Invite1_popped = gl.pop()\n",
    "Cancel1 = Invite1_popped + \". I am sorry to inform you that the summers party is cancelled.\"\n",
    "print(Cancel1)"
   ]
  },
  {
   "cell_type": "code",
   "execution_count": 56,
   "metadata": {},
   "outputs": [
    {
     "name": "stdout",
     "output_type": "stream",
     "text": [
      "Konigs. I am sorry to inform you that the summers party is cancelled.\n"
     ]
    }
   ],
   "source": [
    "Invite1_popped = gl.pop()\n",
    "Cancel1 = Invite1_popped + \". I am sorry to inform you that the summers party is cancelled.\"\n",
    "print(Cancel1)"
   ]
  },
  {
   "cell_type": "code",
   "execution_count": 57,
   "metadata": {},
   "outputs": [
    {
     "name": "stdout",
     "output_type": "stream",
     "text": [
      "DutchKonigs. I am sorry to inform you that the summers party is cancelled.\n"
     ]
    }
   ],
   "source": [
    "Invite1_popped = gl.pop()\n",
    "Cancel1 = Invite1_popped + \". I am sorry to inform you that the summers party is cancelled.\"\n",
    "print(Cancel1)"
   ]
  },
  {
   "cell_type": "code",
   "execution_count": 58,
   "metadata": {},
   "outputs": [
    {
     "name": "stdout",
     "output_type": "stream",
     "text": [
      "Erica. I am sorry to inform you that the summers party is cancelled.\n"
     ]
    }
   ],
   "source": [
    "Invite1_popped = gl.pop()\n",
    "Cancel1 = Invite1_popped + \". I am sorry to inform you that the summers party is cancelled.\"\n",
    "print(Cancel1)"
   ]
  },
  {
   "cell_type": "code",
   "execution_count": 59,
   "metadata": {},
   "outputs": [
    {
     "ename": "SyntaxError",
     "evalue": "invalid syntax (<ipython-input-59-10f08676d8e5>, line 1)",
     "output_type": "error",
     "traceback": [
      "\u001b[1;36m  File \u001b[1;32m\"<ipython-input-59-10f08676d8e5>\"\u001b[1;36m, line \u001b[1;32m1\u001b[0m\n\u001b[1;33m    gl.del(1)\u001b[0m\n\u001b[1;37m         ^\u001b[0m\n\u001b[1;31mSyntaxError\u001b[0m\u001b[1;31m:\u001b[0m invalid syntax\n"
     ]
    }
   ],
   "source": [
    "gl.del(1)"
   ]
  },
  {
   "cell_type": "code",
   "execution_count": 60,
   "metadata": {},
   "outputs": [],
   "source": [
    "gl.clear()"
   ]
  },
  {
   "cell_type": "code",
   "execution_count": 61,
   "metadata": {},
   "outputs": [
    {
     "name": "stdout",
     "output_type": "stream",
     "text": [
      "[]\n"
     ]
    }
   ],
   "source": [
    "print(gl)"
   ]
  },
  {
   "cell_type": "markdown",
   "metadata": {},
   "source": [
    "Using sort to organize a list - makes it go alphabeatlically"
   ]
  },
  {
   "cell_type": "code",
   "execution_count": 62,
   "metadata": {},
   "outputs": [],
   "source": [
    "aa = ['Step1', 'Step2', 'Step3', 'Step4', 'Step5', 'Step6', 'Step7', 'Step8', 'Step9', 'Step10', 'Step11', 'Step12']\n",
    "aa\n",
    "aa.sort()"
   ]
  },
  {
   "cell_type": "code",
   "execution_count": 63,
   "metadata": {},
   "outputs": [
    {
     "data": {
      "text/plain": [
       "['Step1',\n",
       " 'Step10',\n",
       " 'Step11',\n",
       " 'Step12',\n",
       " 'Step2',\n",
       " 'Step3',\n",
       " 'Step4',\n",
       " 'Step5',\n",
       " 'Step6',\n",
       " 'Step7',\n",
       " 'Step8',\n",
       " 'Step9']"
      ]
     },
     "execution_count": 63,
     "metadata": {},
     "output_type": "execute_result"
    }
   ],
   "source": [
    "aa"
   ]
  },
  {
   "cell_type": "code",
   "execution_count": 64,
   "metadata": {},
   "outputs": [],
   "source": [
    "gl = ['Quirkes', 'Parents', 'Konigs', 'Jadgiches', 'Oliversdad', 'Bobs', 'Robynsparents']\n",
    "gl.sort()"
   ]
  },
  {
   "cell_type": "code",
   "execution_count": 65,
   "metadata": {},
   "outputs": [
    {
     "data": {
      "text/plain": [
       "['Bobs',\n",
       " 'Jadgiches',\n",
       " 'Konigs',\n",
       " 'Oliversdad',\n",
       " 'Parents',\n",
       " 'Quirkes',\n",
       " 'Robynsparents']"
      ]
     },
     "execution_count": 65,
     "metadata": {},
     "output_type": "execute_result"
    }
   ],
   "source": [
    "gl"
   ]
  },
  {
   "cell_type": "code",
   "execution_count": 66,
   "metadata": {},
   "outputs": [],
   "source": [
    "gl.sort(reverse=True)"
   ]
  },
  {
   "cell_type": "code",
   "execution_count": 67,
   "metadata": {},
   "outputs": [
    {
     "data": {
      "text/plain": [
       "['Robynsparents',\n",
       " 'Quirkes',\n",
       " 'Parents',\n",
       " 'Oliversdad',\n",
       " 'Konigs',\n",
       " 'Jadgiches',\n",
       " 'Bobs']"
      ]
     },
     "execution_count": 67,
     "metadata": {},
     "output_type": "execute_result"
    }
   ],
   "source": [
    "gl"
   ]
  },
  {
   "cell_type": "markdown",
   "metadata": {},
   "source": [
    "# Using the sorted function to change order of a list"
   ]
  },
  {
   "cell_type": "code",
   "execution_count": 68,
   "metadata": {},
   "outputs": [
    {
     "name": "stdout",
     "output_type": "stream",
     "text": [
      "Here is the original  list:\n",
      "['Robynsparents', 'Quirkes', 'Parents', 'Oliversdad', 'Konigs', 'Jadgiches', 'Bobs']\n",
      "Here ist the sorted list:\n",
      "['Bobs', 'Jadgiches', 'Konigs', 'Oliversdad', 'Parents', 'Quirkes', 'Robynsparents']\n"
     ]
    }
   ],
   "source": [
    "print(\"Here is the original  list:\")\n",
    "print(gl)\n",
    "\n",
    "print(\"Here ist the sorted list:\")\n",
    "print(sorted(gl))"
   ]
  },
  {
   "cell_type": "markdown",
   "metadata": {},
   "source": [
    "Finding the length of a list using len funciton"
   ]
  },
  {
   "cell_type": "code",
   "execution_count": 69,
   "metadata": {},
   "outputs": [
    {
     "name": "stdout",
     "output_type": "stream",
     "text": [
      "7\n"
     ]
    },
    {
     "data": {
      "text/plain": [
       "12"
      ]
     },
     "execution_count": 69,
     "metadata": {},
     "output_type": "execute_result"
    }
   ],
   "source": [
    "print(len(gl))\n",
    "len(aa)"
   ]
  },
  {
   "cell_type": "code",
   "execution_count": 70,
   "metadata": {},
   "outputs": [
    {
     "data": {
      "text/plain": [
       "7"
      ]
     },
     "execution_count": 70,
     "metadata": {},
     "output_type": "execute_result"
    }
   ],
   "source": [
    "len(gl)"
   ]
  },
  {
   "cell_type": "markdown",
   "metadata": {},
   "source": [
    "# Exercise on page 50 - Seeing the world"
   ]
  },
  {
   "cell_type": "code",
   "execution_count": 71,
   "metadata": {},
   "outputs": [],
   "source": [
    "places_vist = ['chile', 'iceland', 'fiji', 'australia', 'new zealand', 'china']"
   ]
  },
  {
   "cell_type": "code",
   "execution_count": 72,
   "metadata": {},
   "outputs": [
    {
     "data": {
      "text/plain": [
       "['chile', 'iceland', 'fiji', 'australia', 'new zealand', 'china']"
      ]
     },
     "execution_count": 72,
     "metadata": {},
     "output_type": "execute_result"
    }
   ],
   "source": [
    "places_vist"
   ]
  },
  {
   "cell_type": "code",
   "execution_count": 73,
   "metadata": {},
   "outputs": [],
   "source": [
    "places_vist.sort()"
   ]
  },
  {
   "cell_type": "code",
   "execution_count": 74,
   "metadata": {},
   "outputs": [
    {
     "name": "stdout",
     "output_type": "stream",
     "text": [
      "['australia', 'chile', 'china', 'fiji', 'iceland', 'new zealand']\n"
     ]
    }
   ],
   "source": [
    "print(places_vist)"
   ]
  },
  {
   "cell_type": "code",
   "execution_count": 75,
   "metadata": {},
   "outputs": [],
   "source": [
    "places_vist.sort(reverse=True)"
   ]
  },
  {
   "cell_type": "code",
   "execution_count": 76,
   "metadata": {},
   "outputs": [
    {
     "name": "stdout",
     "output_type": "stream",
     "text": [
      "['new zealand', 'iceland', 'fiji', 'china', 'chile', 'australia']\n"
     ]
    },
    {
     "data": {
      "text/plain": [
       "6"
      ]
     },
     "execution_count": 76,
     "metadata": {},
     "output_type": "execute_result"
    }
   ],
   "source": [
    "print(places_vist)\n",
    "len(places_vist)"
   ]
  },
  {
   "cell_type": "code",
   "execution_count": 77,
   "metadata": {},
   "outputs": [
    {
     "name": "stdout",
     "output_type": "stream",
     "text": [
      "The number of places I want to visit is 6\n"
     ]
    }
   ],
   "source": [
    "m2 = \"The number of places I want to visit is \" + str(len(places_vist))\n",
    "print(m2)"
   ]
  },
  {
   "cell_type": "code",
   "execution_count": 78,
   "metadata": {},
   "outputs": [
    {
     "name": "stdout",
     "output_type": "stream",
     "text": [
      "australia\n"
     ]
    }
   ],
   "source": [
    "print(places_vist[-1])"
   ]
  },
  {
   "cell_type": "markdown",
   "metadata": {},
   "source": [
    "# Slicing lists "
   ]
  },
  {
   "cell_type": "code",
   "execution_count": 79,
   "metadata": {},
   "outputs": [
    {
     "name": "stdout",
     "output_type": "stream",
     "text": [
      "['ash', 'clement', 'serena']\n"
     ]
    }
   ],
   "source": [
    "players = ['ash', 'clement', 'serena', 'bonnie', 'brock', 'misty']\n",
    "print(players[0:3])"
   ]
  },
  {
   "cell_type": "code",
   "execution_count": 80,
   "metadata": {},
   "outputs": [
    {
     "name": "stdout",
     "output_type": "stream",
     "text": [
      "['ash', 'clement']\n"
     ]
    }
   ],
   "source": [
    "print(players[:2])"
   ]
  },
  {
   "cell_type": "code",
   "execution_count": 81,
   "metadata": {},
   "outputs": [
    {
     "name": "stdout",
     "output_type": "stream",
     "text": [
      "bonnie\n"
     ]
    }
   ],
   "source": [
    "print(players[-3])"
   ]
  },
  {
   "cell_type": "markdown",
   "metadata": {},
   "source": [
    "# Copying Lists "
   ]
  },
  {
   "cell_type": "code",
   "execution_count": 82,
   "metadata": {},
   "outputs": [
    {
     "name": "stdout",
     "output_type": "stream",
     "text": [
      "My favourite foods are:\n",
      "['pizza', 'falafel', 'carrot cake']\n",
      "\n",
      "MY friend's favorite foods are:\n",
      "['pizza', 'falafel', 'carrot cake']\n"
     ]
    }
   ],
   "source": [
    "my_foods = ['pizza', 'falafel', 'carrot cake']\n",
    "friends_foods = my_foods[:]\n",
    "\n",
    "print(\"My favourite foods are:\")\n",
    "print(my_foods)\n",
    "\n",
    "print(\"\\nMY friend's favorite foods are:\")\n",
    "print(friends_foods)"
   ]
  },
  {
   "cell_type": "code",
   "execution_count": 83,
   "metadata": {},
   "outputs": [
    {
     "data": {
      "text/plain": [
       "['jeep', 'car', 'bus', 'hovercraft']"
      ]
     },
     "execution_count": 83,
     "metadata": {},
     "output_type": "execute_result"
    }
   ],
   "source": [
    "viechles = ['jeep', 'car', 'bus', 'hovercraft']\n",
    "viechles"
   ]
  },
  {
   "cell_type": "markdown",
   "metadata": {},
   "source": [
    "# Excercise page 69 "
   ]
  },
  {
   "cell_type": "code",
   "execution_count": 96,
   "metadata": {},
   "outputs": [
    {
     "name": "stdout",
     "output_type": "stream",
     "text": [
      "The first two item on my list is ['jeep', 'car']\n"
     ]
    }
   ],
   "source": [
    "exmessage = \"The first two item on my list is \" + str(viechles[:2])\n",
    "print(exmessage)"
   ]
  },
  {
   "cell_type": "code",
   "execution_count": 100,
   "metadata": {},
   "outputs": [
    {
     "name": "stdout",
     "output_type": "stream",
     "text": [
      "The middle item on my list is ['bus']\n"
     ]
    }
   ],
   "source": [
    "exmessage2 = \"The middle item on my list is \" + str(viechles[2:3])\n",
    "print(exmessage2)"
   ]
  },
  {
   "cell_type": "code",
   "execution_count": 101,
   "metadata": {},
   "outputs": [],
   "source": [
    "exmessage3 = \"The last item on my list is \" + str(viechles[-1])"
   ]
  },
  {
   "cell_type": "code",
   "execution_count": 102,
   "metadata": {},
   "outputs": [
    {
     "name": "stdout",
     "output_type": "stream",
     "text": [
      "The last item on my list is hovercraft\n"
     ]
    }
   ],
   "source": [
    "print(exmessage3)"
   ]
  },
  {
   "cell_type": "code",
   "execution_count": 109,
   "metadata": {},
   "outputs": [
    {
     "name": "stdout",
     "output_type": "stream",
     "text": [
      "jaleponi\n",
      "cheese\n",
      "onion\n",
      "pepperoni\n",
      "is Chris's favourite pizza\n",
      "ham\n",
      "mushroom\n",
      "sweetcorn\n",
      "is Sam's favourite pizza\n",
      "sausage\n",
      "peppers\n",
      "spinach\n",
      "onion\n",
      "is Estelle's favourite pizza\n"
     ]
    }
   ],
   "source": [
    "pizza1 = ['jaleponi', 'cheese', 'onion', 'pepperoni']\n",
    "pizza2 = ['ham', 'mushroom', 'sweetcorn']\n",
    "pizza3 = ['sausage', 'peppers', 'spinach', 'onion']\n",
    "\n",
    "for pizza in pizza1:\n",
    "    print(pizza)\n",
    "    \n",
    "print(\"is Chris's favourite pizza\")\n",
    "\n",
    "for pizza in pizza2:\n",
    "    print(pizza)\n",
    "    \n",
    "print(\"is Sam's favourite pizza\")\n",
    "\n",
    "for pizza in pizza3:\n",
    "    print(pizza)\n",
    "    \n",
    "print(\"is Estelle's favourite pizza\")\n"
   ]
  },
  {
   "cell_type": "code",
   "execution_count": 118,
   "metadata": {},
   "outputs": [
    {
     "name": "stdout",
     "output_type": "stream",
     "text": [
      "dog\n",
      "would make a great friend\n",
      "would make a great pet\n",
      "would make a great investment\n",
      "cat\n",
      "would make a great friend\n",
      "would make a great pet\n",
      "would make a great investment\n",
      "cow\n",
      "would make a great friend\n",
      "would make a great pet\n",
      "would make a great investment\n",
      "They are all cute\n"
     ]
    }
   ],
   "source": [
    "animals = ['dog', 'cat', 'cow']\n",
    "\n",
    "for animal in animals: \n",
    "        print(animal)\n",
    "        print(\"would make a great friend\")\n",
    "        print(\"would make a great pet\")\n",
    "        print(\"would make a great investment\")\n",
    "\n",
    "print(\"They are all cute\")"
   ]
  },
  {
   "cell_type": "code",
   "execution_count": 121,
   "metadata": {},
   "outputs": [
    {
     "name": "stdout",
     "output_type": "stream",
     "text": [
      "Enter a word: add\n",
      "no other animal comes close\n"
     ]
    }
   ],
   "source": [
    "word = input(\"Enter a word: \")\n",
    "\n",
    "if word== \"cat\":\n",
    "    print('this is a great pet')\n",
    "\n",
    "elif word == \"dog\":\n",
    "    print('this is a great friend')\n",
    "\n",
    "else:\n",
    "\n",
    "    print(\"no other animal comes close\")\n"
   ]
  },
  {
   "cell_type": "code",
   "execution_count": 122,
   "metadata": {},
   "outputs": [
    {
     "name": "stdout",
     "output_type": "stream",
     "text": [
      "jaleponi\n",
      "cheese\n",
      "onion\n",
      "pepperoni\n",
      "is Chris's favourite pizza\n",
      "ham\n",
      "mushroom\n",
      "sweetcorn\n",
      "is Sam's favourite pizza\n",
      "sausage\n",
      "peppers\n",
      "spinach\n",
      "onion\n",
      "is Estelle's favourite pizza\n"
     ]
    }
   ],
   "source": [
    "pizza1 = ['jaleponi', 'cheese', 'onion', 'pepperoni']\n",
    "pizza2 = ['ham', 'mushroom', 'sweetcorn']\n",
    "pizza3 = ['sausage', 'peppers', 'spinach', 'onion']\n",
    "\n",
    "for pizza in pizza1:\n",
    "    print(pizza)\n",
    "    \n",
    "print(\"is Chris's favourite pizza\")\n",
    "\n",
    "for pizza in pizza2:\n",
    "    print(pizza)\n",
    "    \n",
    "print(\"is Sam's favourite pizza\")\n",
    "\n",
    "for pizza in pizza3:\n",
    "    print(pizza)\n",
    "    \n",
    "print(\"is Estelle's favourite pizza\")"
   ]
  },
  {
   "cell_type": "code",
   "execution_count": null,
   "metadata": {},
   "outputs": [],
   "source": []
  }
 ],
 "metadata": {
  "kernelspec": {
   "display_name": "Python 3",
   "language": "python",
   "name": "python3"
  },
  "language_info": {
   "codemirror_mode": {
    "name": "ipython",
    "version": 3
   },
   "file_extension": ".py",
   "mimetype": "text/x-python",
   "name": "python",
   "nbconvert_exporter": "python",
   "pygments_lexer": "ipython3",
   "version": "3.7.0"
  }
 },
 "nbformat": 4,
 "nbformat_minor": 2
}
