{
 "cells": [
  {
   "cell_type": "code",
   "execution_count": 2,
   "metadata": {},
   "outputs": [
    {
     "name": "stdout",
     "output_type": "stream",
     "text": [
      "Ford\n",
      "BMW\n",
      "Honda\n",
      "Audi\n",
      "Mercedes\n"
     ]
    }
   ],
   "source": [
    "cars = ['ford', 'bmw', 'honda', 'audi', 'mercedes']\n",
    "\n",
    "for car in cars:\n",
    "    if car == 'bmw':\n",
    "        print(car.upper())\n",
    "    \n",
    "    else:\n",
    "        print(car.title())"
   ]
  },
  {
   "cell_type": "code",
   "execution_count": 3,
   "metadata": {},
   "outputs": [],
   "source": [
    "aa = ['Step1','Step2','Step3','Step4','Step5','Step6','Step7','Step8','Step9','Step10','Step11','Step12']"
   ]
  },
  {
   "cell_type": "code",
   "execution_count": 4,
   "metadata": {},
   "outputs": [
    {
     "name": "stdout",
     "output_type": "stream",
     "text": [
      "Enter a word: step55\n",
      "joy\n"
     ]
    }
   ],
   "source": [
    "word = input(\"Enter a word: \")\n",
    "\n",
    "if word== \"Step1\":\n",
    "    print('surrender')\n",
    "\n",
    "elif word == \"Step2\":\n",
    "    print('believe')\n",
    "    \n",
    "elif word == \"Step3\":\n",
    "    print('Give')\n",
    "    \n",
    "elif word == \"Step4\":\n",
    "    print('write')\n",
    "    \n",
    "elif word == \"Step5\":\n",
    "    print('share')\n",
    "    \n",
    "elif word == \"Step6\":\n",
    "    print('willingness')\n",
    "\n",
    "elif word == \"Step7\":\n",
    "    print('ask')\n",
    "\n",
    "\n",
    "elif word == \"Step8\":\n",
    "    print('understand')\n",
    "    \n",
    "elif word == \"Step9\":\n",
    "    print('restitution')\n",
    "    \n",
    "elif word == \"Step10\":\n",
    "    print('standfast')\n",
    "\n",
    "elif word == \"Step11\":\n",
    "    print('pray')\n",
    "\n",
    "\n",
    "else:\n",
    "\n",
    "    print(\"joy\")"
   ]
  },
  {
   "cell_type": "markdown",
   "metadata": {},
   "source": [
    "# Conditional Tests"
   ]
  },
  {
   "cell_type": "code",
   "execution_count": 5,
   "metadata": {},
   "outputs": [
    {
     "data": {
      "text/plain": [
       "False"
      ]
     },
     "execution_count": 5,
     "metadata": {},
     "output_type": "execute_result"
    }
   ],
   "source": [
    "car = 'bmw'\n",
    "car == 'ford'"
   ]
  },
  {
   "cell_type": "code",
   "execution_count": 6,
   "metadata": {},
   "outputs": [
    {
     "data": {
      "text/plain": [
       "True"
      ]
     },
     "execution_count": 6,
     "metadata": {},
     "output_type": "execute_result"
    }
   ],
   "source": [
    "car = 'Ford'\n",
    "car.lower() == 'ford'"
   ]
  },
  {
   "cell_type": "code",
   "execution_count": 7,
   "metadata": {},
   "outputs": [
    {
     "name": "stdout",
     "output_type": "stream",
     "text": [
      "Hold the anchovies\n"
     ]
    }
   ],
   "source": [
    "pizza_top = 'pepparoni'\n",
    "\n",
    "if pizza_top !='anchoives':\n",
    "    print('Hold the anchovies')"
   ]
  },
  {
   "cell_type": "code",
   "execution_count": 8,
   "metadata": {},
   "outputs": [
    {
     "data": {
      "text/plain": [
       "False"
      ]
     },
     "execution_count": 8,
     "metadata": {},
     "output_type": "execute_result"
    }
   ],
   "source": [
    "age = 33\n",
    "\n",
    "age<35\n",
    "\n",
    "age>35\n",
    "\n"
   ]
  },
  {
   "cell_type": "code",
   "execution_count": 9,
   "metadata": {},
   "outputs": [
    {
     "data": {
      "text/plain": [
       "False"
      ]
     },
     "execution_count": 9,
     "metadata": {},
     "output_type": "execute_result"
    }
   ],
   "source": [
    "age1= 33\n",
    "age2 = 39\n",
    "\n",
    "age1 > 40 and age2 >40"
   ]
  },
  {
   "cell_type": "code",
   "execution_count": 10,
   "metadata": {},
   "outputs": [
    {
     "data": {
      "text/plain": [
       "True"
      ]
     },
     "execution_count": 10,
     "metadata": {},
     "output_type": "execute_result"
    }
   ],
   "source": [
    "age1 < 40 and age2 <40"
   ]
  },
  {
   "cell_type": "code",
   "execution_count": 11,
   "metadata": {},
   "outputs": [
    {
     "data": {
      "text/plain": [
       "True"
      ]
     },
     "execution_count": 11,
     "metadata": {},
     "output_type": "execute_result"
    }
   ],
   "source": [
    "pizza_top2 = ['mushrooms', 'olives', 'ham', 'spinach']\n",
    "\n",
    "'olives' in pizza_top2\n"
   ]
  },
  {
   "cell_type": "code",
   "execution_count": 12,
   "metadata": {},
   "outputs": [
    {
     "data": {
      "text/plain": [
       "False"
      ]
     },
     "execution_count": 12,
     "metadata": {},
     "output_type": "execute_result"
    }
   ],
   "source": [
    "'pepperoni' in pizza_top2"
   ]
  },
  {
   "cell_type": "code",
   "execution_count": 13,
   "metadata": {},
   "outputs": [
    {
     "name": "stdout",
     "output_type": "stream",
     "text": [
      "We welcome your feedback today\n"
     ]
    }
   ],
   "source": [
    "banned_users = ['237800', '237801', '237805']\n",
    "user = '237891'\n",
    "\n",
    "if user not in banned_users:\n",
    "    print(\"We welcome your feedback today\")"
   ]
  },
  {
   "cell_type": "code",
   "execution_count": 14,
   "metadata": {},
   "outputs": [],
   "source": [
    "HH = ['calls', 'persistence', 'knowledge', 'luck', 'always on', 'positive']\n",
    "\n",
    "if HH == 'knowledge':\n",
    "    print(\"You are on your way son\")"
   ]
  },
  {
   "cell_type": "code",
   "execution_count": 44,
   "metadata": {},
   "outputs": [
    {
     "name": "stdout",
     "output_type": "stream",
     "text": [
      "Enter a word: speed\n",
      "True - you are on your way:\n",
      "True - you are on your way:\n",
      "True - you are on your way:\n",
      "True - you are on your way:\n",
      "True - you are on your way:\n",
      "True - you are on your way:\n"
     ]
    }
   ],
   "source": [
    "HH = ['calls', 'persistence', 'knowledge', 'luck', 'always on', 'positive']\n",
    "\n",
    "word = input(\"Enter a word: \")\n",
    "for HHs in HH:\n",
    "    if HHs == 'knowledge'or 'calls' or 'persistence':\n",
    "         print(\"True - you are on your way:\") \n",
    "    elif HHs == '':  \n",
    "        print(\"False - try again\")\n",
    "              "
   ]
  },
  {
   "cell_type": "code",
   "execution_count": 16,
   "metadata": {},
   "outputs": [
    {
     "name": "stdout",
     "output_type": "stream",
     "text": [
      "You are on your way son\n"
     ]
    }
   ],
   "source": [
    "print(\"You are on your way son\")"
   ]
  },
  {
   "cell_type": "markdown",
   "metadata": {},
   "source": [
    "Test 1"
   ]
  },
  {
   "cell_type": "code",
   "execution_count": 50,
   "metadata": {},
   "outputs": [
    {
     "name": "stdout",
     "output_type": "stream",
     "text": [
      "Is pizza == 'pepperoni'? I predict True.\n",
      "False\n",
      "Is pizza == 'pepperoni'? I predict False.\n",
      "result =False\n"
     ]
    }
   ],
   "source": [
    "pizza = 'pepperoni'\n",
    "\n",
    "print(\"Is pizza == 'pepperoni'? I predict True.\")\n",
    "print(car =='pepperoni')\n",
    "\n",
    "print(\"Is pizza == 'pepperoni'? I predict False.\")\n",
    "print(\"result =\" + str(car =='olives'))"
   ]
  },
  {
   "cell_type": "code",
   "execution_count": 51,
   "metadata": {},
   "outputs": [
    {
     "name": "stdout",
     "output_type": "stream",
     "text": [
      "Is pizza == 'pepperoni'? I predict False.\n",
      "False\n"
     ]
    }
   ],
   "source": [
    "print(\"Is pizza == 'pepperoni'? I predict False.\")\n",
    "print(car =='olives')"
   ]
  },
  {
   "cell_type": "markdown",
   "metadata": {},
   "source": [
    "Test 2"
   ]
  },
  {
   "cell_type": "code",
   "execution_count": 55,
   "metadata": {},
   "outputs": [
    {
     "name": "stdout",
     "output_type": "stream",
     "text": [
      "Is the step ==Step2? I predict true\n",
      "Result = True\n",
      "Is the step ==Step2? I predict true\n",
      "Result = False\n",
      "Is the step ==Step2? I predict true\n",
      "Result = True\n",
      "Is the step ==Step2? I predict true\n",
      "Result = False\n",
      "Is the step ==Step2? I predict true\n",
      "Result = True\n",
      "Is the step ==Step2? I predict true\n",
      "Result = False\n"
     ]
    }
   ],
   "source": [
    "aa = 'Step2'\n",
    "\n",
    "print(\"Is the step ==Step2? I predict true\")\n",
    "print(\"Result = \" + str(aa=='Step2'))\n",
    "\n",
    "print(\"Is the step ==Step2? I predict true\")\n",
    "print(\"Result = \" + str(aa=='Step3'))\n",
    "\n",
    "print(\"Is the step ==Step2? I predict true\")\n",
    "print(\"Result = \" + str(aa=='Step2'))\n",
    "\n",
    "print(\"Is the step ==Step2? I predict true\")\n",
    "print(\"Result = \" + str(aa=='Step5'))\n",
    "print(\"Is the step ==Step2? I predict true\")\n",
    "print(\"Result = \" + str(aa=='Step2'))\n",
    "print(\"Is the step ==Step2? I predict true\")\n",
    "print(\"Result = \" + str(aa=='Step9'))\n"
   ]
  },
  {
   "cell_type": "markdown",
   "metadata": {},
   "source": [
    "# More tests"
   ]
  },
  {
   "cell_type": "code",
   "execution_count": 56,
   "metadata": {},
   "outputs": [
    {
     "data": {
      "text/plain": [
       "True"
      ]
     },
     "execution_count": 56,
     "metadata": {},
     "output_type": "execute_result"
    }
   ],
   "source": [
    "life = 'joy'\n",
    "life == 'joy'"
   ]
  },
  {
   "cell_type": "code",
   "execution_count": 57,
   "metadata": {},
   "outputs": [
    {
     "data": {
      "text/plain": [
       "True"
      ]
     },
     "execution_count": 57,
     "metadata": {},
     "output_type": "execute_result"
    }
   ],
   "source": [
    "life = 'Joy'\n",
    "life.lower() == 'joy'"
   ]
  },
  {
   "cell_type": "code",
   "execution_count": 58,
   "metadata": {},
   "outputs": [
    {
     "data": {
      "text/plain": [
       "False"
      ]
     },
     "execution_count": 58,
     "metadata": {},
     "output_type": "execute_result"
    }
   ],
   "source": [
    "20 == 15"
   ]
  },
  {
   "cell_type": "code",
   "execution_count": 59,
   "metadata": {},
   "outputs": [
    {
     "data": {
      "text/plain": [
       "False"
      ]
     },
     "execution_count": 59,
     "metadata": {},
     "output_type": "execute_result"
    }
   ],
   "source": [
    "length1 = 50\n",
    "length2 = 60\n",
    "\n",
    "length1 > length2"
   ]
  },
  {
   "cell_type": "code",
   "execution_count": 60,
   "metadata": {},
   "outputs": [
    {
     "name": "stdout",
     "output_type": "stream",
     "text": [
      "yes, go ahead with order\n"
     ]
    }
   ],
   "source": [
    "pizza_top = ['olives', 'meat', 'olives']\n",
    "\n",
    "if 'meat' in pizza_top:\n",
    "    print(\"yes, go ahead with order\")"
   ]
  },
  {
   "cell_type": "code",
   "execution_count": 62,
   "metadata": {},
   "outputs": [
    {
     "ename": "SyntaxError",
     "evalue": "invalid syntax (<ipython-input-62-c630996d0631>, line 3)",
     "output_type": "error",
     "traceback": [
      "\u001b[1;36m  File \u001b[1;32m\"<ipython-input-62-c630996d0631>\"\u001b[1;36m, line \u001b[1;32m3\u001b[0m\n\u001b[1;33m    if ! in pizza_top:\u001b[0m\n\u001b[1;37m       ^\u001b[0m\n\u001b[1;31mSyntaxError\u001b[0m\u001b[1;31m:\u001b[0m invalid syntax\n"
     ]
    }
   ],
   "source": [
    "pizza_top = ['olives', 'meat', 'olives']\n",
    "\n",
    "if ! in pizza_top:\n",
    "    print(\"no, don't  go ahead with order\")"
   ]
  },
  {
   "cell_type": "code",
   "execution_count": 70,
   "metadata": {},
   "outputs": [
    {
     "data": {
      "text/plain": [
       "True"
      ]
     },
     "execution_count": 70,
     "metadata": {},
     "output_type": "execute_result"
    }
   ],
   "source": [
    "score1 = 42 \n",
    "score2 = 101\n",
    "\n",
    "score1 == 42 and score2 ==100 or score2 ==101\n",
    "   "
   ]
  },
  {
   "cell_type": "code",
   "execution_count": 86,
   "metadata": {},
   "outputs": [
    {
     "name": "stdout",
     "output_type": "stream",
     "text": [
      "you lost\n"
     ]
    }
   ],
   "source": [
    "score = 5\n",
    "if score ==7:\n",
    "    print(\"you won\")\n",
    "          \n",
    "elif score <7:\n",
    "    print(\"you lost\")"
   ]
  },
  {
   "cell_type": "code",
   "execution_count": 89,
   "metadata": {},
   "outputs": [
    {
     "name": "stdout",
     "output_type": "stream",
     "text": [
      "You are old enough to vote\n",
      "Have you registered\n"
     ]
    }
   ],
   "source": [
    "age = 18\n",
    "if age >=18:\n",
    "    print(\"You are old enough to vote\")\n",
    "    print(\"Have you registered\")"
   ]
  },
  {
   "cell_type": "code",
   "execution_count": 91,
   "metadata": {},
   "outputs": [
    {
     "name": "stdout",
     "output_type": "stream",
     "text": [
      "Your too young\n",
      "Register when you are 18\n"
     ]
    }
   ],
   "source": [
    "age = 17\n",
    "if age >=18:\n",
    "    print(\"You are old enough to vote\")\n",
    "    print(\"Have you registered\")\n",
    "    \n",
    "else:\n",
    "    print(\"Your too young\")\n",
    "    print(\"Register when you are 18\")"
   ]
  },
  {
   "cell_type": "markdown",
   "metadata": {},
   "source": [
    "# Imagine a alien game. 3 Colours - Tests"
   ]
  },
  {
   "cell_type": "code",
   "execution_count": 106,
   "metadata": {},
   "outputs": [
    {
     "name": "stdout",
     "output_type": "stream",
     "text": [
      "You have scored 5 points\n"
     ]
    }
   ],
   "source": [
    "alien_colour = ['green', 'red', 'yellow']\n",
    "\n",
    "if 'green' in alien_colour:\n",
    "    print(\"You have scored 5 points\")\n",
    "\n",
    "# word = input(\"Enter a word: \")\n",
    "#for alien_colours in alien_colour:\n",
    " #   print(alien_colours)\n",
    "  #  if alien_colour == 'green':\n",
    "   #     print(\"You have scored three points\")\n",
    "    \n"
   ]
  },
  {
   "cell_type": "code",
   "execution_count": 95,
   "metadata": {},
   "outputs": [
    {
     "ename": "NameError",
     "evalue": "name 'green' is not defined",
     "output_type": "error",
     "traceback": [
      "\u001b[1;31m---------------------------------------------------------------------------\u001b[0m",
      "\u001b[1;31mNameError\u001b[0m                                 Traceback (most recent call last)",
      "\u001b[1;32m<ipython-input-95-8e02fd900522>\u001b[0m in \u001b[0;36m<module>\u001b[1;34m()\u001b[0m\n\u001b[1;32m----> 1\u001b[1;33m \u001b[0malien_colour\u001b[0m \u001b[1;33m=\u001b[0m \u001b[1;33m[\u001b[0m\u001b[0mgreen\u001b[0m\u001b[1;33m,\u001b[0m \u001b[0mred\u001b[0m\u001b[1;33m,\u001b[0m \u001b[0myellow\u001b[0m\u001b[1;33m]\u001b[0m\u001b[1;33m\u001b[0m\u001b[0m\n\u001b[0m\u001b[0;32m      2\u001b[0m \u001b[1;33m\u001b[0m\u001b[0m\n\u001b[0;32m      3\u001b[0m \u001b[1;32mif\u001b[0m \u001b[0malien_colour\u001b[0m \u001b[1;33m==\u001b[0m \u001b[0mgreen\u001b[0m\u001b[1;33m:\u001b[0m\u001b[1;33m\u001b[0m\u001b[0m\n\u001b[0;32m      4\u001b[0m     \u001b[0mprint\u001b[0m\u001b[1;33m(\u001b[0m\u001b[1;34m\"You have scored three points\"\u001b[0m\u001b[1;33m)\u001b[0m\u001b[1;33m\u001b[0m\u001b[0m\n",
      "\u001b[1;31mNameError\u001b[0m: name 'green' is not defined"
     ]
    }
   ],
   "source": [
    "alien_colour = [green, red, yellow]\n",
    "\n",
    "if alien_colour == green:\n",
    "    print(\"You have scored three points\")"
   ]
  },
  {
   "cell_type": "code",
   "execution_count": 111,
   "metadata": {},
   "outputs": [
    {
     "name": "stdout",
     "output_type": "stream",
     "text": [
      "You have scored 5 points\n"
     ]
    }
   ],
   "source": [
    "alien_colour = ['green', 'red', 'yellow']\n",
    "\n",
    "if 'red' in alien_colour:\n",
    "    print(\"You have scored 5 points\")\n",
    "    \n",
    "else:\n",
    "    print(\"You have scored 10 points\")"
   ]
  },
  {
   "cell_type": "code",
   "execution_count": 113,
   "metadata": {},
   "outputs": [
    {
     "name": "stdout",
     "output_type": "stream",
     "text": [
      "You have scored 10 points\n"
     ]
    }
   ],
   "source": [
    "alien_colour = ['green', 'red', 'yellow']\n",
    "\n",
    "alienshot_colour = 'yellow'\n",
    "if alienshot_colour =='red':\n",
    "    print(\"You have scored 5 points\")\n",
    "    \n",
    "elif alienshot_colour == 'yellow':\n",
    "    print(\"You have scored 10 points\")\n",
    "    \n",
    "else:\n",
    "    print(\"You have scored 15 points\")"
   ]
  },
  {
   "cell_type": "code",
   "execution_count": 115,
   "metadata": {},
   "outputs": [
    {
     "name": "stdout",
     "output_type": "stream",
     "text": [
      "You have scored 15 points\n"
     ]
    }
   ],
   "source": [
    "alien_colour = ['green', 'red', 'yellow']\n",
    "\n",
    "alienshot_colour = 'green'\n",
    "if alienshot_colour =='red':\n",
    "    print(\"You have scored 5 points\")\n",
    "    \n",
    "elif alienshot_colour == 'yellow':\n",
    "    print(\"You have scored 10 points\")\n",
    "    \n",
    "else:\n",
    "    print(\"You have scored 15 points\")"
   ]
  },
  {
   "cell_type": "code",
   "execution_count": 146,
   "metadata": {},
   "outputs": [],
   "source": [
    "person = 70\n",
    "\n",
    "if person <=2:\n",
    "    print(\"you are a baby\")"
   ]
  },
  {
   "cell_type": "code",
   "execution_count": 147,
   "metadata": {},
   "outputs": [
    {
     "name": "stdout",
     "output_type": "stream",
     "text": [
      "You are a toddler\n"
     ]
    }
   ],
   "source": [
    "if person == 2 or 3 or 4:\n",
    "    print(\"You are a toddler\")"
   ]
  },
  {
   "cell_type": "code",
   "execution_count": 148,
   "metadata": {},
   "outputs": [
    {
     "name": "stdout",
     "output_type": "stream",
     "text": [
      "You are a kid\n"
     ]
    }
   ],
   "source": [
    "if person ==4 or 13:\n",
    "    print(\"You are a kid\")"
   ]
  },
  {
   "cell_type": "code",
   "execution_count": 149,
   "metadata": {},
   "outputs": [
    {
     "name": "stdout",
     "output_type": "stream",
     "text": [
      "You are a teenager\n"
     ]
    }
   ],
   "source": [
    "if person ==13 or 14 or 15 or 16 or 17 or 18:\n",
    "    print(\"You are a teenager\")"
   ]
  },
  {
   "cell_type": "code",
   "execution_count": 151,
   "metadata": {},
   "outputs": [
    {
     "name": "stdout",
     "output_type": "stream",
     "text": [
      "you are an adult\n"
     ]
    }
   ],
   "source": [
    "if person >= 13 or person <=65:\n",
    "    \n",
    "    print(\"you are an adult\")"
   ]
  },
  {
   "cell_type": "code",
   "execution_count": 152,
   "metadata": {},
   "outputs": [
    {
     "name": "stdout",
     "output_type": "stream",
     "text": [
      "you are an elder\n"
     ]
    }
   ],
   "source": [
    "if person >65:\n",
    "    print(\"you are an elder\")"
   ]
  },
  {
   "cell_type": "code",
   "execution_count": 156,
   "metadata": {},
   "outputs": [
    {
     "name": "stdout",
     "output_type": "stream",
     "text": [
      "watch out for the pip\n",
      "this is very sour\n",
      "great for smoothies\n"
     ]
    }
   ],
   "source": [
    "favourite_fruits = ('cherries', 'lemons', 'limes', 'orange', 'apples')\n",
    "\n",
    "if 'cherries' in favourite_fruits:\n",
    "    print(\"watch out for the pip\")\n",
    "    \n",
    "if 'lemons' in favourite_fruits:\n",
    "    print(\"this is very sour\")\n",
    "    \n",
    "if 'orange' in favourite_fruits:\n",
    "    print(\"great for smoothies\")"
   ]
  },
  {
   "cell_type": "code",
   "execution_count": 165,
   "metadata": {},
   "outputs": [
    {
     "name": "stdout",
     "output_type": "stream",
     "text": [
      "Adding pepperoni\n",
      "Adding olives\n",
      "Adding onions\n",
      "Adding extra cheese\n",
      "\n",
      "Your pizza will be ready shortly\n"
     ]
    }
   ],
   "source": [
    "requested_toppings = ['pepperoni', 'olives', 'onions', 'extra cheese']\n",
    "\n",
    "for requested_topping in requested_toppings:\n",
    "    print(\"Adding \" + str(requested_topping))\n",
    "    \n",
    "print(\"\\nYour pizza will be ready shortly!\")"
   ]
  },
  {
   "cell_type": "code",
   "execution_count": 168,
   "metadata": {},
   "outputs": [
    {
     "name": "stdout",
     "output_type": "stream",
     "text": [
      "Adding pepperoni\n",
      "Sorry, we have no olives left.\n",
      "Adding onions\n",
      "Adding extra cheese\n",
      "\n",
      "Your pizza will be ready shortly!\n"
     ]
    }
   ],
   "source": [
    "requested_toppings = ['pepperoni', 'olives', 'onions', 'extra cheese']\n",
    "\n",
    "for requested_topping in requested_toppings:\n",
    "    if requested_topping == 'olives':\n",
    "        print(\"Sorry, we have no olives left.\")\n",
    "    else:   \n",
    "        print(\"Adding \" + str(requested_topping))\n",
    "    \n",
    "print(\"\\nYour pizza will be ready shortly!\")"
   ]
  },
  {
   "cell_type": "markdown",
   "metadata": {},
   "source": [
    "# Checking that a list is not empty"
   ]
  },
  {
   "cell_type": "code",
   "execution_count": 183,
   "metadata": {},
   "outputs": [
    {
     "name": "stdout",
     "output_type": "stream",
     "text": [
      "Are you sure you want a plain pizza?\n"
     ]
    }
   ],
   "source": [
    "requested_toppings = []\n",
    "\n",
    "if requested_toppings:\n",
    "    for requested_topping in requested_toppings:\n",
    "          print(\"Adding \" + str(requested_topping))  \n",
    "    print(\"Finished making your pizza\")\n",
    "        \n",
    "else:\n",
    "         print(\"Are you sure you want a plain pizza?\")"
   ]
  },
  {
   "cell_type": "markdown",
   "metadata": {},
   "source": [
    "# Using Multiple Lists\n",
    " "
   ]
  },
  {
   "cell_type": "code",
   "execution_count": 186,
   "metadata": {},
   "outputs": [
    {
     "name": "stdout",
     "output_type": "stream",
     "text": [
      "Adding pepperoni\n",
      "Sorry.olives is not available today.\n",
      "Adding onions\n",
      "Adding extra cheese\n",
      "Your pizza will be ready shortly\n"
     ]
    }
   ],
   "source": [
    "available_toppings = ['pineapple', 'pepperoni', 'onions', 'anchovies', 'extra cheese', 'sausage', 'spinach', 'egg']\n",
    "\n",
    "requested_toppings = ['pepperoni', 'olives', 'onions', 'extra cheese']\n",
    "\n",
    "for requested_topping in requested_toppings:\n",
    "    if requested_topping in available_toppings:\n",
    "        print(\"Adding \" + str(requested_topping)) \n",
    "        \n",
    "    if requested_topping not in available_toppings:\n",
    "        print(\"Sorry.\" + str(requested_topping) + \" is not available today.\")\n",
    "        \n",
    "print(\"Your pizza will be ready shortly\")"
   ]
  },
  {
   "cell_type": "code",
   "execution_count": 193,
   "metadata": {},
   "outputs": [
    {
     "name": "stdout",
     "output_type": "stream",
     "text": [
      "Welcome back admin. Do you want to see a status update?\n",
      "Welcome back to Alphawars johnk.Do you want to see new features\n",
      "Welcome back to Alphawars konige.Do you want to see new features\n",
      "Welcome back to Alphawars quirker.Do you want to see new features\n",
      "Welcome back to Alphawars thomsona.Do you want to see new features\n"
     ]
    }
   ],
   "source": [
    "usernames = ['admin', 'johnk', 'konige', 'quirker', 'thomsona']\n",
    "\n",
    "for username in usernames:\n",
    "    if username == 'admin':\n",
    "        print(\"Welcome back admin. Do you want to see a status update?\")\n",
    "    \n",
    "    else:\n",
    "        print(\"Welcome back to Alphawars \"\n",
    "              + str(username) + \".\"\n",
    "              \"Do you want to see new features\")"
   ]
  },
  {
   "cell_type": "code",
   "execution_count": 194,
   "metadata": {},
   "outputs": [],
   "source": [
    "usernames = ['admin', 'johnk', 'konige', 'quirker', 'thomsona']\n",
    "\n",
    "for username in usernames:\n",
    "    if username == []:\n",
    "        print(\"We need to find some users\")\n",
    "    \n",
    "   "
   ]
  },
  {
   "cell_type": "code",
   "execution_count": 202,
   "metadata": {},
   "outputs": [
    {
     "name": "stdout",
     "output_type": "stream",
     "text": [
      "We need to find some users\n"
     ]
    }
   ],
   "source": [
    "usernames = []\n",
    "\n",
    "#(if variable) checks whether there is any items in list. \n",
    "if username:    \n",
    "        print(\"We need to find some users\")"
   ]
  },
  {
   "cell_type": "markdown",
   "metadata": {},
   "source": [
    "# Checking new usernames against old usersnames"
   ]
  },
  {
   "cell_type": "code",
   "execution_count": 207,
   "metadata": {},
   "outputs": [
    {
     "name": "stdout",
     "output_type": "stream",
     "text": [
      "konige This username already exists. Please choose a new one.\n",
      "finnc This username already exists. Please choose a new one.\n",
      "Great.naglea this is your username.\n",
      "Great.blaneyk this is your username.\n",
      "Great.morand this is your username.\n"
     ]
    }
   ],
   "source": [
    "current_usernames = ['finnc', 'konige', 'smithb', 'jonesj', 'katchuma', 'smithv', 'kellyc', 'finnertyt']\n",
    "\n",
    "new_names = ['konige', 'finnc', 'naglea', 'blaneyk', 'morand']\n",
    "\n",
    "for new_name in new_names:\n",
    "    if new_name in current_usernames:\n",
    "        print(str(new_name) + \" This username already exists. Please choose a new one.\") \n",
    "        \n",
    "    if new_name not in current_usernames:\n",
    "        print(\"Great.\" + str(new_name) + \" this is your username.\")\n",
    "        \n"
   ]
  },
  {
   "cell_type": "markdown",
   "metadata": {},
   "source": [
    "# Ordinal Numbers "
   ]
  },
  {
   "cell_type": "code",
   "execution_count": 215,
   "metadata": {},
   "outputs": [
    {
     "ename": "SyntaxError",
     "evalue": "unexpected EOF while parsing (<ipython-input-215-1141242c076c>, line 4)",
     "output_type": "error",
     "traceback": [
      "\u001b[1;36m  File \u001b[1;32m\"<ipython-input-215-1141242c076c>\"\u001b[1;36m, line \u001b[1;32m4\u001b[0m\n\u001b[1;33m    \u001b[0m\n\u001b[1;37m    ^\u001b[0m\n\u001b[1;31mSyntaxError\u001b[0m\u001b[1;31m:\u001b[0m unexpected EOF while parsing\n"
     ]
    }
   ],
   "source": [
    "n = [1,2,3,4,5,6,7,8,9]\n",
    "\n",
    "for i in n:\n",
    "    "
   ]
  },
  {
   "cell_type": "code",
   "execution_count": 229,
   "metadata": {},
   "outputs": [
    {
     "name": "stdout",
     "output_type": "stream",
     "text": [
      "1st\n",
      "2nd\n",
      "3rd\n",
      "4th\n",
      "5th\n",
      "6th\n",
      "7th\n",
      "8th\n",
      "9th\n"
     ]
    }
   ],
   "source": [
    "n = [1,2,3,4,5,6,7,8,9]\n",
    "\n",
    "if 1 in n:\n",
    "        print(\"1st\")\n",
    "        \n",
    "if 2 in n:\n",
    "        print(\"2nd\")\n",
    "    \n",
    "if 3 in n:\n",
    "        print(\"3rd\")\n",
    "    \n",
    "if 4 in n:\n",
    "        print(\"4th\")\n",
    "        \n",
    "if 2 in n:\n",
    "        print(\"5th\")\n",
    "        \n",
    "if 2 in n:\n",
    "        print(\"6th\")\n",
    "        \n",
    "if 2 in n:\n",
    "        print(\"7th\")\n",
    "        \n",
    "if 2 in n:\n",
    "        print(\"8th\")\n",
    "        \n",
    "if 2 in n:\n",
    "    print(\"9th\")\n",
    "        "
   ]
  },
  {
   "cell_type": "code",
   "execution_count": null,
   "metadata": {},
   "outputs": [],
   "source": []
  }
 ],
 "metadata": {
  "kernelspec": {
   "display_name": "Python 3",
   "language": "python",
   "name": "python3"
  },
  "language_info": {
   "codemirror_mode": {
    "name": "ipython",
    "version": 3
   },
   "file_extension": ".py",
   "mimetype": "text/x-python",
   "name": "python",
   "nbconvert_exporter": "python",
   "pygments_lexer": "ipython3",
   "version": "3.7.0"
  }
 },
 "nbformat": 4,
 "nbformat_minor": 2
}
