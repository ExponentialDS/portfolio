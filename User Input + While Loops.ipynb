{
 "cells": [
  {
   "cell_type": "code",
   "execution_count": null,
   "metadata": {},
   "outputs": [],
   "source": [
    "#Rental Car\n",
    "\n",
    "rc = input(\"enter how many seats you want: \")\n",
    "rc = int(rc)\n",
    "#print(\"Let me see if I can find that car for you.\")\n",
    "\n",
    "\n",
    "if rc == 3:\n",
    "        print(\"We recommmend a renault clio\")\n",
    "        \n",
    "if rc == 4:\n",
    "        print(\"We recommend a ford fiesta\")"
   ]
  },
  {
   "cell_type": "code",
   "execution_count": null,
   "metadata": {},
   "outputs": [],
   "source": [
    "#Resturaunt seating\n",
    "\n",
    "rbooking = input(\"How many people in the dinner booking: \")\n",
    "rbooking = int(rbooking)\n",
    "\n",
    "if rbooking >8:\n",
    "    print(\"You will have to wait for a table\")\n",
    "    \n",
    "else:\n",
    "    print(\"Your table is now ready\")"
   ]
  },
  {
   "cell_type": "code",
   "execution_count": null,
   "metadata": {},
   "outputs": [],
   "source": [
    "#Resturaunt seating\n",
    "\n",
    "rbooking = input(\"How many people in the dinner booking: \")\n",
    "rbooking = int(rbooking)\n",
    "\n",
    "if rbooking >8:\n",
    "    print(\"You will have to wait for a table\")\n",
    "    \n",
    "else:\n",
    "    print(\"Your table is now ready\")"
   ]
  },
  {
   "cell_type": "markdown",
   "metadata": {},
   "source": [
    "# Returning the inputted value\n",
    "\n"
   ]
  },
  {
   "cell_type": "code",
   "execution_count": null,
   "metadata": {},
   "outputs": [],
   "source": [
    "name = input(\"What is your name kid: \")\n",
    "print(\"Hello, nice to meet you \" + name)"
   ]
  },
  {
   "cell_type": "code",
   "execution_count": null,
   "metadata": {},
   "outputs": [],
   "source": [
    "#Ask the user for a number, and then report whether it is a multiple of 10 or not?\n",
    "\n",
    "num = input(\"Please enter a number: \")\n",
    "num = int(num)\n",
    "\n",
    "if num % 10 == 0:\n",
    "    print(\"This is a multiple of 10\")\n",
    "\n",
    "else:\n",
    "    print(\"This is not a multiple of 10\")"
   ]
  },
  {
   "cell_type": "markdown",
   "metadata": {},
   "source": [
    "# Modulo Operator "
   ]
  },
  {
   "cell_type": "code",
   "execution_count": null,
   "metadata": {},
   "outputs": [],
   "source": [
    "4/3"
   ]
  },
  {
   "cell_type": "code",
   "execution_count": null,
   "metadata": {},
   "outputs": [],
   "source": [
    "4%3"
   ]
  },
  {
   "cell_type": "code",
   "execution_count": null,
   "metadata": {},
   "outputs": [],
   "source": [
    "5/3"
   ]
  },
  {
   "cell_type": "code",
   "execution_count": null,
   "metadata": {},
   "outputs": [],
   "source": [
    "5%3\n"
   ]
  },
  {
   "cell_type": "code",
   "execution_count": null,
   "metadata": {},
   "outputs": [],
   "source": [
    "6%3"
   ]
  },
  {
   "cell_type": "markdown",
   "metadata": {},
   "source": [
    "# While Loops"
   ]
  },
  {
   "cell_type": "code",
   "execution_count": null,
   "metadata": {},
   "outputs": [],
   "source": [
    "# It is a loop with a condition, to run through the loop until the condition is met/not met\n",
    "\n",
    "currentnum = 25\n",
    "while currentnum <=100:\n",
    "    print(currentnum)\n",
    "    currentnum += 1"
   ]
  },
  {
   "cell_type": "markdown",
   "metadata": {},
   "source": [
    "# Letting the User choose when to quite"
   ]
  },
  {
   "cell_type": "code",
   "execution_count": null,
   "metadata": {},
   "outputs": [],
   "source": [
    "prompt = \"\\nTell me something and I will repeat it back to yo:. \"\n",
    "prompt = \"Enter 'quit' to end the program\"\n",
    "\n",
    "message = \"\"\n",
    "while message != 'quit':\n",
    "    message = input(prompt)\n",
    "    print(message)"
   ]
  },
  {
   "cell_type": "code",
   "execution_count": null,
   "metadata": {},
   "outputs": [],
   "source": [
    "message = \"\"\n",
    "while message != 'quit':\n",
    "    message = input(prompt)\n",
    "    print(message)"
   ]
  },
  {
   "cell_type": "markdown",
   "metadata": {},
   "source": [
    "# Using a flag in while loops"
   ]
  },
  {
   "cell_type": "code",
   "execution_count": null,
   "metadata": {},
   "outputs": [],
   "source": [
    "prompt = \"\\nTell me something and I will repeat it back to you. \"\n",
    "prompt = \"Enter 'quit' to end the program\"\n",
    "\n",
    "\n",
    "active = True\n",
    "while active:\n",
    "    message= input(prompt)\n",
    "    \n",
    "    if message == 'quit':\n",
    "        active = False\n",
    "    else:\n",
    "        print(message)\n",
    "        "
   ]
  },
  {
   "cell_type": "markdown",
   "metadata": {},
   "source": [
    "# Using a break to exit a Loop"
   ]
  },
  {
   "cell_type": "code",
   "execution_count": null,
   "metadata": {},
   "outputs": [],
   "source": [
    "num = 5\n",
    "\n",
    "while num <=100:\n",
    "    print(num)\n",
    "   \n",
    "    if num >=80:\n",
    "        break\n",
    "    num +=1"
   ]
  },
  {
   "cell_type": "code",
   "execution_count": null,
   "metadata": {},
   "outputs": [],
   "source": [
    "prompt = \"\\nPlease enter the name of a city you have visited: \"\n",
    "prompt = \"\\n(Enter 'quit' when you are finished)\"\n",
    "\n",
    "while True:\n",
    "    city = input(prompt)\n",
    "    \n",
    "    if city == 'quit':\n",
    "        break\n",
    "    else:\n",
    "        print(\"Id love to go to \" + city.title())"
   ]
  },
  {
   "cell_type": "markdown",
   "metadata": {},
   "source": [
    "## Using continue in a Loop"
   ]
  },
  {
   "cell_type": "code",
   "execution_count": null,
   "metadata": {},
   "outputs": [],
   "source": [
    "currentnum = 4\n",
    "\n",
    "while currentnum <10:\n",
    "    currentnum +=1\n",
    "    if currentnum % 2 == 0:\n",
    "        continue\n",
    "    print(currentnum)"
   ]
  },
  {
   "cell_type": "markdown",
   "metadata": {},
   "source": [
    "## Avoiding Infinite Loops"
   ]
  },
  {
   "cell_type": "code",
   "execution_count": null,
   "metadata": {},
   "outputs": [],
   "source": [
    "x = 1 \n",
    "while x <= 5:\n",
    "    print(x)\n",
    "    x +=1\n",
    "    "
   ]
  },
  {
   "cell_type": "code",
   "execution_count": null,
   "metadata": {},
   "outputs": [],
   "source": [
    "# create an automated pizza topping request\n",
    "\n",
    "\n",
    "prompt = input(\"Please let us know what toppings you would like: \")\n",
    "\n",
    "while \n",
    "\n",
    "\n"
   ]
  },
  {
   "cell_type": "code",
   "execution_count": null,
   "metadata": {},
   "outputs": [],
   "source": []
  }
 ],
 "metadata": {
  "kernelspec": {
   "display_name": "Python 3",
   "language": "python",
   "name": "python3"
  }
 },
 "nbformat": 4,
 "nbformat_minor": 2
}
