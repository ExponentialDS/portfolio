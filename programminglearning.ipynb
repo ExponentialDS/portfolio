{
 "cells": [
  {
   "cell_type": "markdown",
   "metadata": {},
   "source": [
    "# Fundamentals of Python\n",
    "\n",
    "This notebook is designed to help cement your knowledge of Python syntax and methods. As you complete each challenge, you will practise foundational Arogramming skills and develop your computational thinking ability."
   ]
  },
  {
   "cell_type": "markdown",
   "metadata": {},
   "source": [
    "# Help shortcuts very useful"
   ]
  },
  {
   "cell_type": "markdown",
   "metadata": {},
   "source": [
    "# dfdfadadf\n",
    "\n",
    "**italics**\n",
    "\n",
    "*italics*\n",
    "\n",
    "--asdkasdlk--\n",
    "######dafd\n",
    "\n",
    "Heading \n",
    "\n",
    "[Google](https://www.google.com)\n",
    "\n",
    "* bullet\n",
    "\n",
    "* bullet\n",
    "\n",
    "`print(\"hello world\")`\n",
    "\n",
    "```\n",
    "for i in range(0,10)\n",
    "    print(dafdkjaldf)\n",
    "    \n",
    "```\n",
    "\n",
    "---- "
   ]
  },
  {
   "cell_type": "code",
   "execution_count": null,
   "metadata": {},
   "outputs": [],
   "source": []
  },
  {
   "cell_type": "markdown",
   "metadata": {},
   "source": [
    "## The first program"
   ]
  },
  {
   "cell_type": "markdown",
   "metadata": {},
   "source": [
    "# Display \"Hello, World!\" to the user\n",
    "\n"
   ]
  },
  {
   "cell_type": "markdown",
   "metadata": {},
   "source": [
    "## Variables\n",
    "\n",
    "A variable is a **named** place to store a **value** that can **change**.\n",
    "\n",
    "Variables can have almost any name, as long as it is a single word (no spaces or punctuation), does not begin with a number, and is not a word that Python already knows.\n",
    "\n",
    "# Assigning a number to a variable\n",
    "\n",
    "\n",
    "# Adding 1 to a variable\n",
    "\n",
    "\n",
    "# Assigning a variable based on user input \n",
    "\n",
    "\n",
    "# Displaying a variable\n",
    "\n",
    "\n",
    "\n",
    "### Challenge 1\n",
    "\n",
    "- Assign numbers to two different variables\n",
    "- Multiply the numbers and assign the result to a third variable\n",
    "- Display the value of the third variable"
   ]
  },
  {
   "cell_type": "code",
   "execution_count": null,
   "metadata": {},
   "outputs": [],
   "source": [
    "num = 1 \n",
    "\n",
    "word = 'dog'\n",
    "\n",
    "num + 1\n",
    "\n",
    "num **3 \n",
    "\n",
    "word = input(\"Please enter your name:\")"
   ]
  },
  {
   "cell_type": "markdown",
   "metadata": {},
   "source": [
    "Input can be used for changing visualizations "
   ]
  },
  {
   "cell_type": "markdown",
   "metadata": {},
   "source": [
    "## Data types\n",
    "\n",
    "Different kinds of information are stored as different variable types. Python recognises several different data basic types:\n",
    "\n",
    "* String - a collection of 0 or more symbols/characters / Strings are object  \n",
    "* Integer - a whole number\n",
    "* Float - fraction /decimal number\n",
    "* Boolean - True/False\n",
    "\n",
    "Certain operations - like addition - work differently on different data types, so it is important to be clear on what type of value you have."
   ]
  },
  {
   "cell_type": "code",
   "execution_count": null,
   "metadata": {},
   "outputs": [],
   "source": [
    "# Assigning a string to a variable\n",
    "s = 23\n",
    "\n",
    "word = 'dog'\n",
    "\n",
    "# Converting an integer to a string and storing the string in a variable\n",
    "\n",
    "num = num + 1\n",
    "\n",
    "num *= 1\n",
    "\n",
    "#num-- \n",
    "\n",
    "#num ++\n",
    "\n",
    "\n",
    "# Converting a string to an integer and storing the integer in a variable\n",
    "\n",
    "numword = int(\"23\")"
   ]
  },
  {
   "cell_type": "code",
   "execution_count": null,
   "metadata": {},
   "outputs": [],
   "source": [
    "numword.dtypes"
   ]
  },
  {
   "cell_type": "code",
   "execution_count": null,
   "metadata": {},
   "outputs": [],
   "source": [
    "numword = float(23)"
   ]
  },
  {
   "cell_type": "code",
   "execution_count": null,
   "metadata": {},
   "outputs": [],
   "source": [
    "numword + 2"
   ]
  },
  {
   "cell_type": "code",
   "execution_count": null,
   "metadata": {},
   "outputs": [],
   "source": [
    "num = int(input())\n",
    "if num > 20:\n",
    "     print(\"yeah\")\n",
    "else:\n",
    "    print(\"no\")"
   ]
  },
  {
   "cell_type": "markdown",
   "metadata": {},
   "source": [
    "### Challenge 2\n",
    "\n",
    "- Prompt the user to enter a number\n",
    "- Store the number as an integer in a variable\n",
    "- multiply the number by 7 and store the result in the same variable\n",
    "- Display a sentence about the number, including the number"
   ]
  },
  {
   "cell_type": "code",
   "execution_count": null,
   "metadata": {},
   "outputs": [],
   "source": [
    "a = int(input())\n",
    "\n",
    "a = a * 7\n",
    "\n",
    "print(\"Your new number is \" + str(a) )\n"
   ]
  },
  {
   "cell_type": "code",
   "execution_count": null,
   "metadata": {},
   "outputs": [],
   "source": [
    "print(\"Your new number is \" + str(int(input()) * 7))"
   ]
  },
  {
   "cell_type": "code",
   "execution_count": null,
   "metadata": {},
   "outputs": [],
   "source": [
    "user_input = input()\n",
    "user_input = int(user_input)\n",
    "user_input = user_input*7\n",
    "user_input = str(user_input)\n",
    "print(\"Your new number is \" + user_input)"
   ]
  },
  {
   "cell_type": "code",
   "execution_count": null,
   "metadata": {},
   "outputs": [],
   "source": []
  },
  {
   "cell_type": "markdown",
   "metadata": {},
   "source": [
    "## Loops\n",
    "\n",
    "**Repeat** a **block** of code\n",
    "\n",
    "A FOR loop is used when you know how many times you need to loop.\n",
    "\n",
    "A WHILE loop is used when you are not sure how many times you will need to loop."
   ]
  },
  {
   "cell_type": "code",
   "execution_count": null,
   "metadata": {},
   "outputs": [],
   "source": [
    "# A FOR loop that counts from 1 to 10, printing out each number\n",
    "\n",
    "for i in range(1, 1000):\n",
    "    print(i)\n",
    "    \n",
    "\n",
    "    \n",
    "# A WHILE loop that runs until a number is greater than 1000\n",
    "\n"
   ]
  },
  {
   "cell_type": "code",
   "execution_count": null,
   "metadata": {},
   "outputs": [],
   "source": [
    "for p in \"cat\":\n",
    "    print(34)\n",
    "\n",
    "\n"
   ]
  },
  {
   "cell_type": "code",
   "execution_count": null,
   "metadata": {},
   "outputs": [],
   "source": [
    "start = 0 \n",
    "stop = 10\n",
    "\n",
    "for i in range(start, stop):\n",
    "    print(i)"
   ]
  },
  {
   "cell_type": "code",
   "execution_count": null,
   "metadata": {},
   "outputs": [],
   "source": [
    "for i in range(0, 10, -1):\n",
    "    print(\"Hello\")"
   ]
  },
  {
   "cell_type": "code",
   "execution_count": null,
   "metadata": {},
   "outputs": [],
   "source": [
    "word = \" \"\n",
    "while len(word) <14:\n",
    "    word = word + \"a\"\n",
    "    print(word)\n",
    "    \n",
    "    \n",
    "#request = \n",
    "#for i in range "
   ]
  },
  {
   "cell_type": "markdown",
   "metadata": {},
   "source": [
    "### Challenge 3\n",
    "\n",
    "- Create a loop that counts from a user-entered number to a higher user-entered number"
   ]
  },
  {
   "cell_type": "code",
   "execution_count": 12,
   "metadata": {},
   "outputs": [
    {
     "name": "stdout",
     "output_type": "stream",
     "text": [
      "Enter a number: 4\n",
      "Enter a number: 100\n",
      "4\n",
      "5\n",
      "6\n",
      "7\n",
      "8\n",
      "9\n",
      "10\n",
      "11\n",
      "12\n",
      "13\n",
      "14\n",
      "15\n",
      "16\n",
      "17\n",
      "18\n",
      "19\n",
      "20\n",
      "21\n",
      "22\n",
      "23\n",
      "24\n",
      "25\n",
      "26\n",
      "27\n",
      "28\n",
      "29\n",
      "30\n",
      "31\n",
      "32\n",
      "33\n",
      "34\n",
      "35\n",
      "36\n",
      "37\n",
      "38\n",
      "39\n",
      "40\n",
      "41\n",
      "42\n",
      "43\n",
      "44\n",
      "45\n",
      "46\n",
      "47\n",
      "48\n",
      "49\n",
      "50\n",
      "51\n",
      "52\n",
      "53\n",
      "54\n",
      "55\n",
      "56\n",
      "57\n",
      "58\n",
      "59\n",
      "60\n",
      "61\n",
      "62\n",
      "63\n",
      "64\n",
      "65\n",
      "66\n",
      "67\n",
      "68\n",
      "69\n",
      "70\n",
      "71\n",
      "72\n",
      "73\n",
      "74\n",
      "75\n",
      "76\n",
      "77\n",
      "78\n",
      "79\n",
      "80\n",
      "81\n",
      "82\n",
      "83\n",
      "84\n",
      "85\n",
      "86\n",
      "87\n",
      "88\n",
      "89\n",
      "90\n",
      "91\n",
      "92\n",
      "93\n",
      "94\n",
      "95\n",
      "96\n",
      "97\n",
      "98\n",
      "99\n"
     ]
    }
   ],
   "source": [
    "num1 = input(\"Enter a number: \")\n",
    "num2 = input(\"Enter a number: \")\n",
    "num1 = int(num1)\n",
    "num2 = int(num2)\n",
    "for i in range(num1,num2):\n",
    "    print(i)\n",
    "     "
   ]
  },
  {
   "cell_type": "markdown",
   "metadata": {},
   "source": [
    "### Challenge 4\n",
    "\n",
    "- Prompt the user to enter an integer\n",
    "- Keep prompting until the user enters a valid integer"
   ]
  },
  {
   "cell_type": "code",
   "execution_count": 7,
   "metadata": {},
   "outputs": [
    {
     "name": "stdout",
     "output_type": "stream",
     "text": [
      "asdfjlfa\n",
      "Try again\n",
      "dafjlda\n"
     ]
    }
   ],
   "source": [
    "num = input()\n",
    "\n",
    "if not num.isnumeric():\n",
    "    print(\"Try again\")\n",
    "    num = input()"
   ]
  },
  {
   "cell_type": "markdown",
   "metadata": {},
   "source": [
    "## Conditionals\n",
    "\n",
    "**Direct** a process based on **logic**\n",
    "\n",
    "IF statements evaluate logical statements, and then do different things based on whether the statements are  `True` or `False`.\n",
    "\n",
    "Every IF statement begins with an `if`.\n",
    "\n",
    "You can have as many `elif` statements as you want.\n",
    "\n",
    "If you have an `else` in your statement, it has to come at the end. `else` does not have a condition."
   ]
  },
  {
   "cell_type": "code",
   "execution_count": null,
   "metadata": {},
   "outputs": [],
   "source": [
    "# An IF statement that prints out \"higher\" if a user-entered number is greater than 3\n",
    "\n",
    "num = int(input())\n",
    "\n",
    "if num > 3:\n",
    "    print(\"higher\")\n",
    "else:\n",
    "    print(\"not high enough buddy\")\n",
    "\n",
    "# An IF statement including both elif and else\n",
    "\n",
    "word = input()\n",
    "\n",
    "if word = \"dog\"\n",
    "    print(\"bark\")\n",
    "elif:\n",
    "    word = \"cat\"\n",
    "    print(\"meow\")\n",
    "else:\n",
    "    print(\"LOL\")"
   ]
  },
  {
   "cell_type": "code",
   "execution_count": 4,
   "metadata": {},
   "outputs": [
    {
     "name": "stdout",
     "output_type": "stream",
     "text": [
      "pig\n",
      "LOL\n"
     ]
    }
   ],
   "source": [
    "word = input()\n",
    "\n",
    "if word == \"dog\":\n",
    "    print(\"bark\")\n",
    "elif word == \"cat\":\n",
    "    print(\"meow\")\n",
    "else:\n",
    "    print(\"LOL\")"
   ]
  },
  {
   "cell_type": "markdown",
   "metadata": {},
   "source": [
    "### Challenge 5\n",
    "\n",
    "- Prompt the user for an animal\n",
    "- If the animal is a cat, print \"meow\"\n",
    "- If the animal is a dog, print \"woof\"\n",
    "- In all other situations, print \"squawk\""
   ]
  },
  {
   "cell_type": "code",
   "execution_count": null,
   "metadata": {},
   "outputs": [],
   "source": []
  },
  {
   "cell_type": "markdown",
   "metadata": {},
   "source": [
    "### Challenge 6\n",
    "\n",
    "- Prompt the user for an integer\n",
    "- If the number is less than 17 and greater than 4, print \"just right\"\n",
    "- If the number is greater than 17 or under 0, print \"wrong size\"\n",
    "- If the number is exactly 3, print \"too three\"\n",
    "- In all other cases, print the number as many times as the number"
   ]
  },
  {
   "cell_type": "code",
   "execution_count": 14,
   "metadata": {},
   "outputs": [
    {
     "name": "stdout",
     "output_type": "stream",
     "text": [
      "3\n",
      "two three\n"
     ]
    }
   ],
   "source": [
    "num = int(input())\n",
    "\n",
    "if num < 14 and num > 4:\n",
    "    print(\"just right\")\n",
    "elif num > 17 and num <-1:\n",
    "    print(\"wrong size\")\n",
    "elif num == 3:\n",
    "    print(\"two three\")\n",
    "else:\n",
    "    print(num*num)"
   ]
  },
  {
   "cell_type": "markdown",
   "metadata": {},
   "source": [
    "## Functions\n",
    "\n",
    "A **named**, **repeatable** block of code.\n",
    "\n",
    "A function must be `def`ined before it can be **called**.\n",
    "\n",
    "A function can `return` a value.\n",
    "\n",
    "Some functions take **arguments** when they are called.\n"
   ]
  },
  {
   "cell_type": "code",
   "execution_count": 4,
   "metadata": {},
   "outputs": [
    {
     "name": "stdout",
     "output_type": "stream",
     "text": [
      "house\n",
      "house\n",
      "house\n",
      "house\n"
     ]
    }
   ],
   "source": [
    "# A function that takes a string as an argument and prints the string out 4 times\n",
    "\n",
    "def print_four(w):\n",
    "    print(w)\n",
    "    print(w)\n",
    "    print(w)\n",
    "    print(w)\n",
    "\n",
    "print_four(\"house\")\n",
    "# A function that adds 2 to a given number and returns the new value\n",
    "\n",
    "\n",
    "def add_number(num):\n",
    "    num + 2\n",
    "    return num \n",
    "\n"
   ]
  },
  {
   "cell_type": "code",
   "execution_count": 8,
   "metadata": {},
   "outputs": [
    {
     "data": {
      "text/plain": [
       "15"
      ]
     },
     "execution_count": 8,
     "metadata": {},
     "output_type": "execute_result"
    }
   ],
   "source": [
    "# def add_number(int(num)):\n",
    "   # num + 2\n",
    "   # return num \n",
    "\n",
    "# add_number(3)\n",
    "\n",
    "\n",
    "def addNums(num1, num2):\n",
    "    return num1 + num2 \n",
    "\n",
    "num = addNums(6,9)\n",
    "num"
   ]
  },
  {
   "cell_type": "code",
   "execution_count": 11,
   "metadata": {},
   "outputs": [
    {
     "name": "stdout",
     "output_type": "stream",
     "text": [
      "47\n"
     ]
    }
   ],
   "source": [
    "def add_two(number):\n",
    "    number = number + 2\n",
    "    return number \n",
    "\n",
    "print(add_two(45))"
   ]
  },
  {
   "cell_type": "markdown",
   "metadata": {},
   "source": [
    "### Challenge 7\n",
    "\n",
    "- Create a function called `farewell` that takes one argument\n",
    "- The function should return the string \"Goodbye forever, \" concatenated with the argument"
   ]
  },
  {
   "cell_type": "code",
   "execution_count": 15,
   "metadata": {},
   "outputs": [
    {
     "name": "stdout",
     "output_type": "stream",
     "text": [
      "Goodbye forever, Chris\n",
      "Goodbye forever, James\n"
     ]
    }
   ],
   "source": [
    "def farewell(username):\n",
    "    \"Display a simple greeting\"\n",
    "    print(\"Goodbye forever, \" + username.title())\n",
    "    \n",
    "farewell('chris')\n",
    "farewell('james')"
   ]
  },
  {
   "cell_type": "markdown",
   "metadata": {},
   "source": [
    "### Challenge 8\n",
    "\n",
    "- Create a function `addNums` that takes two arguments\n",
    "- If the arguments are not numeric, the function should return 0\n",
    "- Otherwise, the function should return the two arguments added together"
   ]
  },
  {
   "cell_type": "code",
   "execution_count": 20,
   "metadata": {},
   "outputs": [
    {
     "data": {
      "text/plain": [
       "0"
      ]
     },
     "execution_count": 20,
     "metadata": {},
     "output_type": "execute_result"
    }
   ],
   "source": [
    "def addNums(x, y):\n",
    "    if type(x) == str or type(y) == str:\n",
    "        return 0\n",
    "    else:\n",
    "        return x + y\n",
    "\n",
    "addNums('d', 'e')\n",
    "    "
   ]
  },
  {
   "cell_type": "code",
   "execution_count": null,
   "metadata": {},
   "outputs": [],
   "source": [
    "def bigger (x,y):\n",
    "    if "
   ]
  },
  {
   "cell_type": "markdown",
   "metadata": {},
   "source": [
    "## Importing\n",
    "\n",
    "Including **external** code in your programs"
   ]
  },
  {
   "cell_type": "code",
   "execution_count": null,
   "metadata": {},
   "outputs": [],
   "source": [
    "# Importing a whole module\n",
    "\n",
    "\n",
    "\n",
    "# Importing a module under a different name\n",
    "\n",
    "\n",
    "# Importing only part of a module\n",
    "\n",
    "\n",
    "# Using an imported function\n",
    "\n"
   ]
  },
  {
   "cell_type": "markdown",
   "metadata": {},
   "source": [
    "### Challenge 9\n",
    "\n",
    "* Import the `random` module\n",
    "* Create a function that returns a random integer between 0 and a user-entered value"
   ]
  },
  {
   "cell_type": "code",
   "execution_count": null,
   "metadata": {},
   "outputs": [],
   "source": []
  },
  {
   "cell_type": "markdown",
   "metadata": {},
   "source": [
    "## Reading stack traces\n",
    "\n",
    "Even the best programmers often encounter errors, and so the ability to understand error messages is a key skill for all coding. \n",
    "\n",
    "When you first see an error message, or \"stack trace\" (a list of errors in the order that they occurred, going back to the root error), it can be quite intimidating. However, there's actually only one place you normally need to look for information.\n",
    "\n",
    "The very last two lines of the error message will tell you the type, line location, and exact nature of any error. \n",
    "\n",
    "Run the code block below to see an error message."
   ]
  },
  {
   "cell_type": "code",
   "execution_count": null,
   "metadata": {},
   "outputs": [],
   "source": [
    "print(2 + \"2\")"
   ]
  },
  {
   "cell_type": "markdown",
   "metadata": {},
   "source": [
    "The error occurred on line 1, with the call `print(2 + \"2)`. It's a `TypeError`, which means that you attempt to do something with a data type (or types) that the computer did not understand. The specific message is `unsupported operand type(s) for +: 'int' and 'str'` - you attempted to add a string and an integer, which does not work. \n",
    "\n",
    "With the above information, you can work out how to solve the problem."
   ]
  },
  {
   "cell_type": "markdown",
   "metadata": {},
   "source": [
    "### Challenge 10\n",
    "\n",
    "Run the code blocks below, identify the errors based on the stack traces, and correct the code."
   ]
  },
  {
   "cell_type": "code",
   "execution_count": null,
   "metadata": {},
   "outputs": [],
   "source": [
    "def add(num1, num2)\n",
    "    num1 + num2"
   ]
  },
  {
   "cell_type": "code",
   "execution_count": null,
   "metadata": {},
   "outputs": [],
   "source": [
    "def multiply(num1, num2):\n",
    "    return num1 * num2\n",
    "\n",
    "multiply(3,4,5)"
   ]
  },
  {
   "cell_type": "markdown",
   "metadata": {},
   "source": [
    "## Lists, tuples, and dictionaries"
   ]
  },
  {
   "cell_type": "markdown",
   "metadata": {},
   "source": [
    "So far, we've used variables to store individual values. When programming, you'll often want to store many more values than that.\n",
    "\n",
    "List, tuples, and dictionaries are all example of **data structures** - places to store multiple pieces of information together. These three data structures are all quite similar, but they do have key differences.\n",
    "\n",
    "When thinking about these structures, it's important to bear three key terms in mind:\n",
    "\n",
    "1. **ordered** - the items in a structure are always in the same order\n",
    "2. **indexed** - any item in a structure is accessible directly if you know the **index value**.\n",
    "3. **mutable** - the items in a structure can be changed"
   ]
  },
  {
   "cell_type": "markdown",
   "metadata": {},
   "source": [
    "### Lists\n",
    "\n",
    "Lists can store values of any type. The values in a list are referred to as **elements** or **items**.\n",
    "\n",
    "Lists are ordered, *numerically*-indexed, and mutable.\n",
    "\n",
    "\n",
    "Lists are created using square brackets, and the elements are separated by commas.\n",
    "\n",
    "\n",
    "As lists are numerically indexed, you can access any time just by knowing its position in the list. In Python (and in many other programming languages), numerical indexes start at 0, so the first item in a list is found at index 0, the second at at index 1, and so on."
   ]
  },
  {
   "cell_type": "code",
   "execution_count": null,
   "metadata": {},
   "outputs": [],
   "source": [
    "# Creating a list\n",
    "\n",
    "\n",
    "# Accessing a value by index in a list\n",
    "\n",
    "\n",
    "# Changing an item in a list\n",
    "\n",
    "\n",
    "# Appending an item to a list\n",
    "\n"
   ]
  },
  {
   "cell_type": "markdown",
   "metadata": {},
   "source": [
    "### Tuples\n",
    "\n",
    "Tuples are very similar to lists, with two key differences. Firstly, tuples are created by using round brackets, instead of square.\n",
    "\n",
    "Secondly, while tuples are ordered and numerically indexed, they are **immutable** - once you have created a tuple, you cannot add or change any elements."
   ]
  },
  {
   "cell_type": "code",
   "execution_count": null,
   "metadata": {},
   "outputs": [],
   "source": [
    "# Creating a tuple\n",
    "\n",
    "\n",
    "# Accessing a value by index in a tuple\n",
    "\n"
   ]
  },
  {
   "cell_type": "markdown",
   "metadata": {},
   "source": [
    "### Dictionaries\n",
    "\n",
    "Dictionaries are **un**ordered, indexed **non**-numerically, and mutable. \n",
    "\n",
    "Instead of storing values in ordered slots, each with a numeric index, dictionaries store sequences of key-value pairs. You can access a value in a dictionary if you know the key.\n",
    "\n",
    "Dictionaries are created using curly brackets. Each key is separated from the associated value by a colon, and key-value pairs are separated with commas. "
   ]
  },
  {
   "cell_type": "code",
   "execution_count": null,
   "metadata": {},
   "outputs": [],
   "source": [
    "# Creating a dictionary\n",
    "\n",
    "\n",
    "# Accessing a value by index in a dictionary\n",
    "\n",
    "\n",
    "# Changing an item in a dictionary\n",
    "\n",
    "\n",
    "# Appending an item to a dictionary"
   ]
  },
  {
   "cell_type": "markdown",
   "metadata": {},
   "source": [
    "## Extra challenges"
   ]
  },
  {
   "cell_type": "markdown",
   "metadata": {},
   "source": [
    "Create a program in which:\n",
    "\n",
    "* The computer randomly generates a number\n",
    "* The user has five attempts to guess the number\n",
    "* After each guess, the computer outputs if the guess was too high or too low"
   ]
  },
  {
   "cell_type": "code",
   "execution_count": null,
   "metadata": {},
   "outputs": [],
   "source": []
  },
  {
   "cell_type": "markdown",
   "metadata": {},
   "source": [
    "Create a program in which:\n",
    "\n",
    "* The user enters two integers\n",
    "* The user enters a mathematical operation (addition, subtraction, etc.)\n",
    "* The program outputs the result of the operation on the two numbers\n",
    "* The program restarts"
   ]
  },
  {
   "cell_type": "code",
   "execution_count": null,
   "metadata": {},
   "outputs": [],
   "source": []
  }
 ],
 "metadata": {
  "kernelspec": {
   "display_name": "Python 3",
   "language": "python",
   "name": "python3"
  },
  "language_info": {
   "codemirror_mode": {
    "name": "ipython",
    "version": 3
   },
   "file_extension": ".py",
   "mimetype": "text/x-python",
   "name": "python",
   "nbconvert_exporter": "python",
   "pygments_lexer": "ipython3",
   "version": "3.7.0"
  }
 },
 "nbformat": 4,
 "nbformat_minor": 2
}
